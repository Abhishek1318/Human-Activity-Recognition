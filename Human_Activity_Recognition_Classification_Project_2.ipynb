{
  "cells": [
    {
      "cell_type": "code",
      "source": [
        "import pandas as pd\n",
        "import numpy as np\n",
        "import matplotlib.pyplot as plt"
      ],
      "metadata": {
        "id": "NEBcvII6hWqX"
      },
      "execution_count": 1,
      "outputs": []
    },
    {
      "cell_type": "code",
      "source": [
        "import io\n",
        "from google.colab import files\n",
        "uploaded = files.upload()"
      ],
      "metadata": {
        "colab": {
          "resources": {
            "http://localhost:8080/nbextensions/google.colab/files.js": {
              "data": "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",
              "ok": true,
              "headers": [
                [
                  "content-type",
                  "application/javascript"
                ]
              ],
              "status": 200,
              "status_text": ""
            }
          },
          "base_uri": "https://localhost:8080/",
          "height": 73
        },
        "id": "ZVcxbh3dkwox",
        "outputId": "2c4bf9be-47f3-4f84-8d97-5a541e85c2d5"
      },
      "execution_count": 8,
      "outputs": [
        {
          "output_type": "display_data",
          "data": {
            "text/plain": [
              "<IPython.core.display.HTML object>"
            ],
            "text/html": [
              "\n",
              "     <input type=\"file\" id=\"files-6813b337-699e-4724-b6fe-4e88a498db51\" name=\"files[]\" multiple disabled\n",
              "        style=\"border:none\" />\n",
              "     <output id=\"result-6813b337-699e-4724-b6fe-4e88a498db51\">\n",
              "      Upload widget is only available when the cell has been executed in the\n",
              "      current browser session. Please rerun this cell to enable.\n",
              "      </output>\n",
              "      <script src=\"/nbextensions/google.colab/files.js\"></script> "
            ]
          },
          "metadata": {}
        },
        {
          "output_type": "stream",
          "name": "stdout",
          "text": [
            "Saving test.csv to test.csv\n"
          ]
        }
      ]
    },
    {
      "cell_type": "code",
      "source": [
        "dt_ts = pd.read_csv(io.BytesIO(uploaded['test.csv']))\n"
      ],
      "metadata": {
        "id": "5l9X8F1Zhhh-"
      },
      "execution_count": 11,
      "outputs": []
    },
    {
      "cell_type": "code",
      "source": [
        "import io\n",
        "from google.colab import files\n",
        "uploaded1 = files.upload()"
      ],
      "metadata": {
        "colab": {
          "resources": {
            "http://localhost:8080/nbextensions/google.colab/files.js": {
              "data": "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",
              "ok": true,
              "headers": [
                [
                  "content-type",
                  "application/javascript"
                ]
              ],
              "status": 200,
              "status_text": ""
            }
          },
          "base_uri": "https://localhost:8080/",
          "height": 73
        },
        "id": "JphWxW8QqNhg",
        "outputId": "ea854bd9-cfc3-4796-b2d9-8ebe83c3dba1"
      },
      "execution_count": 2,
      "outputs": [
        {
          "output_type": "display_data",
          "data": {
            "text/plain": [
              "<IPython.core.display.HTML object>"
            ],
            "text/html": [
              "\n",
              "     <input type=\"file\" id=\"files-71c3b670-9e23-4ca1-b2f4-3cd9688afc98\" name=\"files[]\" multiple disabled\n",
              "        style=\"border:none\" />\n",
              "     <output id=\"result-71c3b670-9e23-4ca1-b2f4-3cd9688afc98\">\n",
              "      Upload widget is only available when the cell has been executed in the\n",
              "      current browser session. Please rerun this cell to enable.\n",
              "      </output>\n",
              "      <script src=\"/nbextensions/google.colab/files.js\"></script> "
            ]
          },
          "metadata": {}
        },
        {
          "output_type": "stream",
          "name": "stdout",
          "text": [
            "Saving train.csv to train.csv\n"
          ]
        }
      ]
    },
    {
      "cell_type": "code",
      "source": [
        "dt_tr = pd.read_csv('train.csv')\n"
      ],
      "metadata": {
        "id": "EqP2Xa6wAMwE"
      },
      "execution_count": 7,
      "outputs": []
    },
    {
      "cell_type": "code",
      "execution_count": 22,
      "metadata": {
        "colab": {
          "base_uri": "https://localhost:8080/"
        },
        "id": "_T4NzmQ3qT7l",
        "outputId": "4b771a4b-9901-42f2-9b53-bb10fa706362"
      },
      "outputs": [
        {
          "output_type": "stream",
          "name": "stdout",
          "text": [
            "Looking in indexes: https://pypi.org/simple, https://us-python.pkg.dev/colab-wheels/public/simple/\n",
            "Collecting scikit_plot\n",
            "  Downloading scikit_plot-0.3.7-py3-none-any.whl (33 kB)\n",
            "Requirement already satisfied: matplotlib>=1.4.0 in /usr/local/lib/python3.7/dist-packages (from scikit_plot) (3.2.2)\n",
            "Requirement already satisfied: joblib>=0.10 in /usr/local/lib/python3.7/dist-packages (from scikit_plot) (1.1.0)\n",
            "Requirement already satisfied: scipy>=0.9 in /usr/local/lib/python3.7/dist-packages (from scikit_plot) (1.4.1)\n",
            "Requirement already satisfied: scikit-learn>=0.18 in /usr/local/lib/python3.7/dist-packages (from scikit_plot) (1.0.2)\n",
            "Requirement already satisfied: numpy>=1.11 in /usr/local/lib/python3.7/dist-packages (from matplotlib>=1.4.0->scikit_plot) (1.21.6)\n",
            "Requirement already satisfied: pyparsing!=2.0.4,!=2.1.2,!=2.1.6,>=2.0.1 in /usr/local/lib/python3.7/dist-packages (from matplotlib>=1.4.0->scikit_plot) (3.0.9)\n",
            "Requirement already satisfied: python-dateutil>=2.1 in /usr/local/lib/python3.7/dist-packages (from matplotlib>=1.4.0->scikit_plot) (2.8.2)\n",
            "Requirement already satisfied: cycler>=0.10 in /usr/local/lib/python3.7/dist-packages (from matplotlib>=1.4.0->scikit_plot) (0.11.0)\n",
            "Requirement already satisfied: kiwisolver>=1.0.1 in /usr/local/lib/python3.7/dist-packages (from matplotlib>=1.4.0->scikit_plot) (1.4.2)\n",
            "Requirement already satisfied: typing-extensions in /usr/local/lib/python3.7/dist-packages (from kiwisolver>=1.0.1->matplotlib>=1.4.0->scikit_plot) (4.2.0)\n",
            "Requirement already satisfied: six>=1.5 in /usr/local/lib/python3.7/dist-packages (from python-dateutil>=2.1->matplotlib>=1.4.0->scikit_plot) (1.15.0)\n",
            "Requirement already satisfied: threadpoolctl>=2.0.0 in /usr/local/lib/python3.7/dist-packages (from scikit-learn>=0.18->scikit_plot) (3.1.0)\n",
            "Installing collected packages: scikit-plot\n",
            "Successfully installed scikit-plot-0.3.7\n"
          ]
        }
      ],
      "source": [
        "pip install scikit_plot"
      ]
    },
    {
      "cell_type": "code",
      "execution_count": 12,
      "metadata": {
        "colab": {
          "base_uri": "https://localhost:8080/",
          "height": 317
        },
        "id": "VfKrN4AJqT7m",
        "outputId": "44759f5f-230f-4784-9c21-becf43effe09"
      },
      "outputs": [
        {
          "output_type": "execute_result",
          "data": {
            "text/plain": [
              "   tBodyAcc-mean()-X  tBodyAcc-mean()-Y  tBodyAcc-mean()-Z  tBodyAcc-std()-X  \\\n",
              "0           0.288585          -0.020294          -0.132905         -0.995279   \n",
              "1           0.278419          -0.016411          -0.123520         -0.998245   \n",
              "2           0.279653          -0.019467          -0.113462         -0.995380   \n",
              "3           0.279174          -0.026201          -0.123283         -0.996091   \n",
              "4           0.276629          -0.016570          -0.115362         -0.998139   \n",
              "\n",
              "   tBodyAcc-std()-Y  tBodyAcc-std()-Z  tBodyAcc-mad()-X  tBodyAcc-mad()-Y  \\\n",
              "0         -0.983111         -0.913526         -0.995112         -0.983185   \n",
              "1         -0.975300         -0.960322         -0.998807         -0.974914   \n",
              "2         -0.967187         -0.978944         -0.996520         -0.963668   \n",
              "3         -0.983403         -0.990675         -0.997099         -0.982750   \n",
              "4         -0.980817         -0.990482         -0.998321         -0.979672   \n",
              "\n",
              "   tBodyAcc-mad()-Z  tBodyAcc-max()-X  ...  fBodyBodyGyroJerkMag-kurtosis()  \\\n",
              "0         -0.923527         -0.934724  ...                        -0.710304   \n",
              "1         -0.957686         -0.943068  ...                        -0.861499   \n",
              "2         -0.977469         -0.938692  ...                        -0.760104   \n",
              "3         -0.989302         -0.938692  ...                        -0.482845   \n",
              "4         -0.990441         -0.942469  ...                        -0.699205   \n",
              "\n",
              "   angle(tBodyAccMean,gravity)  angle(tBodyAccJerkMean),gravityMean)  \\\n",
              "0                    -0.112754                              0.030400   \n",
              "1                     0.053477                             -0.007435   \n",
              "2                    -0.118559                              0.177899   \n",
              "3                    -0.036788                             -0.012892   \n",
              "4                     0.123320                              0.122542   \n",
              "\n",
              "   angle(tBodyGyroMean,gravityMean)  angle(tBodyGyroJerkMean,gravityMean)  \\\n",
              "0                         -0.464761                             -0.018446   \n",
              "1                         -0.732626                              0.703511   \n",
              "2                          0.100699                              0.808529   \n",
              "3                          0.640011                             -0.485366   \n",
              "4                          0.693578                             -0.615971   \n",
              "\n",
              "   angle(X,gravityMean)  angle(Y,gravityMean)  angle(Z,gravityMean)  subject  \\\n",
              "0             -0.841247              0.179941             -0.058627        1   \n",
              "1             -0.844788              0.180289             -0.054317        1   \n",
              "2             -0.848933              0.180637             -0.049118        1   \n",
              "3             -0.848649              0.181935             -0.047663        1   \n",
              "4             -0.847865              0.185151             -0.043892        1   \n",
              "\n",
              "   Activity  \n",
              "0  STANDING  \n",
              "1  STANDING  \n",
              "2  STANDING  \n",
              "3  STANDING  \n",
              "4  STANDING  \n",
              "\n",
              "[5 rows x 563 columns]"
            ],
            "text/html": [
              "\n",
              "  <div id=\"df-e0b14469-e64c-4260-911f-f7e4c8363319\">\n",
              "    <div class=\"colab-df-container\">\n",
              "      <div>\n",
              "<style scoped>\n",
              "    .dataframe tbody tr th:only-of-type {\n",
              "        vertical-align: middle;\n",
              "    }\n",
              "\n",
              "    .dataframe tbody tr th {\n",
              "        vertical-align: top;\n",
              "    }\n",
              "\n",
              "    .dataframe thead th {\n",
              "        text-align: right;\n",
              "    }\n",
              "</style>\n",
              "<table border=\"1\" class=\"dataframe\">\n",
              "  <thead>\n",
              "    <tr style=\"text-align: right;\">\n",
              "      <th></th>\n",
              "      <th>tBodyAcc-mean()-X</th>\n",
              "      <th>tBodyAcc-mean()-Y</th>\n",
              "      <th>tBodyAcc-mean()-Z</th>\n",
              "      <th>tBodyAcc-std()-X</th>\n",
              "      <th>tBodyAcc-std()-Y</th>\n",
              "      <th>tBodyAcc-std()-Z</th>\n",
              "      <th>tBodyAcc-mad()-X</th>\n",
              "      <th>tBodyAcc-mad()-Y</th>\n",
              "      <th>tBodyAcc-mad()-Z</th>\n",
              "      <th>tBodyAcc-max()-X</th>\n",
              "      <th>...</th>\n",
              "      <th>fBodyBodyGyroJerkMag-kurtosis()</th>\n",
              "      <th>angle(tBodyAccMean,gravity)</th>\n",
              "      <th>angle(tBodyAccJerkMean),gravityMean)</th>\n",
              "      <th>angle(tBodyGyroMean,gravityMean)</th>\n",
              "      <th>angle(tBodyGyroJerkMean,gravityMean)</th>\n",
              "      <th>angle(X,gravityMean)</th>\n",
              "      <th>angle(Y,gravityMean)</th>\n",
              "      <th>angle(Z,gravityMean)</th>\n",
              "      <th>subject</th>\n",
              "      <th>Activity</th>\n",
              "    </tr>\n",
              "  </thead>\n",
              "  <tbody>\n",
              "    <tr>\n",
              "      <th>0</th>\n",
              "      <td>0.288585</td>\n",
              "      <td>-0.020294</td>\n",
              "      <td>-0.132905</td>\n",
              "      <td>-0.995279</td>\n",
              "      <td>-0.983111</td>\n",
              "      <td>-0.913526</td>\n",
              "      <td>-0.995112</td>\n",
              "      <td>-0.983185</td>\n",
              "      <td>-0.923527</td>\n",
              "      <td>-0.934724</td>\n",
              "      <td>...</td>\n",
              "      <td>-0.710304</td>\n",
              "      <td>-0.112754</td>\n",
              "      <td>0.030400</td>\n",
              "      <td>-0.464761</td>\n",
              "      <td>-0.018446</td>\n",
              "      <td>-0.841247</td>\n",
              "      <td>0.179941</td>\n",
              "      <td>-0.058627</td>\n",
              "      <td>1</td>\n",
              "      <td>STANDING</td>\n",
              "    </tr>\n",
              "    <tr>\n",
              "      <th>1</th>\n",
              "      <td>0.278419</td>\n",
              "      <td>-0.016411</td>\n",
              "      <td>-0.123520</td>\n",
              "      <td>-0.998245</td>\n",
              "      <td>-0.975300</td>\n",
              "      <td>-0.960322</td>\n",
              "      <td>-0.998807</td>\n",
              "      <td>-0.974914</td>\n",
              "      <td>-0.957686</td>\n",
              "      <td>-0.943068</td>\n",
              "      <td>...</td>\n",
              "      <td>-0.861499</td>\n",
              "      <td>0.053477</td>\n",
              "      <td>-0.007435</td>\n",
              "      <td>-0.732626</td>\n",
              "      <td>0.703511</td>\n",
              "      <td>-0.844788</td>\n",
              "      <td>0.180289</td>\n",
              "      <td>-0.054317</td>\n",
              "      <td>1</td>\n",
              "      <td>STANDING</td>\n",
              "    </tr>\n",
              "    <tr>\n",
              "      <th>2</th>\n",
              "      <td>0.279653</td>\n",
              "      <td>-0.019467</td>\n",
              "      <td>-0.113462</td>\n",
              "      <td>-0.995380</td>\n",
              "      <td>-0.967187</td>\n",
              "      <td>-0.978944</td>\n",
              "      <td>-0.996520</td>\n",
              "      <td>-0.963668</td>\n",
              "      <td>-0.977469</td>\n",
              "      <td>-0.938692</td>\n",
              "      <td>...</td>\n",
              "      <td>-0.760104</td>\n",
              "      <td>-0.118559</td>\n",
              "      <td>0.177899</td>\n",
              "      <td>0.100699</td>\n",
              "      <td>0.808529</td>\n",
              "      <td>-0.848933</td>\n",
              "      <td>0.180637</td>\n",
              "      <td>-0.049118</td>\n",
              "      <td>1</td>\n",
              "      <td>STANDING</td>\n",
              "    </tr>\n",
              "    <tr>\n",
              "      <th>3</th>\n",
              "      <td>0.279174</td>\n",
              "      <td>-0.026201</td>\n",
              "      <td>-0.123283</td>\n",
              "      <td>-0.996091</td>\n",
              "      <td>-0.983403</td>\n",
              "      <td>-0.990675</td>\n",
              "      <td>-0.997099</td>\n",
              "      <td>-0.982750</td>\n",
              "      <td>-0.989302</td>\n",
              "      <td>-0.938692</td>\n",
              "      <td>...</td>\n",
              "      <td>-0.482845</td>\n",
              "      <td>-0.036788</td>\n",
              "      <td>-0.012892</td>\n",
              "      <td>0.640011</td>\n",
              "      <td>-0.485366</td>\n",
              "      <td>-0.848649</td>\n",
              "      <td>0.181935</td>\n",
              "      <td>-0.047663</td>\n",
              "      <td>1</td>\n",
              "      <td>STANDING</td>\n",
              "    </tr>\n",
              "    <tr>\n",
              "      <th>4</th>\n",
              "      <td>0.276629</td>\n",
              "      <td>-0.016570</td>\n",
              "      <td>-0.115362</td>\n",
              "      <td>-0.998139</td>\n",
              "      <td>-0.980817</td>\n",
              "      <td>-0.990482</td>\n",
              "      <td>-0.998321</td>\n",
              "      <td>-0.979672</td>\n",
              "      <td>-0.990441</td>\n",
              "      <td>-0.942469</td>\n",
              "      <td>...</td>\n",
              "      <td>-0.699205</td>\n",
              "      <td>0.123320</td>\n",
              "      <td>0.122542</td>\n",
              "      <td>0.693578</td>\n",
              "      <td>-0.615971</td>\n",
              "      <td>-0.847865</td>\n",
              "      <td>0.185151</td>\n",
              "      <td>-0.043892</td>\n",
              "      <td>1</td>\n",
              "      <td>STANDING</td>\n",
              "    </tr>\n",
              "  </tbody>\n",
              "</table>\n",
              "<p>5 rows × 563 columns</p>\n",
              "</div>\n",
              "      <button class=\"colab-df-convert\" onclick=\"convertToInteractive('df-e0b14469-e64c-4260-911f-f7e4c8363319')\"\n",
              "              title=\"Convert this dataframe to an interactive table.\"\n",
              "              style=\"display:none;\">\n",
              "        \n",
              "  <svg xmlns=\"http://www.w3.org/2000/svg\" height=\"24px\"viewBox=\"0 0 24 24\"\n",
              "       width=\"24px\">\n",
              "    <path d=\"M0 0h24v24H0V0z\" fill=\"none\"/>\n",
              "    <path d=\"M18.56 5.44l.94 2.06.94-2.06 2.06-.94-2.06-.94-.94-2.06-.94 2.06-2.06.94zm-11 1L8.5 8.5l.94-2.06 2.06-.94-2.06-.94L8.5 2.5l-.94 2.06-2.06.94zm10 10l.94 2.06.94-2.06 2.06-.94-2.06-.94-.94-2.06-.94 2.06-2.06.94z\"/><path d=\"M17.41 7.96l-1.37-1.37c-.4-.4-.92-.59-1.43-.59-.52 0-1.04.2-1.43.59L10.3 9.45l-7.72 7.72c-.78.78-.78 2.05 0 2.83L4 21.41c.39.39.9.59 1.41.59.51 0 1.02-.2 1.41-.59l7.78-7.78 2.81-2.81c.8-.78.8-2.07 0-2.86zM5.41 20L4 18.59l7.72-7.72 1.47 1.35L5.41 20z\"/>\n",
              "  </svg>\n",
              "      </button>\n",
              "      \n",
              "  <style>\n",
              "    .colab-df-container {\n",
              "      display:flex;\n",
              "      flex-wrap:wrap;\n",
              "      gap: 12px;\n",
              "    }\n",
              "\n",
              "    .colab-df-convert {\n",
              "      background-color: #E8F0FE;\n",
              "      border: none;\n",
              "      border-radius: 50%;\n",
              "      cursor: pointer;\n",
              "      display: none;\n",
              "      fill: #1967D2;\n",
              "      height: 32px;\n",
              "      padding: 0 0 0 0;\n",
              "      width: 32px;\n",
              "    }\n",
              "\n",
              "    .colab-df-convert:hover {\n",
              "      background-color: #E2EBFA;\n",
              "      box-shadow: 0px 1px 2px rgba(60, 64, 67, 0.3), 0px 1px 3px 1px rgba(60, 64, 67, 0.15);\n",
              "      fill: #174EA6;\n",
              "    }\n",
              "\n",
              "    [theme=dark] .colab-df-convert {\n",
              "      background-color: #3B4455;\n",
              "      fill: #D2E3FC;\n",
              "    }\n",
              "\n",
              "    [theme=dark] .colab-df-convert:hover {\n",
              "      background-color: #434B5C;\n",
              "      box-shadow: 0px 1px 3px 1px rgba(0, 0, 0, 0.15);\n",
              "      filter: drop-shadow(0px 1px 2px rgba(0, 0, 0, 0.3));\n",
              "      fill: #FFFFFF;\n",
              "    }\n",
              "  </style>\n",
              "\n",
              "      <script>\n",
              "        const buttonEl =\n",
              "          document.querySelector('#df-e0b14469-e64c-4260-911f-f7e4c8363319 button.colab-df-convert');\n",
              "        buttonEl.style.display =\n",
              "          google.colab.kernel.accessAllowed ? 'block' : 'none';\n",
              "\n",
              "        async function convertToInteractive(key) {\n",
              "          const element = document.querySelector('#df-e0b14469-e64c-4260-911f-f7e4c8363319');\n",
              "          const dataTable =\n",
              "            await google.colab.kernel.invokeFunction('convertToInteractive',\n",
              "                                                     [key], {});\n",
              "          if (!dataTable) return;\n",
              "\n",
              "          const docLinkHtml = 'Like what you see? Visit the ' +\n",
              "            '<a target=\"_blank\" href=https://colab.research.google.com/notebooks/data_table.ipynb>data table notebook</a>'\n",
              "            + ' to learn more about interactive tables.';\n",
              "          element.innerHTML = '';\n",
              "          dataTable['output_type'] = 'display_data';\n",
              "          await google.colab.output.renderOutput(dataTable, element);\n",
              "          const docLink = document.createElement('div');\n",
              "          docLink.innerHTML = docLinkHtml;\n",
              "          element.appendChild(docLink);\n",
              "        }\n",
              "      </script>\n",
              "    </div>\n",
              "  </div>\n",
              "  "
            ]
          },
          "metadata": {},
          "execution_count": 12
        }
      ],
      "source": [
        "dt_tr.head()"
      ]
    },
    {
      "cell_type": "code",
      "execution_count": 13,
      "metadata": {
        "colab": {
          "base_uri": "https://localhost:8080/",
          "height": 317
        },
        "id": "2E147NSwqT7m",
        "outputId": "2202a4a2-e889-42de-ce80-3edb794f707b"
      },
      "outputs": [
        {
          "output_type": "execute_result",
          "data": {
            "text/plain": [
              "   tBodyAcc-mean()-X  tBodyAcc-mean()-Y  tBodyAcc-mean()-Z  tBodyAcc-std()-X  \\\n",
              "0           0.257178          -0.023285          -0.014654         -0.938404   \n",
              "1           0.286027          -0.013163          -0.119083         -0.975415   \n",
              "2           0.275485          -0.026050          -0.118152         -0.993819   \n",
              "3           0.270298          -0.032614          -0.117520         -0.994743   \n",
              "4           0.274833          -0.027848          -0.129527         -0.993852   \n",
              "\n",
              "   tBodyAcc-std()-Y  tBodyAcc-std()-Z  tBodyAcc-mad()-X  tBodyAcc-mad()-Y  \\\n",
              "0         -0.920091         -0.667683         -0.952501         -0.925249   \n",
              "1         -0.967458         -0.944958         -0.986799         -0.968401   \n",
              "2         -0.969926         -0.962748         -0.994403         -0.970735   \n",
              "3         -0.973268         -0.967091         -0.995274         -0.974471   \n",
              "4         -0.967445         -0.978295         -0.994111         -0.965953   \n",
              "\n",
              "   tBodyAcc-mad()-Z  tBodyAcc-max()-X  ...  fBodyBodyGyroJerkMag-kurtosis()  \\\n",
              "0         -0.674302         -0.894088  ...                        -0.705974   \n",
              "1         -0.945823         -0.894088  ...                        -0.594944   \n",
              "2         -0.963483         -0.939260  ...                        -0.640736   \n",
              "3         -0.968897         -0.938610  ...                        -0.736124   \n",
              "4         -0.977346         -0.938610  ...                        -0.846595   \n",
              "\n",
              "   angle(tBodyAccMean,gravity)  angle(tBodyAccJerkMean),gravityMean)  \\\n",
              "0                     0.006462                              0.162920   \n",
              "1                    -0.083495                              0.017500   \n",
              "2                    -0.034956                              0.202302   \n",
              "3                    -0.017067                              0.154438   \n",
              "4                    -0.002223                             -0.040046   \n",
              "\n",
              "   angle(tBodyGyroMean,gravityMean)  angle(tBodyGyroJerkMean,gravityMean)  \\\n",
              "0                         -0.825886                              0.271151   \n",
              "1                         -0.434375                              0.920593   \n",
              "2                          0.064103                              0.145068   \n",
              "3                          0.340134                              0.296407   \n",
              "4                          0.736715                             -0.118545   \n",
              "\n",
              "   angle(X,gravityMean)  angle(Y,gravityMean)  angle(Z,gravityMean)  subject  \\\n",
              "0             -0.720009              0.276801             -0.057978        2   \n",
              "1             -0.698091              0.281343             -0.083898        2   \n",
              "2             -0.702771              0.280083             -0.079346        2   \n",
              "3             -0.698954              0.284114             -0.077108        2   \n",
              "4             -0.692245              0.290722             -0.073857        2   \n",
              "\n",
              "   Activity  \n",
              "0  STANDING  \n",
              "1  STANDING  \n",
              "2  STANDING  \n",
              "3  STANDING  \n",
              "4  STANDING  \n",
              "\n",
              "[5 rows x 563 columns]"
            ],
            "text/html": [
              "\n",
              "  <div id=\"df-793fe089-bac3-4ce8-b3cb-3c4056ea3c2c\">\n",
              "    <div class=\"colab-df-container\">\n",
              "      <div>\n",
              "<style scoped>\n",
              "    .dataframe tbody tr th:only-of-type {\n",
              "        vertical-align: middle;\n",
              "    }\n",
              "\n",
              "    .dataframe tbody tr th {\n",
              "        vertical-align: top;\n",
              "    }\n",
              "\n",
              "    .dataframe thead th {\n",
              "        text-align: right;\n",
              "    }\n",
              "</style>\n",
              "<table border=\"1\" class=\"dataframe\">\n",
              "  <thead>\n",
              "    <tr style=\"text-align: right;\">\n",
              "      <th></th>\n",
              "      <th>tBodyAcc-mean()-X</th>\n",
              "      <th>tBodyAcc-mean()-Y</th>\n",
              "      <th>tBodyAcc-mean()-Z</th>\n",
              "      <th>tBodyAcc-std()-X</th>\n",
              "      <th>tBodyAcc-std()-Y</th>\n",
              "      <th>tBodyAcc-std()-Z</th>\n",
              "      <th>tBodyAcc-mad()-X</th>\n",
              "      <th>tBodyAcc-mad()-Y</th>\n",
              "      <th>tBodyAcc-mad()-Z</th>\n",
              "      <th>tBodyAcc-max()-X</th>\n",
              "      <th>...</th>\n",
              "      <th>fBodyBodyGyroJerkMag-kurtosis()</th>\n",
              "      <th>angle(tBodyAccMean,gravity)</th>\n",
              "      <th>angle(tBodyAccJerkMean),gravityMean)</th>\n",
              "      <th>angle(tBodyGyroMean,gravityMean)</th>\n",
              "      <th>angle(tBodyGyroJerkMean,gravityMean)</th>\n",
              "      <th>angle(X,gravityMean)</th>\n",
              "      <th>angle(Y,gravityMean)</th>\n",
              "      <th>angle(Z,gravityMean)</th>\n",
              "      <th>subject</th>\n",
              "      <th>Activity</th>\n",
              "    </tr>\n",
              "  </thead>\n",
              "  <tbody>\n",
              "    <tr>\n",
              "      <th>0</th>\n",
              "      <td>0.257178</td>\n",
              "      <td>-0.023285</td>\n",
              "      <td>-0.014654</td>\n",
              "      <td>-0.938404</td>\n",
              "      <td>-0.920091</td>\n",
              "      <td>-0.667683</td>\n",
              "      <td>-0.952501</td>\n",
              "      <td>-0.925249</td>\n",
              "      <td>-0.674302</td>\n",
              "      <td>-0.894088</td>\n",
              "      <td>...</td>\n",
              "      <td>-0.705974</td>\n",
              "      <td>0.006462</td>\n",
              "      <td>0.162920</td>\n",
              "      <td>-0.825886</td>\n",
              "      <td>0.271151</td>\n",
              "      <td>-0.720009</td>\n",
              "      <td>0.276801</td>\n",
              "      <td>-0.057978</td>\n",
              "      <td>2</td>\n",
              "      <td>STANDING</td>\n",
              "    </tr>\n",
              "    <tr>\n",
              "      <th>1</th>\n",
              "      <td>0.286027</td>\n",
              "      <td>-0.013163</td>\n",
              "      <td>-0.119083</td>\n",
              "      <td>-0.975415</td>\n",
              "      <td>-0.967458</td>\n",
              "      <td>-0.944958</td>\n",
              "      <td>-0.986799</td>\n",
              "      <td>-0.968401</td>\n",
              "      <td>-0.945823</td>\n",
              "      <td>-0.894088</td>\n",
              "      <td>...</td>\n",
              "      <td>-0.594944</td>\n",
              "      <td>-0.083495</td>\n",
              "      <td>0.017500</td>\n",
              "      <td>-0.434375</td>\n",
              "      <td>0.920593</td>\n",
              "      <td>-0.698091</td>\n",
              "      <td>0.281343</td>\n",
              "      <td>-0.083898</td>\n",
              "      <td>2</td>\n",
              "      <td>STANDING</td>\n",
              "    </tr>\n",
              "    <tr>\n",
              "      <th>2</th>\n",
              "      <td>0.275485</td>\n",
              "      <td>-0.026050</td>\n",
              "      <td>-0.118152</td>\n",
              "      <td>-0.993819</td>\n",
              "      <td>-0.969926</td>\n",
              "      <td>-0.962748</td>\n",
              "      <td>-0.994403</td>\n",
              "      <td>-0.970735</td>\n",
              "      <td>-0.963483</td>\n",
              "      <td>-0.939260</td>\n",
              "      <td>...</td>\n",
              "      <td>-0.640736</td>\n",
              "      <td>-0.034956</td>\n",
              "      <td>0.202302</td>\n",
              "      <td>0.064103</td>\n",
              "      <td>0.145068</td>\n",
              "      <td>-0.702771</td>\n",
              "      <td>0.280083</td>\n",
              "      <td>-0.079346</td>\n",
              "      <td>2</td>\n",
              "      <td>STANDING</td>\n",
              "    </tr>\n",
              "    <tr>\n",
              "      <th>3</th>\n",
              "      <td>0.270298</td>\n",
              "      <td>-0.032614</td>\n",
              "      <td>-0.117520</td>\n",
              "      <td>-0.994743</td>\n",
              "      <td>-0.973268</td>\n",
              "      <td>-0.967091</td>\n",
              "      <td>-0.995274</td>\n",
              "      <td>-0.974471</td>\n",
              "      <td>-0.968897</td>\n",
              "      <td>-0.938610</td>\n",
              "      <td>...</td>\n",
              "      <td>-0.736124</td>\n",
              "      <td>-0.017067</td>\n",
              "      <td>0.154438</td>\n",
              "      <td>0.340134</td>\n",
              "      <td>0.296407</td>\n",
              "      <td>-0.698954</td>\n",
              "      <td>0.284114</td>\n",
              "      <td>-0.077108</td>\n",
              "      <td>2</td>\n",
              "      <td>STANDING</td>\n",
              "    </tr>\n",
              "    <tr>\n",
              "      <th>4</th>\n",
              "      <td>0.274833</td>\n",
              "      <td>-0.027848</td>\n",
              "      <td>-0.129527</td>\n",
              "      <td>-0.993852</td>\n",
              "      <td>-0.967445</td>\n",
              "      <td>-0.978295</td>\n",
              "      <td>-0.994111</td>\n",
              "      <td>-0.965953</td>\n",
              "      <td>-0.977346</td>\n",
              "      <td>-0.938610</td>\n",
              "      <td>...</td>\n",
              "      <td>-0.846595</td>\n",
              "      <td>-0.002223</td>\n",
              "      <td>-0.040046</td>\n",
              "      <td>0.736715</td>\n",
              "      <td>-0.118545</td>\n",
              "      <td>-0.692245</td>\n",
              "      <td>0.290722</td>\n",
              "      <td>-0.073857</td>\n",
              "      <td>2</td>\n",
              "      <td>STANDING</td>\n",
              "    </tr>\n",
              "  </tbody>\n",
              "</table>\n",
              "<p>5 rows × 563 columns</p>\n",
              "</div>\n",
              "      <button class=\"colab-df-convert\" onclick=\"convertToInteractive('df-793fe089-bac3-4ce8-b3cb-3c4056ea3c2c')\"\n",
              "              title=\"Convert this dataframe to an interactive table.\"\n",
              "              style=\"display:none;\">\n",
              "        \n",
              "  <svg xmlns=\"http://www.w3.org/2000/svg\" height=\"24px\"viewBox=\"0 0 24 24\"\n",
              "       width=\"24px\">\n",
              "    <path d=\"M0 0h24v24H0V0z\" fill=\"none\"/>\n",
              "    <path d=\"M18.56 5.44l.94 2.06.94-2.06 2.06-.94-2.06-.94-.94-2.06-.94 2.06-2.06.94zm-11 1L8.5 8.5l.94-2.06 2.06-.94-2.06-.94L8.5 2.5l-.94 2.06-2.06.94zm10 10l.94 2.06.94-2.06 2.06-.94-2.06-.94-.94-2.06-.94 2.06-2.06.94z\"/><path d=\"M17.41 7.96l-1.37-1.37c-.4-.4-.92-.59-1.43-.59-.52 0-1.04.2-1.43.59L10.3 9.45l-7.72 7.72c-.78.78-.78 2.05 0 2.83L4 21.41c.39.39.9.59 1.41.59.51 0 1.02-.2 1.41-.59l7.78-7.78 2.81-2.81c.8-.78.8-2.07 0-2.86zM5.41 20L4 18.59l7.72-7.72 1.47 1.35L5.41 20z\"/>\n",
              "  </svg>\n",
              "      </button>\n",
              "      \n",
              "  <style>\n",
              "    .colab-df-container {\n",
              "      display:flex;\n",
              "      flex-wrap:wrap;\n",
              "      gap: 12px;\n",
              "    }\n",
              "\n",
              "    .colab-df-convert {\n",
              "      background-color: #E8F0FE;\n",
              "      border: none;\n",
              "      border-radius: 50%;\n",
              "      cursor: pointer;\n",
              "      display: none;\n",
              "      fill: #1967D2;\n",
              "      height: 32px;\n",
              "      padding: 0 0 0 0;\n",
              "      width: 32px;\n",
              "    }\n",
              "\n",
              "    .colab-df-convert:hover {\n",
              "      background-color: #E2EBFA;\n",
              "      box-shadow: 0px 1px 2px rgba(60, 64, 67, 0.3), 0px 1px 3px 1px rgba(60, 64, 67, 0.15);\n",
              "      fill: #174EA6;\n",
              "    }\n",
              "\n",
              "    [theme=dark] .colab-df-convert {\n",
              "      background-color: #3B4455;\n",
              "      fill: #D2E3FC;\n",
              "    }\n",
              "\n",
              "    [theme=dark] .colab-df-convert:hover {\n",
              "      background-color: #434B5C;\n",
              "      box-shadow: 0px 1px 3px 1px rgba(0, 0, 0, 0.15);\n",
              "      filter: drop-shadow(0px 1px 2px rgba(0, 0, 0, 0.3));\n",
              "      fill: #FFFFFF;\n",
              "    }\n",
              "  </style>\n",
              "\n",
              "      <script>\n",
              "        const buttonEl =\n",
              "          document.querySelector('#df-793fe089-bac3-4ce8-b3cb-3c4056ea3c2c button.colab-df-convert');\n",
              "        buttonEl.style.display =\n",
              "          google.colab.kernel.accessAllowed ? 'block' : 'none';\n",
              "\n",
              "        async function convertToInteractive(key) {\n",
              "          const element = document.querySelector('#df-793fe089-bac3-4ce8-b3cb-3c4056ea3c2c');\n",
              "          const dataTable =\n",
              "            await google.colab.kernel.invokeFunction('convertToInteractive',\n",
              "                                                     [key], {});\n",
              "          if (!dataTable) return;\n",
              "\n",
              "          const docLinkHtml = 'Like what you see? Visit the ' +\n",
              "            '<a target=\"_blank\" href=https://colab.research.google.com/notebooks/data_table.ipynb>data table notebook</a>'\n",
              "            + ' to learn more about interactive tables.';\n",
              "          element.innerHTML = '';\n",
              "          dataTable['output_type'] = 'display_data';\n",
              "          await google.colab.output.renderOutput(dataTable, element);\n",
              "          const docLink = document.createElement('div');\n",
              "          docLink.innerHTML = docLinkHtml;\n",
              "          element.appendChild(docLink);\n",
              "        }\n",
              "      </script>\n",
              "    </div>\n",
              "  </div>\n",
              "  "
            ]
          },
          "metadata": {},
          "execution_count": 13
        }
      ],
      "source": [
        "dt_ts.head()"
      ]
    },
    {
      "cell_type": "code",
      "execution_count": 14,
      "metadata": {
        "scrolled": true,
        "colab": {
          "base_uri": "https://localhost:8080/"
        },
        "id": "AcY8dv5kqT7n",
        "outputId": "39d71f32-c066-4e9a-9bef-ff5029f1fe25"
      },
      "outputs": [
        {
          "output_type": "execute_result",
          "data": {
            "text/plain": [
              "LAYING                1407\n",
              "STANDING              1374\n",
              "SITTING               1286\n",
              "WALKING               1226\n",
              "WALKING_UPSTAIRS      1073\n",
              "WALKING_DOWNSTAIRS     986\n",
              "Name: Activity, dtype: int64"
            ]
          },
          "metadata": {},
          "execution_count": 14
        }
      ],
      "source": [
        "dt_tr.Activity.value_counts()"
      ]
    },
    {
      "cell_type": "code",
      "source": [
        "cols=dt_tr.columns.str.replace(\"[()]\",\"\")\n",
        "cols=dt_tr.columns.str.replace(\"[-]\",\"\")"
      ],
      "metadata": {
        "colab": {
          "base_uri": "https://localhost:8080/"
        },
        "id": "xvpo-rw8AJyi",
        "outputId": "819b25f4-231e-4c73-d176-463e05f86b16"
      },
      "execution_count": 23,
      "outputs": [
        {
          "output_type": "stream",
          "name": "stderr",
          "text": [
            "/usr/local/lib/python3.7/dist-packages/ipykernel_launcher.py:1: FutureWarning: The default value of regex will change from True to False in a future version.\n",
            "  \"\"\"Entry point for launching an IPython kernel.\n",
            "/usr/local/lib/python3.7/dist-packages/ipykernel_launcher.py:2: FutureWarning: The default value of regex will change from True to False in a future version.\n",
            "  \n"
          ]
        }
      ]
    },
    {
      "cell_type": "code",
      "source": [
        "cols"
      ],
      "metadata": {
        "colab": {
          "base_uri": "https://localhost:8080/"
        },
        "id": "5OKWKcwfBy99",
        "outputId": "54e111b9-5671-4459-fa2a-3324587fbf0b"
      },
      "execution_count": 24,
      "outputs": [
        {
          "output_type": "execute_result",
          "data": {
            "text/plain": [
              "Index(['tBodyAccmean()X', 'tBodyAccmean()Y', 'tBodyAccmean()Z',\n",
              "       'tBodyAccstd()X', 'tBodyAccstd()Y', 'tBodyAccstd()Z', 'tBodyAccmad()X',\n",
              "       'tBodyAccmad()Y', 'tBodyAccmad()Z', 'tBodyAccmax()X',\n",
              "       ...\n",
              "       'fBodyBodyGyroJerkMagkurtosis()', 'angle(tBodyAccMean,gravity)',\n",
              "       'angle(tBodyAccJerkMean),gravityMean)',\n",
              "       'angle(tBodyGyroMean,gravityMean)',\n",
              "       'angle(tBodyGyroJerkMean,gravityMean)', 'angle(X,gravityMean)',\n",
              "       'angle(Y,gravityMean)', 'angle(Z,gravityMean)', 'subject', 'Activity'],\n",
              "      dtype='object', length=563)"
            ]
          },
          "metadata": {},
          "execution_count": 24
        }
      ]
    },
    {
      "cell_type": "code",
      "source": [
        "dt_tr.columns = cols\n",
        "dt_ts.columns =cols"
      ],
      "metadata": {
        "id": "ZgwWaeLFBzAk"
      },
      "execution_count": 30,
      "outputs": []
    },
    {
      "cell_type": "code",
      "source": [
        ""
      ],
      "metadata": {
        "id": "GKIn6QD-BzEH"
      },
      "execution_count": null,
      "outputs": []
    },
    {
      "cell_type": "code",
      "execution_count": 31,
      "metadata": {
        "scrolled": true,
        "colab": {
          "base_uri": "https://localhost:8080/"
        },
        "id": "y_wTAuI5qT7n",
        "outputId": "c49b7570-39c4-4a2f-ea1e-53a758adcfa2"
      },
      "outputs": [
        {
          "output_type": "execute_result",
          "data": {
            "text/plain": [
              "tBodyAccmean()X         0\n",
              "tBodyAccmean()Y         0\n",
              "tBodyAccmean()Z         0\n",
              "tBodyAccstd()X          0\n",
              "tBodyAccstd()Y          0\n",
              "                       ..\n",
              "angle(X,gravityMean)    0\n",
              "angle(Y,gravityMean)    0\n",
              "angle(Z,gravityMean)    0\n",
              "subject                 0\n",
              "Activity                0\n",
              "Length: 563, dtype: int64"
            ]
          },
          "metadata": {},
          "execution_count": 31
        }
      ],
      "source": [
        "dt_tr.isnull().sum()"
      ]
    },
    {
      "cell_type": "code",
      "execution_count": 33,
      "metadata": {
        "id": "rhfJsDl2qT7o"
      },
      "outputs": [],
      "source": [
        "dat1 = dt_tr.copy()\n",
        "dat2 = dt_ts.copy()"
      ]
    },
    {
      "cell_type": "code",
      "execution_count": 26,
      "metadata": {
        "colab": {
          "base_uri": "https://localhost:8080/"
        },
        "id": "T1peBxaWqT7o",
        "outputId": "2c86d5f2-7280-452e-acb4-329a7f50f08f"
      },
      "outputs": [
        {
          "output_type": "execute_result",
          "data": {
            "text/plain": [
              "((7352, 563), (2947, 563))"
            ]
          },
          "metadata": {},
          "execution_count": 26
        }
      ],
      "source": [
        "dt_tr.shape,dt_ts.shape"
      ]
    },
    {
      "cell_type": "code",
      "execution_count": 27,
      "metadata": {
        "colab": {
          "base_uri": "https://localhost:8080/"
        },
        "id": "2uAb2roqqT7p",
        "outputId": "3459d04e-6b79-4658-b7f8-d21423f8d6fa"
      },
      "outputs": [
        {
          "output_type": "execute_result",
          "data": {
            "text/plain": [
              "(LAYING                537\n",
              " STANDING              532\n",
              " WALKING               496\n",
              " SITTING               491\n",
              " WALKING_UPSTAIRS      471\n",
              " WALKING_DOWNSTAIRS    420\n",
              " Name: Activity, dtype: int64, LAYING                1407\n",
              " STANDING              1374\n",
              " SITTING               1286\n",
              " WALKING               1226\n",
              " WALKING_UPSTAIRS      1073\n",
              " WALKING_DOWNSTAIRS     986\n",
              " Name: Activity, dtype: int64)"
            ]
          },
          "metadata": {},
          "execution_count": 27
        }
      ],
      "source": [
        "dt_ts.Activity.value_counts()  ,  dt_tr.Activity.value_counts()"
      ]
    },
    {
      "cell_type": "code",
      "execution_count": 34,
      "metadata": {
        "id": "WOrkArUiqT7q"
      },
      "outputs": [],
      "source": [
        "# suffling data \n",
        "from sklearn.utils import shuffle\n",
        "\n",
        "test  = shuffle(dat2)\n",
        "train = shuffle(dat1)"
      ]
    },
    {
      "cell_type": "code",
      "source": [
        "train"
      ],
      "metadata": {
        "colab": {
          "base_uri": "https://localhost:8080/",
          "height": 505
        },
        "id": "0CrNBYGLu38e",
        "outputId": "448134ea-e72b-4e29-bb81-729f25bb0174"
      },
      "execution_count": 29,
      "outputs": [
        {
          "output_type": "execute_result",
          "data": {
            "text/plain": [
              "      tBodyAcc-mean()-X  tBodyAcc-mean()-Y  tBodyAcc-mean()-Z  \\\n",
              "2012           0.161987          -0.018045          -0.185334   \n",
              "6925           0.373127          -0.067253          -0.023315   \n",
              "1020           0.251871           0.041622          -0.172771   \n",
              "6913           0.369398          -0.026459          -0.122797   \n",
              "5309           0.285115          -0.095118          -0.105772   \n",
              "...                 ...                ...                ...   \n",
              "300            0.410439          -0.064727          -0.123772   \n",
              "5528           0.279617          -0.016752          -0.110378   \n",
              "1982           0.250195          -0.003614          -0.090377   \n",
              "5805           0.216638           0.006924          -0.115593   \n",
              "1083           0.274745           0.005705          -0.120073   \n",
              "\n",
              "      tBodyAcc-std()-X  tBodyAcc-std()-Y  tBodyAcc-std()-Z  tBodyAcc-mad()-X  \\\n",
              "2012          0.101711         -0.030591         -0.366224          0.005440   \n",
              "6925          0.146503         -0.066040         -0.235014          0.080219   \n",
              "1020         -0.962326         -0.749244         -0.817460         -0.976057   \n",
              "6913         -0.138345          0.000209         -0.177404         -0.194364   \n",
              "5309         -0.986274         -0.807128         -0.926642         -0.989891   \n",
              "...                ...               ...               ...               ...   \n",
              "300          -0.019351          0.066715         -0.247929         -0.113573   \n",
              "5528         -0.993524         -0.997042         -0.985283         -0.994233   \n",
              "1982         -0.367523         -0.118299         -0.472099         -0.400914   \n",
              "5805         -0.340296         -0.087502         -0.323075         -0.410303   \n",
              "1083         -0.461658          0.018764         -0.634436         -0.513072   \n",
              "\n",
              "      tBodyAcc-mad()-Y  tBodyAcc-mad()-Z  tBodyAcc-max()-X  ...  \\\n",
              "2012         -0.079540         -0.364475          0.486906  ...   \n",
              "6925         -0.170594         -0.241741          0.392619  ...   \n",
              "1020         -0.782342         -0.801887         -0.858053  ...   \n",
              "6913         -0.007224         -0.218694         -0.016891  ...   \n",
              "5309         -0.811131         -0.932100         -0.903622  ...   \n",
              "...                ...               ...               ...  ...   \n",
              "300           0.000575         -0.249380          0.373082  ...   \n",
              "5528         -0.996626         -0.986713         -0.932001  ...   \n",
              "1982         -0.166000         -0.447060         -0.322734  ...   \n",
              "5805         -0.111621         -0.353559          0.043138  ...   \n",
              "1083          0.027544         -0.620637         -0.253781  ...   \n",
              "\n",
              "      fBodyBodyGyroJerkMag-kurtosis()  angle(tBodyAccMean,gravity)  \\\n",
              "2012                        -0.633866                     0.588641   \n",
              "6925                        -0.441282                    -0.337814   \n",
              "1020                        -0.545489                     0.072241   \n",
              "6913                        -0.641396                    -0.789684   \n",
              "5309                        -0.421354                     0.051352   \n",
              "...                               ...                          ...   \n",
              "300                         -0.816124                    -0.683847   \n",
              "5528                        -0.841454                     0.008945   \n",
              "1982                        -0.836439                     0.372875   \n",
              "5805                         0.020678                     0.593093   \n",
              "1083                        -0.650266                     0.142826   \n",
              "\n",
              "      angle(tBodyAccJerkMean),gravityMean)  angle(tBodyGyroMean,gravityMean)  \\\n",
              "2012                             -0.700508                          0.960604   \n",
              "6925                             -0.669849                          0.750309   \n",
              "1020                              0.133540                         -0.269368   \n",
              "6913                             -0.773372                          0.016542   \n",
              "5309                              0.274895                          0.083784   \n",
              "...                                    ...                               ...   \n",
              "300                              -0.507684                          0.556372   \n",
              "5528                             -0.332410                         -0.142390   \n",
              "1982                             -0.779967                          0.876391   \n",
              "5805                             -0.427559                         -0.541122   \n",
              "1083                             -0.227038                         -0.188626   \n",
              "\n",
              "      angle(tBodyGyroJerkMean,gravityMean)  angle(X,gravityMean)  \\\n",
              "2012                             -0.305701             -0.765697   \n",
              "6925                             -0.573312             -0.936328   \n",
              "1020                             -0.388869             -0.680231   \n",
              "6913                              0.331076             -0.881441   \n",
              "5309                             -0.740596             -0.892976   \n",
              "...                                    ...                   ...   \n",
              "300                              -0.211999             -0.734738   \n",
              "5528                             -0.084224             -0.083361   \n",
              "1982                             -0.771791             -0.739362   \n",
              "5805                              0.495262             -0.844672   \n",
              "1083                              0.072598             -0.830840   \n",
              "\n",
              "      angle(Y,gravityMean)  angle(Z,gravityMean)  subject            Activity  \n",
              "2012              0.205428             -0.108064       11  WALKING_DOWNSTAIRS  \n",
              "6925              0.135412             -0.007266       29  WALKING_DOWNSTAIRS  \n",
              "1020             -0.046300             -0.157573        6             SITTING  \n",
              "6913              0.170375             -0.022894       29             WALKING  \n",
              "5309              0.020383              0.016750       25             SITTING  \n",
              "...                    ...                   ...      ...                 ...  \n",
              "300               0.264370              0.096975        1  WALKING_DOWNSTAIRS  \n",
              "5528             -0.321632             -0.407547       26             SITTING  \n",
              "1982              0.234263             -0.103862       11             WALKING  \n",
              "5805              0.186580             -0.045765       26             WALKING  \n",
              "1083              0.214075              0.001848        6             WALKING  \n",
              "\n",
              "[7352 rows x 563 columns]"
            ],
            "text/html": [
              "\n",
              "  <div id=\"df-26872639-230a-41a4-9f76-c160fe172c44\">\n",
              "    <div class=\"colab-df-container\">\n",
              "      <div>\n",
              "<style scoped>\n",
              "    .dataframe tbody tr th:only-of-type {\n",
              "        vertical-align: middle;\n",
              "    }\n",
              "\n",
              "    .dataframe tbody tr th {\n",
              "        vertical-align: top;\n",
              "    }\n",
              "\n",
              "    .dataframe thead th {\n",
              "        text-align: right;\n",
              "    }\n",
              "</style>\n",
              "<table border=\"1\" class=\"dataframe\">\n",
              "  <thead>\n",
              "    <tr style=\"text-align: right;\">\n",
              "      <th></th>\n",
              "      <th>tBodyAcc-mean()-X</th>\n",
              "      <th>tBodyAcc-mean()-Y</th>\n",
              "      <th>tBodyAcc-mean()-Z</th>\n",
              "      <th>tBodyAcc-std()-X</th>\n",
              "      <th>tBodyAcc-std()-Y</th>\n",
              "      <th>tBodyAcc-std()-Z</th>\n",
              "      <th>tBodyAcc-mad()-X</th>\n",
              "      <th>tBodyAcc-mad()-Y</th>\n",
              "      <th>tBodyAcc-mad()-Z</th>\n",
              "      <th>tBodyAcc-max()-X</th>\n",
              "      <th>...</th>\n",
              "      <th>fBodyBodyGyroJerkMag-kurtosis()</th>\n",
              "      <th>angle(tBodyAccMean,gravity)</th>\n",
              "      <th>angle(tBodyAccJerkMean),gravityMean)</th>\n",
              "      <th>angle(tBodyGyroMean,gravityMean)</th>\n",
              "      <th>angle(tBodyGyroJerkMean,gravityMean)</th>\n",
              "      <th>angle(X,gravityMean)</th>\n",
              "      <th>angle(Y,gravityMean)</th>\n",
              "      <th>angle(Z,gravityMean)</th>\n",
              "      <th>subject</th>\n",
              "      <th>Activity</th>\n",
              "    </tr>\n",
              "  </thead>\n",
              "  <tbody>\n",
              "    <tr>\n",
              "      <th>2012</th>\n",
              "      <td>0.161987</td>\n",
              "      <td>-0.018045</td>\n",
              "      <td>-0.185334</td>\n",
              "      <td>0.101711</td>\n",
              "      <td>-0.030591</td>\n",
              "      <td>-0.366224</td>\n",
              "      <td>0.005440</td>\n",
              "      <td>-0.079540</td>\n",
              "      <td>-0.364475</td>\n",
              "      <td>0.486906</td>\n",
              "      <td>...</td>\n",
              "      <td>-0.633866</td>\n",
              "      <td>0.588641</td>\n",
              "      <td>-0.700508</td>\n",
              "      <td>0.960604</td>\n",
              "      <td>-0.305701</td>\n",
              "      <td>-0.765697</td>\n",
              "      <td>0.205428</td>\n",
              "      <td>-0.108064</td>\n",
              "      <td>11</td>\n",
              "      <td>WALKING_DOWNSTAIRS</td>\n",
              "    </tr>\n",
              "    <tr>\n",
              "      <th>6925</th>\n",
              "      <td>0.373127</td>\n",
              "      <td>-0.067253</td>\n",
              "      <td>-0.023315</td>\n",
              "      <td>0.146503</td>\n",
              "      <td>-0.066040</td>\n",
              "      <td>-0.235014</td>\n",
              "      <td>0.080219</td>\n",
              "      <td>-0.170594</td>\n",
              "      <td>-0.241741</td>\n",
              "      <td>0.392619</td>\n",
              "      <td>...</td>\n",
              "      <td>-0.441282</td>\n",
              "      <td>-0.337814</td>\n",
              "      <td>-0.669849</td>\n",
              "      <td>0.750309</td>\n",
              "      <td>-0.573312</td>\n",
              "      <td>-0.936328</td>\n",
              "      <td>0.135412</td>\n",
              "      <td>-0.007266</td>\n",
              "      <td>29</td>\n",
              "      <td>WALKING_DOWNSTAIRS</td>\n",
              "    </tr>\n",
              "    <tr>\n",
              "      <th>1020</th>\n",
              "      <td>0.251871</td>\n",
              "      <td>0.041622</td>\n",
              "      <td>-0.172771</td>\n",
              "      <td>-0.962326</td>\n",
              "      <td>-0.749244</td>\n",
              "      <td>-0.817460</td>\n",
              "      <td>-0.976057</td>\n",
              "      <td>-0.782342</td>\n",
              "      <td>-0.801887</td>\n",
              "      <td>-0.858053</td>\n",
              "      <td>...</td>\n",
              "      <td>-0.545489</td>\n",
              "      <td>0.072241</td>\n",
              "      <td>0.133540</td>\n",
              "      <td>-0.269368</td>\n",
              "      <td>-0.388869</td>\n",
              "      <td>-0.680231</td>\n",
              "      <td>-0.046300</td>\n",
              "      <td>-0.157573</td>\n",
              "      <td>6</td>\n",
              "      <td>SITTING</td>\n",
              "    </tr>\n",
              "    <tr>\n",
              "      <th>6913</th>\n",
              "      <td>0.369398</td>\n",
              "      <td>-0.026459</td>\n",
              "      <td>-0.122797</td>\n",
              "      <td>-0.138345</td>\n",
              "      <td>0.000209</td>\n",
              "      <td>-0.177404</td>\n",
              "      <td>-0.194364</td>\n",
              "      <td>-0.007224</td>\n",
              "      <td>-0.218694</td>\n",
              "      <td>-0.016891</td>\n",
              "      <td>...</td>\n",
              "      <td>-0.641396</td>\n",
              "      <td>-0.789684</td>\n",
              "      <td>-0.773372</td>\n",
              "      <td>0.016542</td>\n",
              "      <td>0.331076</td>\n",
              "      <td>-0.881441</td>\n",
              "      <td>0.170375</td>\n",
              "      <td>-0.022894</td>\n",
              "      <td>29</td>\n",
              "      <td>WALKING</td>\n",
              "    </tr>\n",
              "    <tr>\n",
              "      <th>5309</th>\n",
              "      <td>0.285115</td>\n",
              "      <td>-0.095118</td>\n",
              "      <td>-0.105772</td>\n",
              "      <td>-0.986274</td>\n",
              "      <td>-0.807128</td>\n",
              "      <td>-0.926642</td>\n",
              "      <td>-0.989891</td>\n",
              "      <td>-0.811131</td>\n",
              "      <td>-0.932100</td>\n",
              "      <td>-0.903622</td>\n",
              "      <td>...</td>\n",
              "      <td>-0.421354</td>\n",
              "      <td>0.051352</td>\n",
              "      <td>0.274895</td>\n",
              "      <td>0.083784</td>\n",
              "      <td>-0.740596</td>\n",
              "      <td>-0.892976</td>\n",
              "      <td>0.020383</td>\n",
              "      <td>0.016750</td>\n",
              "      <td>25</td>\n",
              "      <td>SITTING</td>\n",
              "    </tr>\n",
              "    <tr>\n",
              "      <th>...</th>\n",
              "      <td>...</td>\n",
              "      <td>...</td>\n",
              "      <td>...</td>\n",
              "      <td>...</td>\n",
              "      <td>...</td>\n",
              "      <td>...</td>\n",
              "      <td>...</td>\n",
              "      <td>...</td>\n",
              "      <td>...</td>\n",
              "      <td>...</td>\n",
              "      <td>...</td>\n",
              "      <td>...</td>\n",
              "      <td>...</td>\n",
              "      <td>...</td>\n",
              "      <td>...</td>\n",
              "      <td>...</td>\n",
              "      <td>...</td>\n",
              "      <td>...</td>\n",
              "      <td>...</td>\n",
              "      <td>...</td>\n",
              "      <td>...</td>\n",
              "    </tr>\n",
              "    <tr>\n",
              "      <th>300</th>\n",
              "      <td>0.410439</td>\n",
              "      <td>-0.064727</td>\n",
              "      <td>-0.123772</td>\n",
              "      <td>-0.019351</td>\n",
              "      <td>0.066715</td>\n",
              "      <td>-0.247929</td>\n",
              "      <td>-0.113573</td>\n",
              "      <td>0.000575</td>\n",
              "      <td>-0.249380</td>\n",
              "      <td>0.373082</td>\n",
              "      <td>...</td>\n",
              "      <td>-0.816124</td>\n",
              "      <td>-0.683847</td>\n",
              "      <td>-0.507684</td>\n",
              "      <td>0.556372</td>\n",
              "      <td>-0.211999</td>\n",
              "      <td>-0.734738</td>\n",
              "      <td>0.264370</td>\n",
              "      <td>0.096975</td>\n",
              "      <td>1</td>\n",
              "      <td>WALKING_DOWNSTAIRS</td>\n",
              "    </tr>\n",
              "    <tr>\n",
              "      <th>5528</th>\n",
              "      <td>0.279617</td>\n",
              "      <td>-0.016752</td>\n",
              "      <td>-0.110378</td>\n",
              "      <td>-0.993524</td>\n",
              "      <td>-0.997042</td>\n",
              "      <td>-0.985283</td>\n",
              "      <td>-0.994233</td>\n",
              "      <td>-0.996626</td>\n",
              "      <td>-0.986713</td>\n",
              "      <td>-0.932001</td>\n",
              "      <td>...</td>\n",
              "      <td>-0.841454</td>\n",
              "      <td>0.008945</td>\n",
              "      <td>-0.332410</td>\n",
              "      <td>-0.142390</td>\n",
              "      <td>-0.084224</td>\n",
              "      <td>-0.083361</td>\n",
              "      <td>-0.321632</td>\n",
              "      <td>-0.407547</td>\n",
              "      <td>26</td>\n",
              "      <td>SITTING</td>\n",
              "    </tr>\n",
              "    <tr>\n",
              "      <th>1982</th>\n",
              "      <td>0.250195</td>\n",
              "      <td>-0.003614</td>\n",
              "      <td>-0.090377</td>\n",
              "      <td>-0.367523</td>\n",
              "      <td>-0.118299</td>\n",
              "      <td>-0.472099</td>\n",
              "      <td>-0.400914</td>\n",
              "      <td>-0.166000</td>\n",
              "      <td>-0.447060</td>\n",
              "      <td>-0.322734</td>\n",
              "      <td>...</td>\n",
              "      <td>-0.836439</td>\n",
              "      <td>0.372875</td>\n",
              "      <td>-0.779967</td>\n",
              "      <td>0.876391</td>\n",
              "      <td>-0.771791</td>\n",
              "      <td>-0.739362</td>\n",
              "      <td>0.234263</td>\n",
              "      <td>-0.103862</td>\n",
              "      <td>11</td>\n",
              "      <td>WALKING</td>\n",
              "    </tr>\n",
              "    <tr>\n",
              "      <th>5805</th>\n",
              "      <td>0.216638</td>\n",
              "      <td>0.006924</td>\n",
              "      <td>-0.115593</td>\n",
              "      <td>-0.340296</td>\n",
              "      <td>-0.087502</td>\n",
              "      <td>-0.323075</td>\n",
              "      <td>-0.410303</td>\n",
              "      <td>-0.111621</td>\n",
              "      <td>-0.353559</td>\n",
              "      <td>0.043138</td>\n",
              "      <td>...</td>\n",
              "      <td>0.020678</td>\n",
              "      <td>0.593093</td>\n",
              "      <td>-0.427559</td>\n",
              "      <td>-0.541122</td>\n",
              "      <td>0.495262</td>\n",
              "      <td>-0.844672</td>\n",
              "      <td>0.186580</td>\n",
              "      <td>-0.045765</td>\n",
              "      <td>26</td>\n",
              "      <td>WALKING</td>\n",
              "    </tr>\n",
              "    <tr>\n",
              "      <th>1083</th>\n",
              "      <td>0.274745</td>\n",
              "      <td>0.005705</td>\n",
              "      <td>-0.120073</td>\n",
              "      <td>-0.461658</td>\n",
              "      <td>0.018764</td>\n",
              "      <td>-0.634436</td>\n",
              "      <td>-0.513072</td>\n",
              "      <td>0.027544</td>\n",
              "      <td>-0.620637</td>\n",
              "      <td>-0.253781</td>\n",
              "      <td>...</td>\n",
              "      <td>-0.650266</td>\n",
              "      <td>0.142826</td>\n",
              "      <td>-0.227038</td>\n",
              "      <td>-0.188626</td>\n",
              "      <td>0.072598</td>\n",
              "      <td>-0.830840</td>\n",
              "      <td>0.214075</td>\n",
              "      <td>0.001848</td>\n",
              "      <td>6</td>\n",
              "      <td>WALKING</td>\n",
              "    </tr>\n",
              "  </tbody>\n",
              "</table>\n",
              "<p>7352 rows × 563 columns</p>\n",
              "</div>\n",
              "      <button class=\"colab-df-convert\" onclick=\"convertToInteractive('df-26872639-230a-41a4-9f76-c160fe172c44')\"\n",
              "              title=\"Convert this dataframe to an interactive table.\"\n",
              "              style=\"display:none;\">\n",
              "        \n",
              "  <svg xmlns=\"http://www.w3.org/2000/svg\" height=\"24px\"viewBox=\"0 0 24 24\"\n",
              "       width=\"24px\">\n",
              "    <path d=\"M0 0h24v24H0V0z\" fill=\"none\"/>\n",
              "    <path d=\"M18.56 5.44l.94 2.06.94-2.06 2.06-.94-2.06-.94-.94-2.06-.94 2.06-2.06.94zm-11 1L8.5 8.5l.94-2.06 2.06-.94-2.06-.94L8.5 2.5l-.94 2.06-2.06.94zm10 10l.94 2.06.94-2.06 2.06-.94-2.06-.94-.94-2.06-.94 2.06-2.06.94z\"/><path d=\"M17.41 7.96l-1.37-1.37c-.4-.4-.92-.59-1.43-.59-.52 0-1.04.2-1.43.59L10.3 9.45l-7.72 7.72c-.78.78-.78 2.05 0 2.83L4 21.41c.39.39.9.59 1.41.59.51 0 1.02-.2 1.41-.59l7.78-7.78 2.81-2.81c.8-.78.8-2.07 0-2.86zM5.41 20L4 18.59l7.72-7.72 1.47 1.35L5.41 20z\"/>\n",
              "  </svg>\n",
              "      </button>\n",
              "      \n",
              "  <style>\n",
              "    .colab-df-container {\n",
              "      display:flex;\n",
              "      flex-wrap:wrap;\n",
              "      gap: 12px;\n",
              "    }\n",
              "\n",
              "    .colab-df-convert {\n",
              "      background-color: #E8F0FE;\n",
              "      border: none;\n",
              "      border-radius: 50%;\n",
              "      cursor: pointer;\n",
              "      display: none;\n",
              "      fill: #1967D2;\n",
              "      height: 32px;\n",
              "      padding: 0 0 0 0;\n",
              "      width: 32px;\n",
              "    }\n",
              "\n",
              "    .colab-df-convert:hover {\n",
              "      background-color: #E2EBFA;\n",
              "      box-shadow: 0px 1px 2px rgba(60, 64, 67, 0.3), 0px 1px 3px 1px rgba(60, 64, 67, 0.15);\n",
              "      fill: #174EA6;\n",
              "    }\n",
              "\n",
              "    [theme=dark] .colab-df-convert {\n",
              "      background-color: #3B4455;\n",
              "      fill: #D2E3FC;\n",
              "    }\n",
              "\n",
              "    [theme=dark] .colab-df-convert:hover {\n",
              "      background-color: #434B5C;\n",
              "      box-shadow: 0px 1px 3px 1px rgba(0, 0, 0, 0.15);\n",
              "      filter: drop-shadow(0px 1px 2px rgba(0, 0, 0, 0.3));\n",
              "      fill: #FFFFFF;\n",
              "    }\n",
              "  </style>\n",
              "\n",
              "      <script>\n",
              "        const buttonEl =\n",
              "          document.querySelector('#df-26872639-230a-41a4-9f76-c160fe172c44 button.colab-df-convert');\n",
              "        buttonEl.style.display =\n",
              "          google.colab.kernel.accessAllowed ? 'block' : 'none';\n",
              "\n",
              "        async function convertToInteractive(key) {\n",
              "          const element = document.querySelector('#df-26872639-230a-41a4-9f76-c160fe172c44');\n",
              "          const dataTable =\n",
              "            await google.colab.kernel.invokeFunction('convertToInteractive',\n",
              "                                                     [key], {});\n",
              "          if (!dataTable) return;\n",
              "\n",
              "          const docLinkHtml = 'Like what you see? Visit the ' +\n",
              "            '<a target=\"_blank\" href=https://colab.research.google.com/notebooks/data_table.ipynb>data table notebook</a>'\n",
              "            + ' to learn more about interactive tables.';\n",
              "          element.innerHTML = '';\n",
              "          dataTable['output_type'] = 'display_data';\n",
              "          await google.colab.output.renderOutput(dataTable, element);\n",
              "          const docLink = document.createElement('div');\n",
              "          docLink.innerHTML = docLinkHtml;\n",
              "          element.appendChild(docLink);\n",
              "        }\n",
              "      </script>\n",
              "    </div>\n",
              "  </div>\n",
              "  "
            ]
          },
          "metadata": {},
          "execution_count": 29
        }
      ]
    },
    {
      "cell_type": "code",
      "execution_count": 44,
      "metadata": {
        "id": "VnuvYw3FqT7q"
      },
      "outputs": [],
      "source": [
        "# separating data inputs and output lables \n",
        "trainData  = train.drop('Activity' , axis=1).values\n",
        "trainLabel = train.Activity.values\n",
        "\n",
        "testData  = test.drop('Activity' , axis=1).values\n",
        "testLabel = test.Activity.values"
      ]
    },
    {
      "cell_type": "code",
      "source": [
        ""
      ],
      "metadata": {
        "id": "O1W3Ka6NFyKf"
      },
      "execution_count": null,
      "outputs": []
    },
    {
      "cell_type": "code",
      "source": [
        "type(trainLabel)"
      ],
      "metadata": {
        "colab": {
          "base_uri": "https://localhost:8080/"
        },
        "id": "rqrBD3cEFyN8",
        "outputId": "442671b6-42e0-4a6b-e0e0-49219d0952ed"
      },
      "execution_count": 50,
      "outputs": [
        {
          "output_type": "execute_result",
          "data": {
            "text/plain": [
              "numpy.ndarray"
            ]
          },
          "metadata": {},
          "execution_count": 50
        }
      ]
    },
    {
      "cell_type": "code",
      "source": [
        "dt_tr.Activity.value_counts()"
      ],
      "metadata": {
        "colab": {
          "base_uri": "https://localhost:8080/"
        },
        "id": "bJcz8QiVEfCX",
        "outputId": "bbf56be9-d9ac-4b6f-cd50-0375b83fd75d"
      },
      "execution_count": 43,
      "outputs": [
        {
          "output_type": "execute_result",
          "data": {
            "text/plain": [
              "LAYING                1407\n",
              "STANDING              1374\n",
              "SITTING               1286\n",
              "WALKING               1226\n",
              "WALKING_UPSTAIRS      1073\n",
              "WALKING_DOWNSTAIRS     986\n",
              "Name: Activity, dtype: int64"
            ]
          },
          "metadata": {},
          "execution_count": 43
        }
      ]
    },
    {
      "cell_type": "code",
      "source": [
        ""
      ],
      "metadata": {
        "id": "39Ky2ek-EfFt"
      },
      "execution_count": null,
      "outputs": []
    },
    {
      "cell_type": "code",
      "execution_count": 51,
      "metadata": {
        "id": "G_q3ls16qT7r"
      },
      "outputs": [],
      "source": [
        "# encoding labels \n",
        "from sklearn import preprocessing\n",
        "\n",
        "encoder = preprocessing.LabelEncoder()\n",
        "\n",
        "# encoding test labels \n",
        "encoder.fit(testLabel)\n",
        "testLabelE = encoder.transform(testLabel)\n",
        "\n",
        "# encoding train labels \n",
        "encoder.fit(trainLabel)\n",
        "trainLabelE = encoder.transform(trainLabel)"
      ]
    },
    {
      "cell_type": "code",
      "source": [
        "trainLabelE,testLabelE"
      ],
      "metadata": {
        "colab": {
          "base_uri": "https://localhost:8080/"
        },
        "id": "tLbLTxkNHOxT",
        "outputId": "21ea2227-c392-47ef-87fb-b7f4eb3d7a73"
      },
      "execution_count": 56,
      "outputs": [
        {
          "output_type": "execute_result",
          "data": {
            "text/plain": [
              "(array([4, 2, 1, ..., 2, 1, 0]), array([0, 1, 5, ..., 5, 1, 1]))"
            ]
          },
          "metadata": {},
          "execution_count": 56
        }
      ]
    },
    {
      "cell_type": "code",
      "source": [
        ""
      ],
      "metadata": {
        "id": "DYzb4tkoHO0s"
      },
      "execution_count": null,
      "outputs": []
    },
    {
      "cell_type": "code",
      "execution_count": 57,
      "metadata": {
        "id": "dLlf4HzIqT7r"
      },
      "outputs": [],
      "source": [
        "import pandas as pd\n",
        "import numpy as np\n",
        "from matplotlib import pyplot as plt\n",
        "import seaborn as sb\n",
        "%matplotlib inline"
      ]
    },
    {
      "cell_type": "code",
      "source": [
        "train.subject[:]"
      ],
      "metadata": {
        "colab": {
          "base_uri": "https://localhost:8080/"
        },
        "id": "xwm7jc1GvdrO",
        "outputId": "1d6a2540-cf71-4f34-c414-13a30ff63a61"
      },
      "execution_count": 62,
      "outputs": [
        {
          "output_type": "execute_result",
          "data": {
            "text/plain": [
              "4338    21\n",
              "5084    25\n",
              "4589    22\n",
              "6999    30\n",
              "3316    17\n",
              "        ..\n",
              "1037     6\n",
              "1156     6\n",
              "3803    19\n",
              "1502     7\n",
              "410      3\n",
              "Name: subject, Length: 7352, dtype: int64"
            ]
          },
          "metadata": {},
          "execution_count": 62
        }
      ]
    },
    {
      "cell_type": "code",
      "source": [
        "train.columns"
      ],
      "metadata": {
        "colab": {
          "base_uri": "https://localhost:8080/"
        },
        "id": "sbUQ02xT0Ffv",
        "outputId": "ad223f36-9705-4772-c1fb-8a4b72977aa7"
      },
      "execution_count": 59,
      "outputs": [
        {
          "output_type": "execute_result",
          "data": {
            "text/plain": [
              "Index(['tBodyAccmean()X', 'tBodyAccmean()Y', 'tBodyAccmean()Z',\n",
              "       'tBodyAccstd()X', 'tBodyAccstd()Y', 'tBodyAccstd()Z', 'tBodyAccmad()X',\n",
              "       'tBodyAccmad()Y', 'tBodyAccmad()Z', 'tBodyAccmax()X',\n",
              "       ...\n",
              "       'fBodyBodyGyroJerkMagkurtosis()', 'angle(tBodyAccMean,gravity)',\n",
              "       'angle(tBodyAccJerkMean),gravityMean)',\n",
              "       'angle(tBodyGyroMean,gravityMean)',\n",
              "       'angle(tBodyGyroJerkMean,gravityMean)', 'angle(X,gravityMean)',\n",
              "       'angle(Y,gravityMean)', 'angle(Z,gravityMean)', 'subject', 'Activity'],\n",
              "      dtype='object', length=563)"
            ]
          },
          "metadata": {},
          "execution_count": 59
        }
      ]
    },
    {
      "cell_type": "code",
      "execution_count": null,
      "metadata": {
        "id": "3gT5_8k0qT7s",
        "outputId": "a7594866-5915-4ee6-d7f0-3812d20eafa0"
      },
      "outputs": [
        {
          "name": "stdout",
          "output_type": "stream",
          "text": [
            "Train Data (7352, 563) \n",
            " Index(['tBodyAcc-mean()-X', 'tBodyAcc-mean()-Y', 'tBodyAcc-mean()-Z',\n",
            "       'tBodyAcc-std()-X', 'tBodyAcc-std()-Y', 'tBodyAcc-std()-Z',\n",
            "       'tBodyAcc-mad()-X', 'tBodyAcc-mad()-Y', 'tBodyAcc-mad()-Z',\n",
            "       'tBodyAcc-max()-X',\n",
            "       ...\n",
            "       'fBodyBodyGyroJerkMag-kurtosis()', 'angle(tBodyAccMean,gravity)',\n",
            "       'angle(tBodyAccJerkMean),gravityMean)',\n",
            "       'angle(tBodyGyroMean,gravityMean)',\n",
            "       'angle(tBodyGyroJerkMean,gravityMean)', 'angle(X,gravityMean)',\n",
            "       'angle(Y,gravityMean)', 'angle(Z,gravityMean)', 'subject', 'Activity'],\n",
            "      dtype='object', length=563)\n",
            "\n",
            "Test Data (2947, 563)\n"
          ]
        }
      ],
      "source": [
        "\n",
        "train = pd.read_csv(\"train.csv\")\n",
        "test = pd.read_csv(\"test.csv\")\n",
        "print('Train Data', train.shape,'\\n', train.columns)\n",
        "print('\\nTest Data', test.shape)"
      ]
    },
    {
      "cell_type": "code",
      "execution_count": null,
      "metadata": {
        "id": "vrZeNT7HqT7s",
        "outputId": "383642fc-a080-4338-869a-93c8cdfdb653"
      },
      "outputs": [
        {
          "name": "stdout",
          "output_type": "stream",
          "text": [
            "Train labels ['STANDING' 'SITTING' 'LAYING' 'WALKING' 'WALKING_DOWNSTAIRS'\n",
            " 'WALKING_UPSTAIRS'] \n",
            "Test Labels ['STANDING' 'SITTING' 'LAYING' 'WALKING' 'WALKING_DOWNSTAIRS'\n",
            " 'WALKING_UPSTAIRS']\n"
          ]
        }
      ],
      "source": [
        "print('Train labels', train['Activity'].unique(), '\\nTest Labels', test['Activity'].unique())"
      ]
    },
    {
      "cell_type": "code",
      "source": [
        "pp=dat1[[\"Activity\",\"subject\"]].groupby([\"Activity\"])\n",
        "pp"
      ],
      "metadata": {
        "colab": {
          "base_uri": "https://localhost:8080/"
        },
        "id": "tlFxQ93PIzar",
        "outputId": "0953e025-02ae-471b-daaf-5f43d9a048a2"
      },
      "execution_count": 69,
      "outputs": [
        {
          "output_type": "execute_result",
          "data": {
            "text/plain": [
              "<pandas.core.groupby.generic.DataFrameGroupBy object at 0x7fa90d46c590>"
            ]
          },
          "metadata": {},
          "execution_count": 69
        }
      ]
    },
    {
      "cell_type": "code",
      "source": [
        ""
      ],
      "metadata": {
        "id": "lnDcP5asIzeN"
      },
      "execution_count": null,
      "outputs": []
    },
    {
      "cell_type": "code",
      "execution_count": 63,
      "metadata": {
        "colab": {
          "base_uri": "https://localhost:8080/",
          "height": 739
        },
        "id": "aitMG9HUqT7s",
        "outputId": "d190764d-c0c3-460d-ae5f-8ec4036a378e"
      },
      "outputs": [
        {
          "output_type": "execute_result",
          "data": {
            "text/plain": [
              "Activity  LAYING  SITTING  STANDING  WALKING  WALKING_DOWNSTAIRS  \\\n",
              "subject                                                            \n",
              "1             50       47        53       95                  49   \n",
              "3             62       52        61       58                  49   \n",
              "5             52       44        56       56                  47   \n",
              "6             57       55        57       57                  48   \n",
              "7             52       48        53       57                  47   \n",
              "8             54       46        54       48                  38   \n",
              "11            57       53        47       59                  46   \n",
              "14            51       54        60       59                  45   \n",
              "15            72       59        53       54                  42   \n",
              "16            70       69        78       51                  47   \n",
              "17            71       64        78       61                  46   \n",
              "19            83       73        73       52                  39   \n",
              "21            90       85        89       52                  45   \n",
              "22            72       62        63       46                  36   \n",
              "23            72       68        68       59                  54   \n",
              "25            73       65        74       74                  58   \n",
              "26            76       78        74       59                  50   \n",
              "27            74       70        80       57                  44   \n",
              "28            80       72        79       54                  46   \n",
              "29            69       60        65       53                  48   \n",
              "30            70       62        59       65                  62   \n",
              "\n",
              "Activity  WALKING_UPSTAIRS  \n",
              "subject                     \n",
              "1                       53  \n",
              "3                       59  \n",
              "5                       47  \n",
              "6                       51  \n",
              "7                       51  \n",
              "8                       41  \n",
              "11                      54  \n",
              "14                      54  \n",
              "15                      48  \n",
              "16                      51  \n",
              "17                      48  \n",
              "19                      40  \n",
              "21                      47  \n",
              "22                      42  \n",
              "23                      51  \n",
              "25                      65  \n",
              "26                      55  \n",
              "27                      51  \n",
              "28                      51  \n",
              "29                      49  \n",
              "30                      65  "
            ],
            "text/html": [
              "\n",
              "  <div id=\"df-b2d175ca-2acc-4bd2-82fd-0e5cb415984e\">\n",
              "    <div class=\"colab-df-container\">\n",
              "      <div>\n",
              "<style scoped>\n",
              "    .dataframe tbody tr th:only-of-type {\n",
              "        vertical-align: middle;\n",
              "    }\n",
              "\n",
              "    .dataframe tbody tr th {\n",
              "        vertical-align: top;\n",
              "    }\n",
              "\n",
              "    .dataframe thead th {\n",
              "        text-align: right;\n",
              "    }\n",
              "</style>\n",
              "<table border=\"1\" class=\"dataframe\">\n",
              "  <thead>\n",
              "    <tr style=\"text-align: right;\">\n",
              "      <th>Activity</th>\n",
              "      <th>LAYING</th>\n",
              "      <th>SITTING</th>\n",
              "      <th>STANDING</th>\n",
              "      <th>WALKING</th>\n",
              "      <th>WALKING_DOWNSTAIRS</th>\n",
              "      <th>WALKING_UPSTAIRS</th>\n",
              "    </tr>\n",
              "    <tr>\n",
              "      <th>subject</th>\n",
              "      <th></th>\n",
              "      <th></th>\n",
              "      <th></th>\n",
              "      <th></th>\n",
              "      <th></th>\n",
              "      <th></th>\n",
              "    </tr>\n",
              "  </thead>\n",
              "  <tbody>\n",
              "    <tr>\n",
              "      <th>1</th>\n",
              "      <td>50</td>\n",
              "      <td>47</td>\n",
              "      <td>53</td>\n",
              "      <td>95</td>\n",
              "      <td>49</td>\n",
              "      <td>53</td>\n",
              "    </tr>\n",
              "    <tr>\n",
              "      <th>3</th>\n",
              "      <td>62</td>\n",
              "      <td>52</td>\n",
              "      <td>61</td>\n",
              "      <td>58</td>\n",
              "      <td>49</td>\n",
              "      <td>59</td>\n",
              "    </tr>\n",
              "    <tr>\n",
              "      <th>5</th>\n",
              "      <td>52</td>\n",
              "      <td>44</td>\n",
              "      <td>56</td>\n",
              "      <td>56</td>\n",
              "      <td>47</td>\n",
              "      <td>47</td>\n",
              "    </tr>\n",
              "    <tr>\n",
              "      <th>6</th>\n",
              "      <td>57</td>\n",
              "      <td>55</td>\n",
              "      <td>57</td>\n",
              "      <td>57</td>\n",
              "      <td>48</td>\n",
              "      <td>51</td>\n",
              "    </tr>\n",
              "    <tr>\n",
              "      <th>7</th>\n",
              "      <td>52</td>\n",
              "      <td>48</td>\n",
              "      <td>53</td>\n",
              "      <td>57</td>\n",
              "      <td>47</td>\n",
              "      <td>51</td>\n",
              "    </tr>\n",
              "    <tr>\n",
              "      <th>8</th>\n",
              "      <td>54</td>\n",
              "      <td>46</td>\n",
              "      <td>54</td>\n",
              "      <td>48</td>\n",
              "      <td>38</td>\n",
              "      <td>41</td>\n",
              "    </tr>\n",
              "    <tr>\n",
              "      <th>11</th>\n",
              "      <td>57</td>\n",
              "      <td>53</td>\n",
              "      <td>47</td>\n",
              "      <td>59</td>\n",
              "      <td>46</td>\n",
              "      <td>54</td>\n",
              "    </tr>\n",
              "    <tr>\n",
              "      <th>14</th>\n",
              "      <td>51</td>\n",
              "      <td>54</td>\n",
              "      <td>60</td>\n",
              "      <td>59</td>\n",
              "      <td>45</td>\n",
              "      <td>54</td>\n",
              "    </tr>\n",
              "    <tr>\n",
              "      <th>15</th>\n",
              "      <td>72</td>\n",
              "      <td>59</td>\n",
              "      <td>53</td>\n",
              "      <td>54</td>\n",
              "      <td>42</td>\n",
              "      <td>48</td>\n",
              "    </tr>\n",
              "    <tr>\n",
              "      <th>16</th>\n",
              "      <td>70</td>\n",
              "      <td>69</td>\n",
              "      <td>78</td>\n",
              "      <td>51</td>\n",
              "      <td>47</td>\n",
              "      <td>51</td>\n",
              "    </tr>\n",
              "    <tr>\n",
              "      <th>17</th>\n",
              "      <td>71</td>\n",
              "      <td>64</td>\n",
              "      <td>78</td>\n",
              "      <td>61</td>\n",
              "      <td>46</td>\n",
              "      <td>48</td>\n",
              "    </tr>\n",
              "    <tr>\n",
              "      <th>19</th>\n",
              "      <td>83</td>\n",
              "      <td>73</td>\n",
              "      <td>73</td>\n",
              "      <td>52</td>\n",
              "      <td>39</td>\n",
              "      <td>40</td>\n",
              "    </tr>\n",
              "    <tr>\n",
              "      <th>21</th>\n",
              "      <td>90</td>\n",
              "      <td>85</td>\n",
              "      <td>89</td>\n",
              "      <td>52</td>\n",
              "      <td>45</td>\n",
              "      <td>47</td>\n",
              "    </tr>\n",
              "    <tr>\n",
              "      <th>22</th>\n",
              "      <td>72</td>\n",
              "      <td>62</td>\n",
              "      <td>63</td>\n",
              "      <td>46</td>\n",
              "      <td>36</td>\n",
              "      <td>42</td>\n",
              "    </tr>\n",
              "    <tr>\n",
              "      <th>23</th>\n",
              "      <td>72</td>\n",
              "      <td>68</td>\n",
              "      <td>68</td>\n",
              "      <td>59</td>\n",
              "      <td>54</td>\n",
              "      <td>51</td>\n",
              "    </tr>\n",
              "    <tr>\n",
              "      <th>25</th>\n",
              "      <td>73</td>\n",
              "      <td>65</td>\n",
              "      <td>74</td>\n",
              "      <td>74</td>\n",
              "      <td>58</td>\n",
              "      <td>65</td>\n",
              "    </tr>\n",
              "    <tr>\n",
              "      <th>26</th>\n",
              "      <td>76</td>\n",
              "      <td>78</td>\n",
              "      <td>74</td>\n",
              "      <td>59</td>\n",
              "      <td>50</td>\n",
              "      <td>55</td>\n",
              "    </tr>\n",
              "    <tr>\n",
              "      <th>27</th>\n",
              "      <td>74</td>\n",
              "      <td>70</td>\n",
              "      <td>80</td>\n",
              "      <td>57</td>\n",
              "      <td>44</td>\n",
              "      <td>51</td>\n",
              "    </tr>\n",
              "    <tr>\n",
              "      <th>28</th>\n",
              "      <td>80</td>\n",
              "      <td>72</td>\n",
              "      <td>79</td>\n",
              "      <td>54</td>\n",
              "      <td>46</td>\n",
              "      <td>51</td>\n",
              "    </tr>\n",
              "    <tr>\n",
              "      <th>29</th>\n",
              "      <td>69</td>\n",
              "      <td>60</td>\n",
              "      <td>65</td>\n",
              "      <td>53</td>\n",
              "      <td>48</td>\n",
              "      <td>49</td>\n",
              "    </tr>\n",
              "    <tr>\n",
              "      <th>30</th>\n",
              "      <td>70</td>\n",
              "      <td>62</td>\n",
              "      <td>59</td>\n",
              "      <td>65</td>\n",
              "      <td>62</td>\n",
              "      <td>65</td>\n",
              "    </tr>\n",
              "  </tbody>\n",
              "</table>\n",
              "</div>\n",
              "      <button class=\"colab-df-convert\" onclick=\"convertToInteractive('df-b2d175ca-2acc-4bd2-82fd-0e5cb415984e')\"\n",
              "              title=\"Convert this dataframe to an interactive table.\"\n",
              "              style=\"display:none;\">\n",
              "        \n",
              "  <svg xmlns=\"http://www.w3.org/2000/svg\" height=\"24px\"viewBox=\"0 0 24 24\"\n",
              "       width=\"24px\">\n",
              "    <path d=\"M0 0h24v24H0V0z\" fill=\"none\"/>\n",
              "    <path d=\"M18.56 5.44l.94 2.06.94-2.06 2.06-.94-2.06-.94-.94-2.06-.94 2.06-2.06.94zm-11 1L8.5 8.5l.94-2.06 2.06-.94-2.06-.94L8.5 2.5l-.94 2.06-2.06.94zm10 10l.94 2.06.94-2.06 2.06-.94-2.06-.94-.94-2.06-.94 2.06-2.06.94z\"/><path d=\"M17.41 7.96l-1.37-1.37c-.4-.4-.92-.59-1.43-.59-.52 0-1.04.2-1.43.59L10.3 9.45l-7.72 7.72c-.78.78-.78 2.05 0 2.83L4 21.41c.39.39.9.59 1.41.59.51 0 1.02-.2 1.41-.59l7.78-7.78 2.81-2.81c.8-.78.8-2.07 0-2.86zM5.41 20L4 18.59l7.72-7.72 1.47 1.35L5.41 20z\"/>\n",
              "  </svg>\n",
              "      </button>\n",
              "      \n",
              "  <style>\n",
              "    .colab-df-container {\n",
              "      display:flex;\n",
              "      flex-wrap:wrap;\n",
              "      gap: 12px;\n",
              "    }\n",
              "\n",
              "    .colab-df-convert {\n",
              "      background-color: #E8F0FE;\n",
              "      border: none;\n",
              "      border-radius: 50%;\n",
              "      cursor: pointer;\n",
              "      display: none;\n",
              "      fill: #1967D2;\n",
              "      height: 32px;\n",
              "      padding: 0 0 0 0;\n",
              "      width: 32px;\n",
              "    }\n",
              "\n",
              "    .colab-df-convert:hover {\n",
              "      background-color: #E2EBFA;\n",
              "      box-shadow: 0px 1px 2px rgba(60, 64, 67, 0.3), 0px 1px 3px 1px rgba(60, 64, 67, 0.15);\n",
              "      fill: #174EA6;\n",
              "    }\n",
              "\n",
              "    [theme=dark] .colab-df-convert {\n",
              "      background-color: #3B4455;\n",
              "      fill: #D2E3FC;\n",
              "    }\n",
              "\n",
              "    [theme=dark] .colab-df-convert:hover {\n",
              "      background-color: #434B5C;\n",
              "      box-shadow: 0px 1px 3px 1px rgba(0, 0, 0, 0.15);\n",
              "      filter: drop-shadow(0px 1px 2px rgba(0, 0, 0, 0.3));\n",
              "      fill: #FFFFFF;\n",
              "    }\n",
              "  </style>\n",
              "\n",
              "      <script>\n",
              "        const buttonEl =\n",
              "          document.querySelector('#df-b2d175ca-2acc-4bd2-82fd-0e5cb415984e button.colab-df-convert');\n",
              "        buttonEl.style.display =\n",
              "          google.colab.kernel.accessAllowed ? 'block' : 'none';\n",
              "\n",
              "        async function convertToInteractive(key) {\n",
              "          const element = document.querySelector('#df-b2d175ca-2acc-4bd2-82fd-0e5cb415984e');\n",
              "          const dataTable =\n",
              "            await google.colab.kernel.invokeFunction('convertToInteractive',\n",
              "                                                     [key], {});\n",
              "          if (!dataTable) return;\n",
              "\n",
              "          const docLinkHtml = 'Like what you see? Visit the ' +\n",
              "            '<a target=\"_blank\" href=https://colab.research.google.com/notebooks/data_table.ipynb>data table notebook</a>'\n",
              "            + ' to learn more about interactive tables.';\n",
              "          element.innerHTML = '';\n",
              "          dataTable['output_type'] = 'display_data';\n",
              "          await google.colab.output.renderOutput(dataTable, element);\n",
              "          const docLink = document.createElement('div');\n",
              "          docLink.innerHTML = docLinkHtml;\n",
              "          element.appendChild(docLink);\n",
              "        }\n",
              "      </script>\n",
              "    </div>\n",
              "  </div>\n",
              "  "
            ]
          },
          "metadata": {},
          "execution_count": 63
        }
      ],
      "source": [
        "pd.crosstab(train.subject, train.Activity)"
      ]
    },
    {
      "cell_type": "code",
      "execution_count": 79,
      "metadata": {
        "id": "p2Wim4DWqT7t"
      },
      "outputs": [],
      "source": [
        "sub15 = train.loc[train['subject']==1]"
      ]
    },
    {
      "cell_type": "code",
      "source": [
        "gne = train.loc[train['subject']==6]\n",
        "gne"
      ],
      "metadata": {
        "colab": {
          "base_uri": "https://localhost:8080/",
          "height": 488
        },
        "id": "htUQQrfBIx7H",
        "outputId": "78532623-b8b4-46f0-c1a7-bd05a304bf73"
      },
      "execution_count": 73,
      "outputs": [
        {
          "output_type": "execute_result",
          "data": {
            "text/plain": [
              "      tBodyAccmean()X  tBodyAccmean()Y  tBodyAccmean()Z  tBodyAccstd()X  \\\n",
              "1064         0.228527        -0.012997        -0.106390       -0.963922   \n",
              "1243         0.317191        -0.036689        -0.111043       -0.193606   \n",
              "1092         0.281945         0.003386        -0.166914       -0.383107   \n",
              "1052         0.132193        -0.009769        -0.140621       -0.940096   \n",
              "1300         0.372181        -0.050600        -0.141656       -0.013337   \n",
              "...               ...              ...              ...             ...   \n",
              "1101         0.333925        -0.024604        -0.117716       -0.262137   \n",
              "1139         0.145940        -0.101694        -0.173000       -0.090301   \n",
              "1206         0.279606        -0.018592        -0.104835       -0.989545   \n",
              "1037         0.282552        -0.020935        -0.119037       -0.982855   \n",
              "1156         0.263444        -0.065645        -0.243609       -0.916687   \n",
              "\n",
              "      tBodyAccstd()Y  tBodyAccstd()Z  tBodyAccmad()X  tBodyAccmad()Y  \\\n",
              "1064       -0.942354       -0.966631       -0.967488       -0.948001   \n",
              "1243        0.189214       -0.317457       -0.272630        0.216665   \n",
              "1092       -0.029148       -0.611022       -0.436376       -0.075458   \n",
              "1052       -0.915539       -0.938238       -0.942321       -0.929840   \n",
              "1300        0.250864       -0.388192       -0.043156        0.245873   \n",
              "...              ...             ...             ...             ...   \n",
              "1101        0.138769       -0.581897       -0.329035        0.157433   \n",
              "1139        0.169615       -0.461691       -0.166199        0.193425   \n",
              "1206       -0.957220       -0.948913       -0.991033       -0.954778   \n",
              "1037       -0.919460       -0.964801       -0.984957       -0.918638   \n",
              "1156       -0.810723       -0.867763       -0.953989       -0.820198   \n",
              "\n",
              "      tBodyAccmad()Z  tBodyAccmax()X  ...  fBodyBodyGyroJerkMagkurtosis()  \\\n",
              "1064       -0.966005       -0.908369  ...                       -0.844500   \n",
              "1243       -0.365356        0.003872  ...                       -0.689157   \n",
              "1092       -0.618421       -0.089839  ...                       -0.543719   \n",
              "1052       -0.936178       -0.939526  ...                        0.407799   \n",
              "1300       -0.428084        0.153839  ...                       -0.433389   \n",
              "...              ...             ...  ...                             ...   \n",
              "1101       -0.581428        0.059184  ...                       -0.631388   \n",
              "1139       -0.435026        0.141388  ...                        0.320814   \n",
              "1206       -0.948114       -0.932165  ...                       -0.900417   \n",
              "1037       -0.963026       -0.920575  ...                        0.687559   \n",
              "1156       -0.867249       -0.847508  ...                       -0.682369   \n",
              "\n",
              "      angle(tBodyAccMean,gravity)  angle(tBodyAccJerkMean),gravityMean)  \\\n",
              "1064                    -0.122402                             -0.307267   \n",
              "1243                    -0.555150                              0.879158   \n",
              "1092                     0.053994                             -0.208556   \n",
              "1052                     0.001999                              0.250409   \n",
              "1300                    -0.643618                             -0.918125   \n",
              "...                           ...                                   ...   \n",
              "1101                    -0.804562                              0.908157   \n",
              "1139                     0.193745                              0.714483   \n",
              "1206                    -0.122838                             -0.283072   \n",
              "1037                    -0.046070                             -0.016382   \n",
              "1156                     0.025154                             -0.020983   \n",
              "\n",
              "      angle(tBodyGyroMean,gravityMean)  angle(tBodyGyroJerkMean,gravityMean)  \\\n",
              "1064                          0.003064                              0.204270   \n",
              "1243                          0.389690                              0.629891   \n",
              "1092                          0.971301                             -0.543725   \n",
              "1052                          0.146571                              0.555293   \n",
              "1300                          0.874572                             -0.738049   \n",
              "...                                ...                                   ...   \n",
              "1101                         -0.464254                              0.666057   \n",
              "1139                          0.967758                             -0.318322   \n",
              "1206                          0.159214                              0.324006   \n",
              "1037                          0.824262                             -0.931423   \n",
              "1156                         -0.083200                             -0.672261   \n",
              "\n",
              "      angle(X,gravityMean)  angle(Y,gravityMean)  angle(Z,gravityMean)  \\\n",
              "1064              0.580720             -0.991795              0.006943   \n",
              "1243             -0.784379              0.244243             -0.012437   \n",
              "1092             -0.810526              0.227712             -0.001956   \n",
              "1052              0.535149             -0.873781             -0.112129   \n",
              "1300             -0.683720              0.316328              0.029814   \n",
              "...                    ...                   ...                   ...   \n",
              "1101             -0.829948              0.215111              0.005539   \n",
              "1139             -0.753035              0.267588             -0.002990   \n",
              "1206             -0.820808              0.151454              0.135025   \n",
              "1037             -0.832250              0.057866             -0.097845   \n",
              "1156             -0.862494              0.188197             -0.014076   \n",
              "\n",
              "      subject          Activity  \n",
              "1064        6            LAYING  \n",
              "1243        6           WALKING  \n",
              "1092        6           WALKING  \n",
              "1052        6            LAYING  \n",
              "1300        6  WALKING_UPSTAIRS  \n",
              "...       ...               ...  \n",
              "1101        6           WALKING  \n",
              "1139        6  WALKING_UPSTAIRS  \n",
              "1206        6           SITTING  \n",
              "1037        6           SITTING  \n",
              "1156        6          STANDING  \n",
              "\n",
              "[325 rows x 563 columns]"
            ],
            "text/html": [
              "\n",
              "  <div id=\"df-1177a66b-9346-4df9-86b2-8de75ac7b5d4\">\n",
              "    <div class=\"colab-df-container\">\n",
              "      <div>\n",
              "<style scoped>\n",
              "    .dataframe tbody tr th:only-of-type {\n",
              "        vertical-align: middle;\n",
              "    }\n",
              "\n",
              "    .dataframe tbody tr th {\n",
              "        vertical-align: top;\n",
              "    }\n",
              "\n",
              "    .dataframe thead th {\n",
              "        text-align: right;\n",
              "    }\n",
              "</style>\n",
              "<table border=\"1\" class=\"dataframe\">\n",
              "  <thead>\n",
              "    <tr style=\"text-align: right;\">\n",
              "      <th></th>\n",
              "      <th>tBodyAccmean()X</th>\n",
              "      <th>tBodyAccmean()Y</th>\n",
              "      <th>tBodyAccmean()Z</th>\n",
              "      <th>tBodyAccstd()X</th>\n",
              "      <th>tBodyAccstd()Y</th>\n",
              "      <th>tBodyAccstd()Z</th>\n",
              "      <th>tBodyAccmad()X</th>\n",
              "      <th>tBodyAccmad()Y</th>\n",
              "      <th>tBodyAccmad()Z</th>\n",
              "      <th>tBodyAccmax()X</th>\n",
              "      <th>...</th>\n",
              "      <th>fBodyBodyGyroJerkMagkurtosis()</th>\n",
              "      <th>angle(tBodyAccMean,gravity)</th>\n",
              "      <th>angle(tBodyAccJerkMean),gravityMean)</th>\n",
              "      <th>angle(tBodyGyroMean,gravityMean)</th>\n",
              "      <th>angle(tBodyGyroJerkMean,gravityMean)</th>\n",
              "      <th>angle(X,gravityMean)</th>\n",
              "      <th>angle(Y,gravityMean)</th>\n",
              "      <th>angle(Z,gravityMean)</th>\n",
              "      <th>subject</th>\n",
              "      <th>Activity</th>\n",
              "    </tr>\n",
              "  </thead>\n",
              "  <tbody>\n",
              "    <tr>\n",
              "      <th>1064</th>\n",
              "      <td>0.228527</td>\n",
              "      <td>-0.012997</td>\n",
              "      <td>-0.106390</td>\n",
              "      <td>-0.963922</td>\n",
              "      <td>-0.942354</td>\n",
              "      <td>-0.966631</td>\n",
              "      <td>-0.967488</td>\n",
              "      <td>-0.948001</td>\n",
              "      <td>-0.966005</td>\n",
              "      <td>-0.908369</td>\n",
              "      <td>...</td>\n",
              "      <td>-0.844500</td>\n",
              "      <td>-0.122402</td>\n",
              "      <td>-0.307267</td>\n",
              "      <td>0.003064</td>\n",
              "      <td>0.204270</td>\n",
              "      <td>0.580720</td>\n",
              "      <td>-0.991795</td>\n",
              "      <td>0.006943</td>\n",
              "      <td>6</td>\n",
              "      <td>LAYING</td>\n",
              "    </tr>\n",
              "    <tr>\n",
              "      <th>1243</th>\n",
              "      <td>0.317191</td>\n",
              "      <td>-0.036689</td>\n",
              "      <td>-0.111043</td>\n",
              "      <td>-0.193606</td>\n",
              "      <td>0.189214</td>\n",
              "      <td>-0.317457</td>\n",
              "      <td>-0.272630</td>\n",
              "      <td>0.216665</td>\n",
              "      <td>-0.365356</td>\n",
              "      <td>0.003872</td>\n",
              "      <td>...</td>\n",
              "      <td>-0.689157</td>\n",
              "      <td>-0.555150</td>\n",
              "      <td>0.879158</td>\n",
              "      <td>0.389690</td>\n",
              "      <td>0.629891</td>\n",
              "      <td>-0.784379</td>\n",
              "      <td>0.244243</td>\n",
              "      <td>-0.012437</td>\n",
              "      <td>6</td>\n",
              "      <td>WALKING</td>\n",
              "    </tr>\n",
              "    <tr>\n",
              "      <th>1092</th>\n",
              "      <td>0.281945</td>\n",
              "      <td>0.003386</td>\n",
              "      <td>-0.166914</td>\n",
              "      <td>-0.383107</td>\n",
              "      <td>-0.029148</td>\n",
              "      <td>-0.611022</td>\n",
              "      <td>-0.436376</td>\n",
              "      <td>-0.075458</td>\n",
              "      <td>-0.618421</td>\n",
              "      <td>-0.089839</td>\n",
              "      <td>...</td>\n",
              "      <td>-0.543719</td>\n",
              "      <td>0.053994</td>\n",
              "      <td>-0.208556</td>\n",
              "      <td>0.971301</td>\n",
              "      <td>-0.543725</td>\n",
              "      <td>-0.810526</td>\n",
              "      <td>0.227712</td>\n",
              "      <td>-0.001956</td>\n",
              "      <td>6</td>\n",
              "      <td>WALKING</td>\n",
              "    </tr>\n",
              "    <tr>\n",
              "      <th>1052</th>\n",
              "      <td>0.132193</td>\n",
              "      <td>-0.009769</td>\n",
              "      <td>-0.140621</td>\n",
              "      <td>-0.940096</td>\n",
              "      <td>-0.915539</td>\n",
              "      <td>-0.938238</td>\n",
              "      <td>-0.942321</td>\n",
              "      <td>-0.929840</td>\n",
              "      <td>-0.936178</td>\n",
              "      <td>-0.939526</td>\n",
              "      <td>...</td>\n",
              "      <td>0.407799</td>\n",
              "      <td>0.001999</td>\n",
              "      <td>0.250409</td>\n",
              "      <td>0.146571</td>\n",
              "      <td>0.555293</td>\n",
              "      <td>0.535149</td>\n",
              "      <td>-0.873781</td>\n",
              "      <td>-0.112129</td>\n",
              "      <td>6</td>\n",
              "      <td>LAYING</td>\n",
              "    </tr>\n",
              "    <tr>\n",
              "      <th>1300</th>\n",
              "      <td>0.372181</td>\n",
              "      <td>-0.050600</td>\n",
              "      <td>-0.141656</td>\n",
              "      <td>-0.013337</td>\n",
              "      <td>0.250864</td>\n",
              "      <td>-0.388192</td>\n",
              "      <td>-0.043156</td>\n",
              "      <td>0.245873</td>\n",
              "      <td>-0.428084</td>\n",
              "      <td>0.153839</td>\n",
              "      <td>...</td>\n",
              "      <td>-0.433389</td>\n",
              "      <td>-0.643618</td>\n",
              "      <td>-0.918125</td>\n",
              "      <td>0.874572</td>\n",
              "      <td>-0.738049</td>\n",
              "      <td>-0.683720</td>\n",
              "      <td>0.316328</td>\n",
              "      <td>0.029814</td>\n",
              "      <td>6</td>\n",
              "      <td>WALKING_UPSTAIRS</td>\n",
              "    </tr>\n",
              "    <tr>\n",
              "      <th>...</th>\n",
              "      <td>...</td>\n",
              "      <td>...</td>\n",
              "      <td>...</td>\n",
              "      <td>...</td>\n",
              "      <td>...</td>\n",
              "      <td>...</td>\n",
              "      <td>...</td>\n",
              "      <td>...</td>\n",
              "      <td>...</td>\n",
              "      <td>...</td>\n",
              "      <td>...</td>\n",
              "      <td>...</td>\n",
              "      <td>...</td>\n",
              "      <td>...</td>\n",
              "      <td>...</td>\n",
              "      <td>...</td>\n",
              "      <td>...</td>\n",
              "      <td>...</td>\n",
              "      <td>...</td>\n",
              "      <td>...</td>\n",
              "      <td>...</td>\n",
              "    </tr>\n",
              "    <tr>\n",
              "      <th>1101</th>\n",
              "      <td>0.333925</td>\n",
              "      <td>-0.024604</td>\n",
              "      <td>-0.117716</td>\n",
              "      <td>-0.262137</td>\n",
              "      <td>0.138769</td>\n",
              "      <td>-0.581897</td>\n",
              "      <td>-0.329035</td>\n",
              "      <td>0.157433</td>\n",
              "      <td>-0.581428</td>\n",
              "      <td>0.059184</td>\n",
              "      <td>...</td>\n",
              "      <td>-0.631388</td>\n",
              "      <td>-0.804562</td>\n",
              "      <td>0.908157</td>\n",
              "      <td>-0.464254</td>\n",
              "      <td>0.666057</td>\n",
              "      <td>-0.829948</td>\n",
              "      <td>0.215111</td>\n",
              "      <td>0.005539</td>\n",
              "      <td>6</td>\n",
              "      <td>WALKING</td>\n",
              "    </tr>\n",
              "    <tr>\n",
              "      <th>1139</th>\n",
              "      <td>0.145940</td>\n",
              "      <td>-0.101694</td>\n",
              "      <td>-0.173000</td>\n",
              "      <td>-0.090301</td>\n",
              "      <td>0.169615</td>\n",
              "      <td>-0.461691</td>\n",
              "      <td>-0.166199</td>\n",
              "      <td>0.193425</td>\n",
              "      <td>-0.435026</td>\n",
              "      <td>0.141388</td>\n",
              "      <td>...</td>\n",
              "      <td>0.320814</td>\n",
              "      <td>0.193745</td>\n",
              "      <td>0.714483</td>\n",
              "      <td>0.967758</td>\n",
              "      <td>-0.318322</td>\n",
              "      <td>-0.753035</td>\n",
              "      <td>0.267588</td>\n",
              "      <td>-0.002990</td>\n",
              "      <td>6</td>\n",
              "      <td>WALKING_UPSTAIRS</td>\n",
              "    </tr>\n",
              "    <tr>\n",
              "      <th>1206</th>\n",
              "      <td>0.279606</td>\n",
              "      <td>-0.018592</td>\n",
              "      <td>-0.104835</td>\n",
              "      <td>-0.989545</td>\n",
              "      <td>-0.957220</td>\n",
              "      <td>-0.948913</td>\n",
              "      <td>-0.991033</td>\n",
              "      <td>-0.954778</td>\n",
              "      <td>-0.948114</td>\n",
              "      <td>-0.932165</td>\n",
              "      <td>...</td>\n",
              "      <td>-0.900417</td>\n",
              "      <td>-0.122838</td>\n",
              "      <td>-0.283072</td>\n",
              "      <td>0.159214</td>\n",
              "      <td>0.324006</td>\n",
              "      <td>-0.820808</td>\n",
              "      <td>0.151454</td>\n",
              "      <td>0.135025</td>\n",
              "      <td>6</td>\n",
              "      <td>SITTING</td>\n",
              "    </tr>\n",
              "    <tr>\n",
              "      <th>1037</th>\n",
              "      <td>0.282552</td>\n",
              "      <td>-0.020935</td>\n",
              "      <td>-0.119037</td>\n",
              "      <td>-0.982855</td>\n",
              "      <td>-0.919460</td>\n",
              "      <td>-0.964801</td>\n",
              "      <td>-0.984957</td>\n",
              "      <td>-0.918638</td>\n",
              "      <td>-0.963026</td>\n",
              "      <td>-0.920575</td>\n",
              "      <td>...</td>\n",
              "      <td>0.687559</td>\n",
              "      <td>-0.046070</td>\n",
              "      <td>-0.016382</td>\n",
              "      <td>0.824262</td>\n",
              "      <td>-0.931423</td>\n",
              "      <td>-0.832250</td>\n",
              "      <td>0.057866</td>\n",
              "      <td>-0.097845</td>\n",
              "      <td>6</td>\n",
              "      <td>SITTING</td>\n",
              "    </tr>\n",
              "    <tr>\n",
              "      <th>1156</th>\n",
              "      <td>0.263444</td>\n",
              "      <td>-0.065645</td>\n",
              "      <td>-0.243609</td>\n",
              "      <td>-0.916687</td>\n",
              "      <td>-0.810723</td>\n",
              "      <td>-0.867763</td>\n",
              "      <td>-0.953989</td>\n",
              "      <td>-0.820198</td>\n",
              "      <td>-0.867249</td>\n",
              "      <td>-0.847508</td>\n",
              "      <td>...</td>\n",
              "      <td>-0.682369</td>\n",
              "      <td>0.025154</td>\n",
              "      <td>-0.020983</td>\n",
              "      <td>-0.083200</td>\n",
              "      <td>-0.672261</td>\n",
              "      <td>-0.862494</td>\n",
              "      <td>0.188197</td>\n",
              "      <td>-0.014076</td>\n",
              "      <td>6</td>\n",
              "      <td>STANDING</td>\n",
              "    </tr>\n",
              "  </tbody>\n",
              "</table>\n",
              "<p>325 rows × 563 columns</p>\n",
              "</div>\n",
              "      <button class=\"colab-df-convert\" onclick=\"convertToInteractive('df-1177a66b-9346-4df9-86b2-8de75ac7b5d4')\"\n",
              "              title=\"Convert this dataframe to an interactive table.\"\n",
              "              style=\"display:none;\">\n",
              "        \n",
              "  <svg xmlns=\"http://www.w3.org/2000/svg\" height=\"24px\"viewBox=\"0 0 24 24\"\n",
              "       width=\"24px\">\n",
              "    <path d=\"M0 0h24v24H0V0z\" fill=\"none\"/>\n",
              "    <path d=\"M18.56 5.44l.94 2.06.94-2.06 2.06-.94-2.06-.94-.94-2.06-.94 2.06-2.06.94zm-11 1L8.5 8.5l.94-2.06 2.06-.94-2.06-.94L8.5 2.5l-.94 2.06-2.06.94zm10 10l.94 2.06.94-2.06 2.06-.94-2.06-.94-.94-2.06-.94 2.06-2.06.94z\"/><path d=\"M17.41 7.96l-1.37-1.37c-.4-.4-.92-.59-1.43-.59-.52 0-1.04.2-1.43.59L10.3 9.45l-7.72 7.72c-.78.78-.78 2.05 0 2.83L4 21.41c.39.39.9.59 1.41.59.51 0 1.02-.2 1.41-.59l7.78-7.78 2.81-2.81c.8-.78.8-2.07 0-2.86zM5.41 20L4 18.59l7.72-7.72 1.47 1.35L5.41 20z\"/>\n",
              "  </svg>\n",
              "      </button>\n",
              "      \n",
              "  <style>\n",
              "    .colab-df-container {\n",
              "      display:flex;\n",
              "      flex-wrap:wrap;\n",
              "      gap: 12px;\n",
              "    }\n",
              "\n",
              "    .colab-df-convert {\n",
              "      background-color: #E8F0FE;\n",
              "      border: none;\n",
              "      border-radius: 50%;\n",
              "      cursor: pointer;\n",
              "      display: none;\n",
              "      fill: #1967D2;\n",
              "      height: 32px;\n",
              "      padding: 0 0 0 0;\n",
              "      width: 32px;\n",
              "    }\n",
              "\n",
              "    .colab-df-convert:hover {\n",
              "      background-color: #E2EBFA;\n",
              "      box-shadow: 0px 1px 2px rgba(60, 64, 67, 0.3), 0px 1px 3px 1px rgba(60, 64, 67, 0.15);\n",
              "      fill: #174EA6;\n",
              "    }\n",
              "\n",
              "    [theme=dark] .colab-df-convert {\n",
              "      background-color: #3B4455;\n",
              "      fill: #D2E3FC;\n",
              "    }\n",
              "\n",
              "    [theme=dark] .colab-df-convert:hover {\n",
              "      background-color: #434B5C;\n",
              "      box-shadow: 0px 1px 3px 1px rgba(0, 0, 0, 0.15);\n",
              "      filter: drop-shadow(0px 1px 2px rgba(0, 0, 0, 0.3));\n",
              "      fill: #FFFFFF;\n",
              "    }\n",
              "  </style>\n",
              "\n",
              "      <script>\n",
              "        const buttonEl =\n",
              "          document.querySelector('#df-1177a66b-9346-4df9-86b2-8de75ac7b5d4 button.colab-df-convert');\n",
              "        buttonEl.style.display =\n",
              "          google.colab.kernel.accessAllowed ? 'block' : 'none';\n",
              "\n",
              "        async function convertToInteractive(key) {\n",
              "          const element = document.querySelector('#df-1177a66b-9346-4df9-86b2-8de75ac7b5d4');\n",
              "          const dataTable =\n",
              "            await google.colab.kernel.invokeFunction('convertToInteractive',\n",
              "                                                     [key], {});\n",
              "          if (!dataTable) return;\n",
              "\n",
              "          const docLinkHtml = 'Like what you see? Visit the ' +\n",
              "            '<a target=\"_blank\" href=https://colab.research.google.com/notebooks/data_table.ipynb>data table notebook</a>'\n",
              "            + ' to learn more about interactive tables.';\n",
              "          element.innerHTML = '';\n",
              "          dataTable['output_type'] = 'display_data';\n",
              "          await google.colab.output.renderOutput(dataTable, element);\n",
              "          const docLink = document.createElement('div');\n",
              "          docLink.innerHTML = docLinkHtml;\n",
              "          element.appendChild(docLink);\n",
              "        }\n",
              "      </script>\n",
              "    </div>\n",
              "  </div>\n",
              "  "
            ]
          },
          "metadata": {},
          "execution_count": 73
        }
      ]
    },
    {
      "cell_type": "code",
      "execution_count": 81,
      "metadata": {
        "colab": {
          "base_uri": "https://localhost:8080/"
        },
        "id": "WEV5eHhfqT7t",
        "outputId": "71e6bc56-fdc6-47a0-d7ca-2d36c3c226c8"
      },
      "outputs": [
        {
          "output_type": "execute_result",
          "data": {
            "text/plain": [
              "(347, 563)"
            ]
          },
          "metadata": {},
          "execution_count": 81
        }
      ],
      "source": [
        "sub15.shape"
      ]
    },
    {
      "cell_type": "code",
      "execution_count": 75,
      "metadata": {
        "colab": {
          "base_uri": "https://localhost:8080/",
          "height": 300
        },
        "id": "EeBWdbAzqT7t",
        "outputId": "8ee403f1-b6d4-48d2-b4aa-a2083a2c9d5f"
      },
      "outputs": [
        {
          "output_type": "execute_result",
          "data": {
            "text/plain": [
              "      tBodyAccmean()X  tBodyAccmean()Y  tBodyAccmean()Z  tBodyAccstd()X  \\\n",
              "4338         0.271792        -0.011229        -0.090045        0.147879   \n",
              "5084         0.279670        -0.016973        -0.112339       -0.996651   \n",
              "4589         0.271961        -0.019885        -0.069584       -0.961967   \n",
              "6999         0.193904         0.062213        -0.004171       -0.919927   \n",
              "3316         0.266792        -0.027783        -0.095397       -0.985611   \n",
              "\n",
              "      tBodyAccstd()Y  tBodyAccstd()Z  tBodyAccmad()X  tBodyAccmad()Y  \\\n",
              "4338        0.243548       -0.031222        0.108900        0.217397   \n",
              "5084       -0.981544       -0.992492       -0.997302       -0.982681   \n",
              "4589       -0.888776       -0.884055       -0.973663       -0.913243   \n",
              "6999       -0.631923       -0.744273       -0.929471       -0.620840   \n",
              "3316       -0.957972       -0.970953       -0.986191       -0.955409   \n",
              "\n",
              "      tBodyAccmad()Z  tBodyAccmax()X  ...  fBodyBodyGyroJerkMagkurtosis()  \\\n",
              "4338       -0.104161        0.354371  ...                       -0.940788   \n",
              "5084       -0.992942       -0.940944  ...                       -0.840815   \n",
              "4589       -0.884899       -0.837707  ...                       -0.584807   \n",
              "6999       -0.730569       -0.943625  ...                       -0.778021   \n",
              "3316       -0.970175       -0.930795  ...                       -0.771510   \n",
              "\n",
              "      angle(tBodyAccMean,gravity)  angle(tBodyAccJerkMean),gravityMean)  \\\n",
              "4338                     0.303362                             -0.822421   \n",
              "5084                     0.006551                              0.333905   \n",
              "4589                     0.004294                              0.148213   \n",
              "6999                     0.092564                              0.140510   \n",
              "3316                    -0.011703                             -0.107808   \n",
              "\n",
              "      angle(tBodyGyroMean,gravityMean)  angle(tBodyGyroJerkMean,gravityMean)  \\\n",
              "4338                          0.962575                              0.509678   \n",
              "5084                         -0.693329                             -0.580610   \n",
              "4589                         -0.055767                              0.025825   \n",
              "6999                         -0.006112                             -0.007317   \n",
              "3316                         -0.014790                              0.440267   \n",
              "\n",
              "      angle(X,gravityMean)  angle(Y,gravityMean)  angle(Z,gravityMean)  \\\n",
              "4338             -0.631202              0.324283              0.135895   \n",
              "5084             -0.660869              0.198577             -0.201772   \n",
              "4589             -0.874982              0.044080             -0.056103   \n",
              "6999             -0.721491              0.103360             -0.183994   \n",
              "3316              0.400820             -0.289821             -0.697410   \n",
              "\n",
              "      subject            Activity  \n",
              "4338       21  WALKING_DOWNSTAIRS  \n",
              "5084       25            STANDING  \n",
              "4589       22             SITTING  \n",
              "6999       30             SITTING  \n",
              "3316       17              LAYING  \n",
              "\n",
              "[5 rows x 563 columns]"
            ],
            "text/html": [
              "\n",
              "  <div id=\"df-f522aec8-4882-4b93-9b79-c2431dfbaab6\">\n",
              "    <div class=\"colab-df-container\">\n",
              "      <div>\n",
              "<style scoped>\n",
              "    .dataframe tbody tr th:only-of-type {\n",
              "        vertical-align: middle;\n",
              "    }\n",
              "\n",
              "    .dataframe tbody tr th {\n",
              "        vertical-align: top;\n",
              "    }\n",
              "\n",
              "    .dataframe thead th {\n",
              "        text-align: right;\n",
              "    }\n",
              "</style>\n",
              "<table border=\"1\" class=\"dataframe\">\n",
              "  <thead>\n",
              "    <tr style=\"text-align: right;\">\n",
              "      <th></th>\n",
              "      <th>tBodyAccmean()X</th>\n",
              "      <th>tBodyAccmean()Y</th>\n",
              "      <th>tBodyAccmean()Z</th>\n",
              "      <th>tBodyAccstd()X</th>\n",
              "      <th>tBodyAccstd()Y</th>\n",
              "      <th>tBodyAccstd()Z</th>\n",
              "      <th>tBodyAccmad()X</th>\n",
              "      <th>tBodyAccmad()Y</th>\n",
              "      <th>tBodyAccmad()Z</th>\n",
              "      <th>tBodyAccmax()X</th>\n",
              "      <th>...</th>\n",
              "      <th>fBodyBodyGyroJerkMagkurtosis()</th>\n",
              "      <th>angle(tBodyAccMean,gravity)</th>\n",
              "      <th>angle(tBodyAccJerkMean),gravityMean)</th>\n",
              "      <th>angle(tBodyGyroMean,gravityMean)</th>\n",
              "      <th>angle(tBodyGyroJerkMean,gravityMean)</th>\n",
              "      <th>angle(X,gravityMean)</th>\n",
              "      <th>angle(Y,gravityMean)</th>\n",
              "      <th>angle(Z,gravityMean)</th>\n",
              "      <th>subject</th>\n",
              "      <th>Activity</th>\n",
              "    </tr>\n",
              "  </thead>\n",
              "  <tbody>\n",
              "    <tr>\n",
              "      <th>4338</th>\n",
              "      <td>0.271792</td>\n",
              "      <td>-0.011229</td>\n",
              "      <td>-0.090045</td>\n",
              "      <td>0.147879</td>\n",
              "      <td>0.243548</td>\n",
              "      <td>-0.031222</td>\n",
              "      <td>0.108900</td>\n",
              "      <td>0.217397</td>\n",
              "      <td>-0.104161</td>\n",
              "      <td>0.354371</td>\n",
              "      <td>...</td>\n",
              "      <td>-0.940788</td>\n",
              "      <td>0.303362</td>\n",
              "      <td>-0.822421</td>\n",
              "      <td>0.962575</td>\n",
              "      <td>0.509678</td>\n",
              "      <td>-0.631202</td>\n",
              "      <td>0.324283</td>\n",
              "      <td>0.135895</td>\n",
              "      <td>21</td>\n",
              "      <td>WALKING_DOWNSTAIRS</td>\n",
              "    </tr>\n",
              "    <tr>\n",
              "      <th>5084</th>\n",
              "      <td>0.279670</td>\n",
              "      <td>-0.016973</td>\n",
              "      <td>-0.112339</td>\n",
              "      <td>-0.996651</td>\n",
              "      <td>-0.981544</td>\n",
              "      <td>-0.992492</td>\n",
              "      <td>-0.997302</td>\n",
              "      <td>-0.982681</td>\n",
              "      <td>-0.992942</td>\n",
              "      <td>-0.940944</td>\n",
              "      <td>...</td>\n",
              "      <td>-0.840815</td>\n",
              "      <td>0.006551</td>\n",
              "      <td>0.333905</td>\n",
              "      <td>-0.693329</td>\n",
              "      <td>-0.580610</td>\n",
              "      <td>-0.660869</td>\n",
              "      <td>0.198577</td>\n",
              "      <td>-0.201772</td>\n",
              "      <td>25</td>\n",
              "      <td>STANDING</td>\n",
              "    </tr>\n",
              "    <tr>\n",
              "      <th>4589</th>\n",
              "      <td>0.271961</td>\n",
              "      <td>-0.019885</td>\n",
              "      <td>-0.069584</td>\n",
              "      <td>-0.961967</td>\n",
              "      <td>-0.888776</td>\n",
              "      <td>-0.884055</td>\n",
              "      <td>-0.973663</td>\n",
              "      <td>-0.913243</td>\n",
              "      <td>-0.884899</td>\n",
              "      <td>-0.837707</td>\n",
              "      <td>...</td>\n",
              "      <td>-0.584807</td>\n",
              "      <td>0.004294</td>\n",
              "      <td>0.148213</td>\n",
              "      <td>-0.055767</td>\n",
              "      <td>0.025825</td>\n",
              "      <td>-0.874982</td>\n",
              "      <td>0.044080</td>\n",
              "      <td>-0.056103</td>\n",
              "      <td>22</td>\n",
              "      <td>SITTING</td>\n",
              "    </tr>\n",
              "    <tr>\n",
              "      <th>6999</th>\n",
              "      <td>0.193904</td>\n",
              "      <td>0.062213</td>\n",
              "      <td>-0.004171</td>\n",
              "      <td>-0.919927</td>\n",
              "      <td>-0.631923</td>\n",
              "      <td>-0.744273</td>\n",
              "      <td>-0.929471</td>\n",
              "      <td>-0.620840</td>\n",
              "      <td>-0.730569</td>\n",
              "      <td>-0.943625</td>\n",
              "      <td>...</td>\n",
              "      <td>-0.778021</td>\n",
              "      <td>0.092564</td>\n",
              "      <td>0.140510</td>\n",
              "      <td>-0.006112</td>\n",
              "      <td>-0.007317</td>\n",
              "      <td>-0.721491</td>\n",
              "      <td>0.103360</td>\n",
              "      <td>-0.183994</td>\n",
              "      <td>30</td>\n",
              "      <td>SITTING</td>\n",
              "    </tr>\n",
              "    <tr>\n",
              "      <th>3316</th>\n",
              "      <td>0.266792</td>\n",
              "      <td>-0.027783</td>\n",
              "      <td>-0.095397</td>\n",
              "      <td>-0.985611</td>\n",
              "      <td>-0.957972</td>\n",
              "      <td>-0.970953</td>\n",
              "      <td>-0.986191</td>\n",
              "      <td>-0.955409</td>\n",
              "      <td>-0.970175</td>\n",
              "      <td>-0.930795</td>\n",
              "      <td>...</td>\n",
              "      <td>-0.771510</td>\n",
              "      <td>-0.011703</td>\n",
              "      <td>-0.107808</td>\n",
              "      <td>-0.014790</td>\n",
              "      <td>0.440267</td>\n",
              "      <td>0.400820</td>\n",
              "      <td>-0.289821</td>\n",
              "      <td>-0.697410</td>\n",
              "      <td>17</td>\n",
              "      <td>LAYING</td>\n",
              "    </tr>\n",
              "  </tbody>\n",
              "</table>\n",
              "<p>5 rows × 563 columns</p>\n",
              "</div>\n",
              "      <button class=\"colab-df-convert\" onclick=\"convertToInteractive('df-f522aec8-4882-4b93-9b79-c2431dfbaab6')\"\n",
              "              title=\"Convert this dataframe to an interactive table.\"\n",
              "              style=\"display:none;\">\n",
              "        \n",
              "  <svg xmlns=\"http://www.w3.org/2000/svg\" height=\"24px\"viewBox=\"0 0 24 24\"\n",
              "       width=\"24px\">\n",
              "    <path d=\"M0 0h24v24H0V0z\" fill=\"none\"/>\n",
              "    <path d=\"M18.56 5.44l.94 2.06.94-2.06 2.06-.94-2.06-.94-.94-2.06-.94 2.06-2.06.94zm-11 1L8.5 8.5l.94-2.06 2.06-.94-2.06-.94L8.5 2.5l-.94 2.06-2.06.94zm10 10l.94 2.06.94-2.06 2.06-.94-2.06-.94-.94-2.06-.94 2.06-2.06.94z\"/><path d=\"M17.41 7.96l-1.37-1.37c-.4-.4-.92-.59-1.43-.59-.52 0-1.04.2-1.43.59L10.3 9.45l-7.72 7.72c-.78.78-.78 2.05 0 2.83L4 21.41c.39.39.9.59 1.41.59.51 0 1.02-.2 1.41-.59l7.78-7.78 2.81-2.81c.8-.78.8-2.07 0-2.86zM5.41 20L4 18.59l7.72-7.72 1.47 1.35L5.41 20z\"/>\n",
              "  </svg>\n",
              "      </button>\n",
              "      \n",
              "  <style>\n",
              "    .colab-df-container {\n",
              "      display:flex;\n",
              "      flex-wrap:wrap;\n",
              "      gap: 12px;\n",
              "    }\n",
              "\n",
              "    .colab-df-convert {\n",
              "      background-color: #E8F0FE;\n",
              "      border: none;\n",
              "      border-radius: 50%;\n",
              "      cursor: pointer;\n",
              "      display: none;\n",
              "      fill: #1967D2;\n",
              "      height: 32px;\n",
              "      padding: 0 0 0 0;\n",
              "      width: 32px;\n",
              "    }\n",
              "\n",
              "    .colab-df-convert:hover {\n",
              "      background-color: #E2EBFA;\n",
              "      box-shadow: 0px 1px 2px rgba(60, 64, 67, 0.3), 0px 1px 3px 1px rgba(60, 64, 67, 0.15);\n",
              "      fill: #174EA6;\n",
              "    }\n",
              "\n",
              "    [theme=dark] .colab-df-convert {\n",
              "      background-color: #3B4455;\n",
              "      fill: #D2E3FC;\n",
              "    }\n",
              "\n",
              "    [theme=dark] .colab-df-convert:hover {\n",
              "      background-color: #434B5C;\n",
              "      box-shadow: 0px 1px 3px 1px rgba(0, 0, 0, 0.15);\n",
              "      filter: drop-shadow(0px 1px 2px rgba(0, 0, 0, 0.3));\n",
              "      fill: #FFFFFF;\n",
              "    }\n",
              "  </style>\n",
              "\n",
              "      <script>\n",
              "        const buttonEl =\n",
              "          document.querySelector('#df-f522aec8-4882-4b93-9b79-c2431dfbaab6 button.colab-df-convert');\n",
              "        buttonEl.style.display =\n",
              "          google.colab.kernel.accessAllowed ? 'block' : 'none';\n",
              "\n",
              "        async function convertToInteractive(key) {\n",
              "          const element = document.querySelector('#df-f522aec8-4882-4b93-9b79-c2431dfbaab6');\n",
              "          const dataTable =\n",
              "            await google.colab.kernel.invokeFunction('convertToInteractive',\n",
              "                                                     [key], {});\n",
              "          if (!dataTable) return;\n",
              "\n",
              "          const docLinkHtml = 'Like what you see? Visit the ' +\n",
              "            '<a target=\"_blank\" href=https://colab.research.google.com/notebooks/data_table.ipynb>data table notebook</a>'\n",
              "            + ' to learn more about interactive tables.';\n",
              "          element.innerHTML = '';\n",
              "          dataTable['output_type'] = 'display_data';\n",
              "          await google.colab.output.renderOutput(dataTable, element);\n",
              "          const docLink = document.createElement('div');\n",
              "          docLink.innerHTML = docLinkHtml;\n",
              "          element.appendChild(docLink);\n",
              "        }\n",
              "      </script>\n",
              "    </div>\n",
              "  </div>\n",
              "  "
            ]
          },
          "metadata": {},
          "execution_count": 75
        }
      ],
      "source": [
        "train.head()"
      ]
    },
    {
      "cell_type": "code",
      "execution_count": null,
      "metadata": {
        "id": "IZycZnFzqT7t",
        "outputId": "b00253e6-5bf3-4593-b44c-78fa266f350b"
      },
      "outputs": [
        {
          "data": {
            "text/plain": [
              "25    409\n",
              "21    408\n",
              "26    392\n",
              "30    383\n",
              "28    382\n",
              "27    376\n",
              "23    372\n",
              "17    368\n",
              "16    366\n",
              "19    360\n",
              "1     347\n",
              "29    344\n",
              "3     341\n",
              "15    328\n",
              "6     325\n",
              "14    323\n",
              "22    321\n",
              "11    316\n",
              "7     308\n",
              "5     302\n",
              "8     281\n",
              "Name: subject, dtype: int64"
            ]
          },
          "execution_count": 20,
          "metadata": {},
          "output_type": "execute_result"
        }
      ],
      "source": [
        "train.subject.value_counts()"
      ]
    },
    {
      "cell_type": "code",
      "source": [
        "gne = train.loc[train['subject']==6]\n",
        "gne.iloc[:,0]"
      ],
      "metadata": {
        "colab": {
          "base_uri": "https://localhost:8080/"
        },
        "id": "RAc2FXCoP02W",
        "outputId": "f38a5b14-e462-4ca0-a748-f2c35f55f929"
      },
      "execution_count": 82,
      "outputs": [
        {
          "output_type": "execute_result",
          "data": {
            "text/plain": [
              "1064    0.228527\n",
              "1243    0.317191\n",
              "1092    0.281945\n",
              "1052    0.132193\n",
              "1300    0.372181\n",
              "          ...   \n",
              "1101    0.333925\n",
              "1139    0.145940\n",
              "1206    0.279606\n",
              "1037    0.282552\n",
              "1156    0.263444\n",
              "Name: tBodyAccmean()X, Length: 325, dtype: float64"
            ]
          },
          "metadata": {},
          "execution_count": 82
        }
      ]
    },
    {
      "cell_type": "code",
      "execution_count": 83,
      "metadata": {
        "colab": {
          "base_uri": "https://localhost:8080/",
          "height": 640
        },
        "id": "1DXI2cOvqT7u",
        "outputId": "686b5d75-1a7d-486e-c50f-a9e16da01e61"
      },
      "outputs": [
        {
          "output_type": "display_data",
          "data": {
            "text/plain": [
              "<Figure size 2304x1728 with 2 Axes>"
            ],
            "image/png": "[encoded data removed]"
          },
          "metadata": {
            "needs_background": "light"
          }
        }
      ],
      "source": [
        "fig = plt.figure(figsize=(32,24))\n",
        "ax1 = fig.add_subplot(221)\n",
        "ax1 = sb.stripplot(x='Activity', y=sub15.iloc[:,0], data=sub15, jitter=True)\n",
        "ax2 = fig.add_subplot(222)\n",
        "ax2 = sb.stripplot(x='Activity', y=sub15.iloc[:,1], data=sub15, jitter=True)\n",
        "plt.show()"
      ]
    },
    {
      "cell_type": "code",
      "execution_count": null,
      "metadata": {
        "id": "HFmubCzeqT7u",
        "outputId": "5f317219-cc2a-44f3-c12c-eb1b316ee7e1"
      },
      "outputs": [
        {
          "data": {
            "image/png": "[encoded data removed]",
            "text/plain": [
              "<Figure size 2304x1728 with 2 Axes>"
            ]
          },
          "metadata": {
            "needs_background": "light"
          },
          "output_type": "display_data"
        }
      ],
      "source": [
        "fig = plt.figure(figsize=(32,24))\n",
        "ax1 = fig.add_subplot(221)\n",
        "ax1 = sb.stripplot(x='Activity', y=sub15.iloc[:,2], data=sub15, jitter=True)\n",
        "ax2 = fig.add_subplot(222)\n",
        "ax2 = sb.stripplot(x='Activity', y=sub15.iloc[:,3], data=sub15, jitter=True)\n",
        "plt.show()"
      ]
    },
    {
      "cell_type": "code",
      "execution_count": null,
      "metadata": {
        "id": "xPnH55MhqT7u",
        "outputId": "0ec60bee-7020-4a5b-9d3a-1c759f874ce0"
      },
      "outputs": [
        {
          "data": {
            "image/png": "[encoded data removed]",
            "text/plain": [
              "<Figure size 2304x1728 with 2 Axes>"
            ]
          },
          "metadata": {
            "needs_background": "light"
          },
          "output_type": "display_data"
        }
      ],
      "source": [
        "fig = plt.figure(figsize=(32,24))\n",
        "ax1 = fig.add_subplot(221)\n",
        "ax1 = sb.stripplot(x='Activity', y=sub15.iloc[:,4], data=sub15, jitter=True)\n",
        "ax2 = fig.add_subplot(222)\n",
        "ax2 = sb.stripplot(x='Activity', y=sub15.iloc[:,5], data=sub15, jitter=True)\n",
        "plt.show()"
      ]
    },
    {
      "cell_type": "code",
      "execution_count": null,
      "metadata": {
        "id": "OYxucKNpqT7u"
      },
      "outputs": [],
      "source": [
        "import numpy as np # linear algebra\n",
        "import pandas as pd # data processing, CSV file I/O (e.g. pd.read_csv)\n"
      ]
    },
    {
      "cell_type": "code",
      "execution_count": 107,
      "metadata": {
        "colab": {
          "base_uri": "https://localhost:8080/"
        },
        "id": "-0L8Tm2IqT7v",
        "outputId": "2a0f30b5-6918-4dfd-8153-e58c176e5e17"
      },
      "outputs": [
        {
          "output_type": "execute_result",
          "data": {
            "text/plain": [
              "Index(['tBodyAcc-mean()-X', 'tBodyAcc-mean()-Y', 'tBodyAcc-mean()-Z',\n",
              "       'tBodyAcc-std()-X', 'tBodyAcc-std()-Y', 'tBodyAcc-std()-Z',\n",
              "       'tBodyAcc-mad()-X', 'tBodyAcc-mad()-Y', 'tBodyAcc-mad()-Z',\n",
              "       'tBodyAcc-max()-X',\n",
              "       ...\n",
              "       'fBodyBodyGyroJerkMag-kurtosis()', 'angle(tBodyAccMean,gravity)',\n",
              "       'angle(tBodyAccJerkMean),gravityMean)',\n",
              "       'angle(tBodyGyroMean,gravityMean)',\n",
              "       'angle(tBodyGyroJerkMean,gravityMean)', 'angle(X,gravityMean)',\n",
              "       'angle(Y,gravityMean)', 'angle(Z,gravityMean)', 'subject', 'Activity'],\n",
              "      dtype='object', length=563)"
            ]
          },
          "metadata": {},
          "execution_count": 107
        }
      ],
      "source": [
        "train_df = pd.read_csv(\"train.csv\")\n",
        "test_df = pd.read_csv(\"test.csv\")\n",
        "train_df.columns"
      ]
    },
    {
      "cell_type": "code",
      "source": [
        "un= train.Activity.unique()\n",
        "d = {}\n",
        "for i in un:\n",
        "  en = enumerate(i)\n",
        "  print(en)\n",
        "\n",
        "\n"
      ],
      "metadata": {
        "colab": {
          "base_uri": "https://localhost:8080/"
        },
        "id": "EJ-SziWMXBge",
        "outputId": "f2557073-9872-4807-d238-f75da53fdcf6"
      },
      "execution_count": 87,
      "outputs": [
        {
          "output_type": "stream",
          "name": "stdout",
          "text": [
            "<enumerate object at 0x7fa90ce90f50>\n",
            "<enumerate object at 0x7fa90ce8ae10>\n",
            "<enumerate object at 0x7fa90ce90f50>\n",
            "<enumerate object at 0x7fa90ce8ae10>\n",
            "<enumerate object at 0x7fa90ce90f50>\n",
            "<enumerate object at 0x7fa90ce8ae10>\n"
          ]
        }
      ]
    },
    {
      "cell_type": "code",
      "source": [
        "k={}\n",
        "for i ,activity in enumerate(un):\n",
        "  k[activity] = i\n",
        "\n",
        "print(k)"
      ],
      "metadata": {
        "colab": {
          "base_uri": "https://localhost:8080/"
        },
        "id": "fOCfD8m6XBj2",
        "outputId": "f3f14926-536b-4f32-fd1b-a4e6bf8278b4"
      },
      "execution_count": 92,
      "outputs": [
        {
          "output_type": "stream",
          "name": "stdout",
          "text": [
            "{'WALKING_DOWNSTAIRS': 0, 'STANDING': 1, 'SITTING': 2, 'LAYING': 3, 'WALKING_UPSTAIRS': 4, 'WALKING': 5}\n"
          ]
        }
      ]
    },
    {
      "cell_type": "code",
      "execution_count": 91,
      "metadata": {
        "colab": {
          "base_uri": "https://localhost:8080/"
        },
        "id": "2RlAhNpuqT7v",
        "outputId": "70676c22-5f1f-43bf-8228-53f01111cb95"
      },
      "outputs": [
        {
          "output_type": "stream",
          "name": "stdout",
          "text": [
            "NUmber of unique activities: 6\n"
          ]
        }
      ],
      "source": [
        "#Replacing activity names by id:\n",
        "unique_activities = train.Activity.unique()\n",
        "print(\"NUmber of unique activities: {}\".format(len(unique_activities)))\n",
        "replacer = {}\n",
        "for i, activity in enumerate(unique_activities):\n",
        "    replacer[activity] = i\n",
        "trainActivity = train.Activity.replace(replacer)\n",
        "testActivity = test.Activity.replace(replacer)\n",
        "#train_df.head(10)\n"
      ]
    },
    {
      "cell_type": "code",
      "source": [
        "trainActivity   ,  testActivity"
      ],
      "metadata": {
        "colab": {
          "base_uri": "https://localhost:8080/"
        },
        "id": "PuRbuiIacv0c",
        "outputId": "1e832165-b238-41f8-b43d-034101aa3f58"
      },
      "execution_count": 105,
      "outputs": [
        {
          "output_type": "execute_result",
          "data": {
            "text/plain": [
              "(4338    0\n",
              " 5084    1\n",
              " 4589    2\n",
              " 6999    2\n",
              " 3316    3\n",
              "        ..\n",
              " 1037    2\n",
              " 1156    1\n",
              " 3803    1\n",
              " 1502    2\n",
              " 410     3\n",
              " Name: Activity, Length: 7352, dtype: int64, 2102    3\n",
              " 194     2\n",
              " 2555    4\n",
              " 1831    4\n",
              " 2440    2\n",
              "        ..\n",
              " 1167    0\n",
              " 813     3\n",
              " 1337    4\n",
              " 52      2\n",
              " 1564    2\n",
              " Name: Activity, Length: 2947, dtype: int64)"
            ]
          },
          "metadata": {},
          "execution_count": 105
        }
      ]
    },
    {
      "cell_type": "code",
      "source": [
        "train.values.shape"
      ],
      "metadata": {
        "colab": {
          "base_uri": "https://localhost:8080/"
        },
        "id": "yWXO9b4TZ_G7",
        "outputId": "3c1b71f8-4ec0-49c5-971c-e90f41e889ab"
      },
      "execution_count": 99,
      "outputs": [
        {
          "output_type": "execute_result",
          "data": {
            "text/plain": [
              "(7352, 563)"
            ]
          },
          "metadata": {},
          "execution_count": 99
        }
      ]
    },
    {
      "cell_type": "code",
      "source": [
        "train.values[:,:-1]"
      ],
      "metadata": {
        "colab": {
          "base_uri": "https://localhost:8080/"
        },
        "id": "OYMzxxoabyCo",
        "outputId": "8ad7be46-f876-46da-dc59-f40810dd6295"
      },
      "execution_count": 104,
      "outputs": [
        {
          "output_type": "execute_result",
          "data": {
            "text/plain": [
              "array([[0.27179189, -0.011228981, -0.090044783, ..., 0.32428318,\n",
              "        0.13589529, 21],\n",
              "       [0.27966961, -0.016972784, -0.11233907, ..., 0.19857692,\n",
              "        -0.20177234, 25],\n",
              "       [0.27196061, -0.019885248, -0.069584017, ..., 0.044080473,\n",
              "        -0.056102906, 22],\n",
              "       ...,\n",
              "       [0.27921332, -0.020112273, -0.12235484, ..., 0.1933947,\n",
              "        -0.080576394, 19],\n",
              "       [0.28080907, -0.047893039, -0.20115288, ..., 0.088938017,\n",
              "        -0.056803535, 7],\n",
              "       [0.27408717, -0.014713512, -0.11480583, ..., -0.53147713,\n",
              "        -0.46507766, 3]], dtype=object)"
            ]
          },
          "metadata": {},
          "execution_count": 104
        }
      ]
    },
    {
      "cell_type": "code",
      "source": [
        "def data():\n",
        "  t1 = dt_tr.values\n",
        "  t2 = dt_ts.values\n",
        "  np.random.shuffle(t1)\n",
        "  np.random.shuffle(t2)\n",
        "  \n",
        "  "
      ],
      "metadata": {
        "id": "3x2kblGRZ_Ki"
      },
      "execution_count": null,
      "outputs": []
    },
    {
      "cell_type": "code",
      "source": [
        ""
      ],
      "metadata": {
        "id": "Mkqk4tvTZ_OB"
      },
      "execution_count": null,
      "outputs": []
    },
    {
      "cell_type": "code",
      "execution_count": 108,
      "metadata": {
        "id": "cOm-AyoIqT7v"
      },
      "outputs": [],
      "source": [
        "#Dropping the subject column\n",
        "train_df = train_df.drop(\"subject\", axis=1)\n",
        "test_df = test_df.drop(\"subject\", axis=1)\n"
      ]
    },
    {
      "cell_type": "code",
      "source": [
        "train_df.values[:,-1]"
      ],
      "metadata": {
        "colab": {
          "base_uri": "https://localhost:8080/"
        },
        "id": "AImEPu6ifLF1",
        "outputId": "c211c5dc-ebff-42d8-c384-a883d1bddb01"
      },
      "execution_count": 118,
      "outputs": [
        {
          "output_type": "execute_result",
          "data": {
            "text/plain": [
              "array(['STANDING', 'STANDING', 'STANDING', ..., 'WALKING_UPSTAIRS',\n",
              "       'WALKING_UPSTAIRS', 'WALKING_UPSTAIRS'], dtype=object)"
            ]
          },
          "metadata": {},
          "execution_count": 118
        }
      ]
    },
    {
      "cell_type": "code",
      "execution_count": 109,
      "metadata": {
        "id": "i_Z2EBxMqT7v"
      },
      "outputs": [],
      "source": [
        "|def get_all_data():\n",
        "    train_values = train_df.values\n",
        "    test_values = test_df.values\n",
        "    np.random.shuffle(train_values)\n",
        "    np.random.shuffle(test_values)\n",
        "    X_train = train_values[:, :-1]\n",
        "    X_test = test_values[:, :-1]\n",
        "    y_train = train_values[:, -1]\n",
        "    y_test = test_values[:, -1]\n",
        "    return X_train, X_test, y_train, y_test"
      ]
    },
    {
      "cell_type": "markdown",
      "metadata": {
        "id": "R4wiMFZqqT7v"
      },
      "source": [
        "# MODEL1-LOGISTIC REGRESSION "
      ]
    },
    {
      "cell_type": "code",
      "execution_count": 120,
      "metadata": {
        "id": "e1-oNKB1qT7w"
      },
      "outputs": [],
      "source": [
        "from sklearn.linear_model import LogisticRegression\n",
        "from sklearn.metrics import accuracy_score,confusion_matrix\n",
        "X_train, X_test, y_train, y_test = get_all_data()"
      ]
    },
    {
      "cell_type": "code",
      "execution_count": 134,
      "metadata": {
        "colab": {
          "base_uri": "https://localhost:8080/"
        },
        "id": "bGXv7QrNqT7x",
        "outputId": "cd99ac67-04e9-4f97-dc3f-6c6166b8c6a1"
      },
      "outputs": [
        {
          "output_type": "execute_result",
          "data": {
            "text/plain": [
              "LogisticRegression()"
            ]
          },
          "metadata": {},
          "execution_count": 134
        }
      ],
      "source": [
        "model = LogisticRegression()\n",
        "model"
      ]
    },
    {
      "cell_type": "code",
      "execution_count": 135,
      "metadata": {
        "colab": {
          "base_uri": "https://localhost:8080/"
        },
        "id": "Eag6x240qT7x",
        "outputId": "de2ae1b9-61ea-4725-e9c7-b95b5e9124dc"
      },
      "outputs": [
        {
          "output_type": "stream",
          "name": "stderr",
          "text": [
            "/usr/local/lib/python3.7/dist-packages/sklearn/linear_model/_logistic.py:818: ConvergenceWarning: lbfgs failed to converge (status=1):\n",
            "STOP: TOTAL NO. of ITERATIONS REACHED LIMIT.\n",
            "\n",
            "Increase the number of iterations (max_iter) or scale the data as shown in:\n",
            "    https://scikit-learn.org/stable/modules/preprocessing.html\n",
            "Please also refer to the documentation for alternative solver options:\n",
            "    https://scikit-learn.org/stable/modules/linear_model.html#logistic-regression\n",
            "  extra_warning_msg=_LOGISTIC_SOLVER_CONVERGENCE_MSG,\n"
          ]
        },
        {
          "output_type": "execute_result",
          "data": {
            "text/plain": [
              "LogisticRegression()"
            ]
          },
          "metadata": {},
          "execution_count": 135
        }
      ],
      "source": [
        "model.fit(X_train, y_train)\n"
      ]
    },
    {
      "cell_type": "code",
      "execution_count": 136,
      "metadata": {
        "colab": {
          "base_uri": "https://localhost:8080/"
        },
        "id": "TbxuGNa7qT7x",
        "outputId": "86912b06-ab32-422d-8a20-d3e576c89b7f"
      },
      "outputs": [
        {
          "output_type": "execute_result",
          "data": {
            "text/plain": [
              "0.9582626399728538"
            ]
          },
          "metadata": {},
          "execution_count": 136
        }
      ],
      "source": [
        "model.score(X_test, y_test)"
      ]
    },
    {
      "cell_type": "code",
      "execution_count": 137,
      "metadata": {
        "id": "FCoQ6ht3qT7x"
      },
      "outputs": [],
      "source": [
        "y_pred=model.predict(X_test)\n",
        "y_probas=model.predict_proba(X_test)\n"
      ]
    },
    {
      "cell_type": "code",
      "execution_count": 140,
      "metadata": {
        "id": "8UlUQASCqT7x"
      },
      "outputs": [],
      "source": [
        "cf=confusion_matrix(y_test,y_pred)"
      ]
    },
    {
      "cell_type": "code",
      "execution_count": 141,
      "metadata": {
        "colab": {
          "base_uri": "https://localhost:8080/"
        },
        "id": "DTzqgBxxqT7x",
        "outputId": "ddd6a6ed-80bb-4d19-dad6-679f5ae4809e"
      },
      "outputs": [
        {
          "output_type": "execute_result",
          "data": {
            "text/plain": [
              "array([[537,   0,   0,   0,   0,   0],\n",
              "       [  0, 431,  57,   0,   0,   3],\n",
              "       [  0,  12, 519,   1,   0,   0],\n",
              "       [  0,   0,   0, 493,   3,   0],\n",
              "       [  0,   0,   0,   4, 405,  11],\n",
              "       [  0,   0,   0,  26,   1, 444]])"
            ]
          },
          "metadata": {},
          "execution_count": 141
        }
      ],
      "source": [
        "cf"
      ]
    },
    {
      "cell_type": "code",
      "execution_count": 152,
      "metadata": {
        "colab": {
          "base_uri": "https://localhost:8080/",
          "height": 252
        },
        "id": "2ZrTgS61qT7y",
        "outputId": "b27bb0e8-0670-4c55-e3d3-3e98a37aea30"
      },
      "outputs": [
        {
          "output_type": "error",
          "ename": "TypeError",
          "evalue": "ignored",
          "traceback": [
            "\u001b[0;31m---------------------------------------------------------------------------\u001b[0m",
            "\u001b[0;31mTypeError\u001b[0m                                 Traceback (most recent call last)",
            "\u001b[0;32m<ipython-input-152-b685a4c6e53a>\u001b[0m in \u001b[0;36m<module>\u001b[0;34m()\u001b[0m\n\u001b[1;32m      1\u001b[0m \u001b[0mplt\u001b[0m\u001b[0;34m.\u001b[0m\u001b[0mfigure\u001b[0m\u001b[0;34m(\u001b[0m\u001b[0;34m)\u001b[0m\u001b[0;34m\u001b[0m\u001b[0;34m\u001b[0m\u001b[0m\n\u001b[1;32m      2\u001b[0m \u001b[0mclass_names\u001b[0m \u001b[0;34m=\u001b[0m \u001b[0mtrain\u001b[0m\u001b[0;34m.\u001b[0m\u001b[0mActivity\u001b[0m\u001b[0;34m.\u001b[0m\u001b[0munique\u001b[0m\u001b[0;34m(\u001b[0m\u001b[0;34m)\u001b[0m\u001b[0;34m\u001b[0m\u001b[0;34m\u001b[0m\u001b[0m\n\u001b[0;32m----> 3\u001b[0;31m \u001b[0mplt\u001b[0m\u001b[0;34m.\u001b[0m\u001b[0mplot\u001b[0m\u001b[0;34m(\u001b[0m\u001b[0mconfusion_matrix\u001b[0m\u001b[0;34m(\u001b[0m\u001b[0mcf\u001b[0m\u001b[0;34m)\u001b[0m\u001b[0;34m)\u001b[0m\u001b[0;34m\u001b[0m\u001b[0;34m\u001b[0m\u001b[0m\n\u001b[0m\u001b[1;32m      4\u001b[0m \u001b[0;34m\u001b[0m\u001b[0m\n\u001b[1;32m      5\u001b[0m \u001b[0;32mimport\u001b[0m \u001b[0mscikitplot\u001b[0m \u001b[0;32mas\u001b[0m \u001b[0mskplt\u001b[0m\u001b[0;34m\u001b[0m\u001b[0;34m\u001b[0m\u001b[0m\n",
            "\u001b[0;31mTypeError\u001b[0m: confusion_matrix() missing 1 required positional argument: 'y_pred'"
          ]
        },
        {
          "output_type": "display_data",
          "data": {
            "text/plain": [
              "<Figure size 432x288 with 0 Axes>"
            ]
          },
          "metadata": {}
        }
      ],
      "source": [
        "plt.figure()\n",
        "class_names = train.Activity.unique()\n",
        "plot.confusion_matrix(cf, classes=class_names,\n",
        "                     title='Logistic Regression Confusion Matrix, without normalization')\n",
        "\n",
        "import scikitplot as skplt\n",
        "skplt.metrics.plot_roc_curve(y_test, y_probas, cmap='nipy_spectral')\n",
        "plt.show()"
      ]
    },
    {
      "cell_type": "code",
      "source": [
        ""
      ],
      "metadata": {
        "id": "mmkpTa91rxDn"
      },
      "execution_count": null,
      "outputs": []
    },
    {
      "cell_type": "code",
      "source": [
        ""
      ],
      "metadata": {
        "id": "_kpqo5FarxHG"
      },
      "execution_count": null,
      "outputs": []
    },
    {
      "cell_type": "code",
      "execution_count": 138,
      "metadata": {
        "id": "vGzCoYA3qT7y"
      },
      "outputs": [],
      "source": [
        "#logistic regression : 95.8%"
      ]
    },
    {
      "cell_type": "code",
      "source": [
        "from sklearn.decomposition import PCA\n",
        "\n",
        "X_train, X_test, y_train, y_test = get_all_data() #generating the training set\n",
        "pca = PCA(n_components=200) # initializing the PCA\n",
        "pca.fit(X_train) #applying PCA\n",
        "pca.explained_variance_ratio_\n",
        "X_train = pca.transform(X_train) # transforming the dataset\n",
        "X_test = pca.transform(X_test)"
      ],
      "metadata": {
        "id": "r1792vyrtbLy"
      },
      "execution_count": 153,
      "outputs": []
    },
    {
      "cell_type": "code",
      "source": [
        "X_train.shape"
      ],
      "metadata": {
        "colab": {
          "base_uri": "https://localhost:8080/"
        },
        "id": "qzx8lA0xtbOX",
        "outputId": "e7a0570a-74c8-4cfb-de83-9b31e6a92e6d"
      },
      "execution_count": 155,
      "outputs": [
        {
          "output_type": "execute_result",
          "data": {
            "text/plain": [
              "(7352, 200)"
            ]
          },
          "metadata": {},
          "execution_count": 155
        }
      ]
    },
    {
      "cell_type": "code",
      "source": [
        ""
      ],
      "metadata": {
        "id": "wvdSpmK1tbR0"
      },
      "execution_count": null,
      "outputs": []
    },
    {
      "cell_type": "code",
      "execution_count": 158,
      "metadata": {
        "colab": {
          "base_uri": "https://localhost:8080/",
          "height": 191
        },
        "id": "wQaxYaCfqT7y",
        "outputId": "77d45067-d4e5-458e-b0c2-f87f818c5baa"
      },
      "outputs": [
        {
          "output_type": "stream",
          "name": "stdout",
          "text": [
            "0.9606379368849678\n"
          ]
        },
        {
          "output_type": "stream",
          "name": "stderr",
          "text": [
            "/usr/local/lib/python3.7/dist-packages/sklearn/linear_model/_logistic.py:818: ConvergenceWarning: lbfgs failed to converge (status=1):\n",
            "STOP: TOTAL NO. of ITERATIONS REACHED LIMIT.\n",
            "\n",
            "Increase the number of iterations (max_iter) or scale the data as shown in:\n",
            "    https://scikit-learn.org/stable/modules/preprocessing.html\n",
            "Please also refer to the documentation for alternative solver options:\n",
            "    https://scikit-learn.org/stable/modules/linear_model.html#logistic-regression\n",
            "  extra_warning_msg=_LOGISTIC_SOLVER_CONVERGENCE_MSG,\n"
          ]
        },
        {
          "output_type": "display_data",
          "data": {
            "text/plain": [
              "<Figure size 432x288 with 0 Axes>"
            ]
          },
          "metadata": {}
        }
      ],
      "source": [
        "\n",
        "from sklearn.decomposition import PCA\n",
        "\n",
        "X_train, X_test, y_train, y_test = get_all_data() #generating the training set\n",
        "pca = PCA(n_components=200) # initializing the PCA\n",
        "pca.fit(X_train) #applying PCA\n",
        "pca.explained_variance_ratio_\n",
        "X_train = pca.transform(X_train) # transforming the dataset\n",
        "X_test = pca.transform(X_test)\n",
        "\n",
        "\n",
        "\n",
        "\n",
        "\n",
        "model.fit(X_train, y_train) \n",
        "print(model.score(X_test, y_test)) #score\n",
        "# Worse performance, but trains faster\n",
        "\n",
        "y_pred=model.predict(X_test)\n",
        "y_probas=model.predict_proba(X_test)\n",
        "\n",
        "cf=confusion_matrix(y_test,y_pred)\n",
        "plt.figure()\n",
        "class_names = train.Activity.unique()\n",
        "#plot_confusion_matrix(cf, classes=class_names,\n",
        "                     ##title='Logistic Regression Confusion Matrix, without normalization')\n",
        "\n",
        "#import scikitplot as skplt\n",
        "#skplt.metrics.plot_roc_curve(y_test, y_probas, cmap='nipy_spectral')\n",
        "#plt.show()\n"
      ]
    },
    {
      "cell_type": "code",
      "execution_count": 159,
      "metadata": {
        "colab": {
          "base_uri": "https://localhost:8080/"
        },
        "id": "YUdyDXOzqT7y",
        "outputId": "f9be644d-334d-49db-dd6c-3851c938d610"
      },
      "outputs": [
        {
          "output_type": "stream",
          "name": "stderr",
          "text": [
            "/usr/local/lib/python3.7/dist-packages/sklearn/linear_model/_logistic.py:818: ConvergenceWarning: lbfgs failed to converge (status=1):\n",
            "STOP: TOTAL NO. of ITERATIONS REACHED LIMIT.\n",
            "\n",
            "Increase the number of iterations (max_iter) or scale the data as shown in:\n",
            "    https://scikit-learn.org/stable/modules/preprocessing.html\n",
            "Please also refer to the documentation for alternative solver options:\n",
            "    https://scikit-learn.org/stable/modules/linear_model.html#logistic-regression\n",
            "  extra_warning_msg=_LOGISTIC_SOLVER_CONVERGENCE_MSG,\n"
          ]
        },
        {
          "output_type": "execute_result",
          "data": {
            "text/plain": [
              "0.9538513742789277"
            ]
          },
          "metadata": {},
          "execution_count": 159
        }
      ],
      "source": [
        "# Scale features to be between -1 and 1\n",
        "from sklearn.preprocessing import StandardScaler\n",
        "\n",
        "scaler = StandardScaler()\n",
        "\n",
        "X_train, X_test, y_train, y_test = get_all_data()\n",
        "scaler.fit(X_train)\n",
        "X_train = scaler.transform(X_train)\n",
        "X_test = scaler.transform(X_test)\n",
        "\n",
        "model.fit(X_train, y_train)\n",
        "model.score(X_test, y_test)\n",
        "# Better performance"
      ]
    },
    {
      "cell_type": "code",
      "execution_count": 160,
      "metadata": {
        "colab": {
          "base_uri": "https://localhost:8080/",
          "height": 252
        },
        "id": "07vAHiQSqT7y",
        "outputId": "839c9946-697e-4586-8d1f-3582a924b05a"
      },
      "outputs": [
        {
          "output_type": "error",
          "ename": "NameError",
          "evalue": "ignored",
          "traceback": [
            "\u001b[0;31m---------------------------------------------------------------------------\u001b[0m",
            "\u001b[0;31mNameError\u001b[0m                                 Traceback (most recent call last)",
            "\u001b[0;32m<ipython-input-160-01dcaa4d3901>\u001b[0m in \u001b[0;36m<module>\u001b[0;34m()\u001b[0m\n\u001b[1;32m      5\u001b[0m \u001b[0mplt\u001b[0m\u001b[0;34m.\u001b[0m\u001b[0mfigure\u001b[0m\u001b[0;34m(\u001b[0m\u001b[0;34m)\u001b[0m\u001b[0;34m\u001b[0m\u001b[0;34m\u001b[0m\u001b[0m\n\u001b[1;32m      6\u001b[0m \u001b[0mclass_names\u001b[0m \u001b[0;34m=\u001b[0m \u001b[0mtrain\u001b[0m\u001b[0;34m.\u001b[0m\u001b[0mActivity\u001b[0m\u001b[0;34m.\u001b[0m\u001b[0munique\u001b[0m\u001b[0;34m(\u001b[0m\u001b[0;34m)\u001b[0m\u001b[0;34m\u001b[0m\u001b[0;34m\u001b[0m\u001b[0m\n\u001b[0;32m----> 7\u001b[0;31m plot_confusion_matrix(cf, classes=class_names,\n\u001b[0m\u001b[1;32m      8\u001b[0m                      title='Logistic Regression Confusion Matrix, without normalization')\n\u001b[1;32m      9\u001b[0m \u001b[0;34m\u001b[0m\u001b[0m\n",
            "\u001b[0;31mNameError\u001b[0m: name 'plot_confusion_matrix' is not defined"
          ]
        },
        {
          "output_type": "display_data",
          "data": {
            "text/plain": [
              "<Figure size 432x288 with 0 Axes>"
            ]
          },
          "metadata": {}
        }
      ],
      "source": [
        "y_pred=model.predict(X_test)\n",
        "y_probas=model.predict_proba(X_test)\n",
        "\n",
        "cf=confusion_matrix(y_test,y_pred)\n",
        "plt.figure()\n",
        "class_names = train.Activity.unique()\n",
        "plot_confusion_matrix(cf, classes=class_names,\n",
        "                     title='Logistic Regression Confusion Matrix, without normalization')\n",
        "\n",
        "import scikitplot as skplt\n",
        "skplt.metrics.plot_roc_curve(y_test, y_probas, cmap='nipy_spectral')\n",
        "plt.show()\n"
      ]
    },
    {
      "cell_type": "markdown",
      "metadata": {
        "id": "opZEX_udqT7z"
      },
      "source": [
        "# MODEL2-RANDOM FOREST CALSSIFIER"
      ]
    },
    {
      "cell_type": "code",
      "execution_count": null,
      "metadata": {
        "id": "i63T04jNqT7z",
        "outputId": "27f106e5-e86a-416a-df08-282c88e8d396"
      },
      "outputs": [
        {
          "name": "stdout",
          "output_type": "stream",
          "text": [
            "0.9273837801153716\n",
            "Confusion matrix, without normalization\n",
            "[[489  43   0   0   0   0]\n",
            " [ 54 437   0   0   0   0]\n",
            " [  0   0 537   0   0   0]\n",
            " [  0   0   0 480  10   6]\n",
            " [  0   0   0  18 359  43]\n",
            " [  0   0   0  33   7 431]]\n"
          ]
        },
        {
          "name": "stderr",
          "output_type": "stream",
          "text": [
            "C:\\Users\\Asus\\Anaconda3\\lib\\site-packages\\sklearn\\utils\\deprecation.py:77: DeprecationWarning: Function plot_roc_curve is deprecated; This will be removed in v0.5.0. Please use scikitplot.metrics.plot_roc instead.\n",
            "  warnings.warn(msg, category=DeprecationWarning)\n"
          ]
        },
        {
          "data": {
            "image/png": "[encoded data removed]",
            "text/plain": [
              "<Figure size 432x288 with 2 Axes>"
            ]
          },
          "metadata": {
            "needs_background": "light"
          },
          "output_type": "display_data"
        },
        {
          "data": {
            "image/png": "[encoded data removed]",
            "text/plain": [
              "<Figure size 432x288 with 1 Axes>"
            ]
          },
          "metadata": {
            "needs_background": "light"
          },
          "output_type": "display_data"
        }
      ],
      "source": [
        "from sklearn.ensemble import RandomForestClassifier\n",
        "\n",
        "X_train, X_test, y_train, y_test = get_all_data()\n",
        "scaler.fit(X_train)\n",
        "X_train = scaler.transform(X_train)\n",
        "X_test = scaler.transform(X_test)\n",
        "\n",
        "model = RandomForestClassifier(n_estimators=500)\n",
        "model.fit(X_train, y_train)\n",
        "print(model.score(X_test, y_test))\n",
        "\n",
        "\n",
        "y_pred=model.predict(X_test)\n",
        "y_probas=model.predict_proba(X_test)\n",
        "\n",
        "cf=confusion_matrix(y_test,y_pred)\n",
        "plt.figure()\n",
        "class_names = train.Activity.unique()\n",
        "plot_confusion_matrix(cf, classes=class_names,\n",
        "                     title='Random Forest Confusion Matrix, without normalization')\n",
        "\n",
        "import scikitplot as skplt\n",
        "skplt.metrics.plot_roc_curve(y_test, y_probas, cmap='nipy_spectral')\n",
        "plt.show()\n"
      ]
    },
    {
      "cell_type": "code",
      "execution_count": 163,
      "metadata": {
        "id": "b2L-Y-lOqT7z"
      },
      "outputs": [],
      "source": [
        "import numpy as np \n",
        "import pandas as pd \n",
        "\n",
        "from sklearn.preprocessing import StandardScaler,LabelEncoder\n",
        "from sklearn.ensemble import RandomForestClassifier\n",
        "from sklearn.metrics import accuracy_score,confusion_matrix\n",
        "from sklearn.neighbors import KNeighborsClassifier\n",
        "\n"
      ]
    },
    {
      "cell_type": "code",
      "execution_count": 164,
      "metadata": {
        "colab": {
          "base_uri": "https://localhost:8080/",
          "height": 356
        },
        "id": "w6d4iHZsqT7z",
        "outputId": "42c76c60-d454-481c-f1bc-c0567ec91b18"
      },
      "outputs": [
        {
          "output_type": "error",
          "ename": "AttributeError",
          "evalue": "ignored",
          "traceback": [
            "\u001b[0;31m---------------------------------------------------------------------------\u001b[0m",
            "\u001b[0;31mAttributeError\u001b[0m                            Traceback (most recent call last)",
            "\u001b[0;32m<ipython-input-164-453c46c70eef>\u001b[0m in \u001b[0;36m<module>\u001b[0;34m()\u001b[0m\n\u001b[1;32m      1\u001b[0m \u001b[0;31m#Feature matrix\u001b[0m\u001b[0;34m\u001b[0m\u001b[0;34m\u001b[0m\u001b[0;34m\u001b[0m\u001b[0m\n\u001b[0;32m----> 2\u001b[0;31m \u001b[0mtrain_data\u001b[0m \u001b[0;34m=\u001b[0m \u001b[0mtrain\u001b[0m\u001b[0;34m.\u001b[0m\u001b[0miloc\u001b[0m\u001b[0;34m[\u001b[0m\u001b[0;34m:\u001b[0m\u001b[0;34m,\u001b[0m\u001b[0;34m:\u001b[0m\u001b[0;36m561\u001b[0m\u001b[0;34m]\u001b[0m\u001b[0;34m.\u001b[0m\u001b[0mas_matrix\u001b[0m\u001b[0;34m(\u001b[0m\u001b[0;34m)\u001b[0m\u001b[0;34m\u001b[0m\u001b[0;34m\u001b[0m\u001b[0m\n\u001b[0m\u001b[1;32m      3\u001b[0m \u001b[0mtest_data\u001b[0m \u001b[0;34m=\u001b[0m \u001b[0mtest\u001b[0m\u001b[0;34m.\u001b[0m\u001b[0miloc\u001b[0m\u001b[0;34m[\u001b[0m\u001b[0;34m:\u001b[0m\u001b[0;34m,\u001b[0m\u001b[0;34m:\u001b[0m\u001b[0;36m561\u001b[0m\u001b[0;34m]\u001b[0m\u001b[0;34m.\u001b[0m\u001b[0mas_matrix\u001b[0m\u001b[0;34m(\u001b[0m\u001b[0;34m)\u001b[0m\u001b[0;34m\u001b[0m\u001b[0;34m\u001b[0m\u001b[0m\n\u001b[1;32m      4\u001b[0m \u001b[0;34m\u001b[0m\u001b[0m\n\u001b[1;32m      5\u001b[0m \u001b[0mtrain_labels\u001b[0m \u001b[0;34m=\u001b[0m \u001b[0mtrain\u001b[0m\u001b[0;34m.\u001b[0m\u001b[0miloc\u001b[0m\u001b[0;34m[\u001b[0m\u001b[0;34m:\u001b[0m\u001b[0;34m,\u001b[0m\u001b[0;36m562\u001b[0m\u001b[0;34m:\u001b[0m\u001b[0;34m]\u001b[0m\u001b[0;34m.\u001b[0m\u001b[0mas_matrix\u001b[0m\u001b[0;34m(\u001b[0m\u001b[0;34m)\u001b[0m\u001b[0;34m\u001b[0m\u001b[0;34m\u001b[0m\u001b[0m\n",
            "\u001b[0;32m/usr/local/lib/python3.7/dist-packages/pandas/core/generic.py\u001b[0m in \u001b[0;36m__getattr__\u001b[0;34m(self, name)\u001b[0m\n\u001b[1;32m   5485\u001b[0m         ):\n\u001b[1;32m   5486\u001b[0m             \u001b[0;32mreturn\u001b[0m \u001b[0mself\u001b[0m\u001b[0;34m[\u001b[0m\u001b[0mname\u001b[0m\u001b[0;34m]\u001b[0m\u001b[0;34m\u001b[0m\u001b[0;34m\u001b[0m\u001b[0m\n\u001b[0;32m-> 5487\u001b[0;31m         \u001b[0;32mreturn\u001b[0m \u001b[0mobject\u001b[0m\u001b[0;34m.\u001b[0m\u001b[0m__getattribute__\u001b[0m\u001b[0;34m(\u001b[0m\u001b[0mself\u001b[0m\u001b[0;34m,\u001b[0m \u001b[0mname\u001b[0m\u001b[0;34m)\u001b[0m\u001b[0;34m\u001b[0m\u001b[0;34m\u001b[0m\u001b[0m\n\u001b[0m\u001b[1;32m   5488\u001b[0m \u001b[0;34m\u001b[0m\u001b[0m\n\u001b[1;32m   5489\u001b[0m     \u001b[0;32mdef\u001b[0m \u001b[0m__setattr__\u001b[0m\u001b[0;34m(\u001b[0m\u001b[0mself\u001b[0m\u001b[0;34m,\u001b[0m \u001b[0mname\u001b[0m\u001b[0;34m:\u001b[0m \u001b[0mstr\u001b[0m\u001b[0;34m,\u001b[0m \u001b[0mvalue\u001b[0m\u001b[0;34m)\u001b[0m \u001b[0;34m->\u001b[0m \u001b[0;32mNone\u001b[0m\u001b[0;34m:\u001b[0m\u001b[0;34m\u001b[0m\u001b[0;34m\u001b[0m\u001b[0m\n",
            "\u001b[0;31mAttributeError\u001b[0m: 'DataFrame' object has no attribute 'as_matrix'"
          ]
        }
      ],
      "source": [
        "#Feature matrix\n",
        "train_data = train.iloc[:,:561].as_matrix()\n",
        "test_data = test.iloc[:,:561].as_matrix()\n",
        "\n",
        "train_labels = train.iloc[:,562:].as_matrix()\n",
        "test_labels = test.iloc[:,562:].as_matrix()\n",
        "\n",
        "train_labelss=np.zeros((len(train_labels),6))\n",
        "test_labelss=np.zeros((len(test_labels),6))"
      ]
    },
    {
      "cell_type": "code",
      "execution_count": null,
      "metadata": {
        "id": "HIN9yMJrqT7z"
      },
      "outputs": [],
      "source": [
        "for k in range (0,len(train_labels)):\n",
        "    if train_labels[k] =='STANDING':\n",
        "        train_labelss[k][0]=1\n",
        "    elif train_labels[k] =='WALKING':\n",
        "        train_labelss[k][1]=1\n",
        "    elif train_labels[k] =='WALKING_UPSTAIRS':\n",
        "        train_labelss[k][2]=1\n",
        "    elif train_labels[k] =='WALKING_DOWNSTAIRS':\n",
        "        train_labelss[k][3]=1\n",
        "    elif train_labels[k] =='SITTING':\n",
        "        train_labelss[k][4]=1\n",
        "    else:\n",
        "        train_labelss[k][5]=1"
      ]
    },
    {
      "cell_type": "code",
      "execution_count": 161,
      "metadata": {
        "colab": {
          "base_uri": "https://localhost:8080/",
          "height": 235
        },
        "id": "dcwvCiF8qT70",
        "outputId": "bb7c4287-4766-4b3a-8497-ce2b7480c092"
      },
      "outputs": [
        {
          "output_type": "error",
          "ename": "NameError",
          "evalue": "ignored",
          "traceback": [
            "\u001b[0;31m---------------------------------------------------------------------------\u001b[0m",
            "\u001b[0;31mNameError\u001b[0m                                 Traceback (most recent call last)",
            "\u001b[0;32m<ipython-input-161-77417c14d14a>\u001b[0m in \u001b[0;36m<module>\u001b[0;34m()\u001b[0m\n\u001b[0;32m----> 1\u001b[0;31m \u001b[0;32mfor\u001b[0m \u001b[0mk\u001b[0m \u001b[0;32min\u001b[0m \u001b[0mrange\u001b[0m \u001b[0;34m(\u001b[0m\u001b[0;36m0\u001b[0m\u001b[0;34m,\u001b[0m\u001b[0mlen\u001b[0m\u001b[0;34m(\u001b[0m\u001b[0mtest_labels\u001b[0m\u001b[0;34m)\u001b[0m\u001b[0;34m)\u001b[0m\u001b[0;34m:\u001b[0m\u001b[0;34m\u001b[0m\u001b[0;34m\u001b[0m\u001b[0m\n\u001b[0m\u001b[1;32m      2\u001b[0m     \u001b[0;32mif\u001b[0m \u001b[0mtest_labels\u001b[0m\u001b[0;34m[\u001b[0m\u001b[0mk\u001b[0m\u001b[0;34m]\u001b[0m \u001b[0;34m==\u001b[0m\u001b[0;34m'STANDING'\u001b[0m\u001b[0;34m:\u001b[0m\u001b[0;34m\u001b[0m\u001b[0;34m\u001b[0m\u001b[0m\n\u001b[1;32m      3\u001b[0m         \u001b[0mtest_labelss\u001b[0m\u001b[0;34m[\u001b[0m\u001b[0mk\u001b[0m\u001b[0;34m]\u001b[0m\u001b[0;34m[\u001b[0m\u001b[0;36m0\u001b[0m\u001b[0;34m]\u001b[0m\u001b[0;34m=\u001b[0m\u001b[0;36m1\u001b[0m\u001b[0;34m\u001b[0m\u001b[0;34m\u001b[0m\u001b[0m\n\u001b[1;32m      4\u001b[0m     \u001b[0;32melif\u001b[0m \u001b[0mtest_labels\u001b[0m\u001b[0;34m[\u001b[0m\u001b[0mk\u001b[0m\u001b[0;34m]\u001b[0m \u001b[0;34m==\u001b[0m\u001b[0;34m'WALKING'\u001b[0m\u001b[0;34m:\u001b[0m\u001b[0;34m\u001b[0m\u001b[0;34m\u001b[0m\u001b[0m\n\u001b[1;32m      5\u001b[0m         \u001b[0mtest_labelss\u001b[0m\u001b[0;34m[\u001b[0m\u001b[0mk\u001b[0m\u001b[0;34m]\u001b[0m\u001b[0;34m[\u001b[0m\u001b[0;36m1\u001b[0m\u001b[0;34m]\u001b[0m\u001b[0;34m=\u001b[0m\u001b[0;36m1\u001b[0m\u001b[0;34m\u001b[0m\u001b[0;34m\u001b[0m\u001b[0m\n",
            "\u001b[0;31mNameError\u001b[0m: name 'test_labels' is not defined"
          ]
        }
      ],
      "source": [
        "for k in range (0,len(test_labels)):\n",
        "    if test_labels[k] =='STANDING':\n",
        "        test_labelss[k][0]=1\n",
        "    elif test_labels[k] =='WALKING':\n",
        "        test_labelss[k][1]=1\n",
        "    elif test_labels[k] =='WALKING_UPSTAIRS':\n",
        "        test_labelss[k][2]=1\n",
        "    elif test_labels[k] =='WALKING_DOWNSTAIRS':\n",
        "        test_labelss[k][3]=1\n",
        "    elif test_labels[k] =='SITTING':\n",
        "        test_labelss[k][4]=1\n",
        "    else:\n",
        "        test_labelss[k][5]=1"
      ]
    },
    {
      "cell_type": "code",
      "execution_count": null,
      "metadata": {
        "id": "NZ_hVN79qT70"
      },
      "outputs": [],
      "source": [
        "###### Random Forest #######\n",
        "trainData  = train.drop('Activity' , axis=1).values\n",
        "trainLabel = train.Activity.values\n",
        "\n",
        "testData  = test.drop('Activity' , axis=1).values\n",
        "testLabel = test.Activity.values\n",
        "\n",
        "encoder = LabelEncoder()"
      ]
    },
    {
      "cell_type": "code",
      "execution_count": null,
      "metadata": {
        "id": "QXvkXe2RqT70",
        "outputId": "52832437-4633-491e-9cb6-55b2499392e5"
      },
      "outputs": [
        {
          "name": "stdout",
          "output_type": "stream",
          "text": [
            "Random Forest Accuracy: 0.92162\n",
            "[[537   0   0   0   0   0]\n",
            " [  0 432  59   0   0   0]\n",
            " [  0  40 492   0   0   0]\n",
            " [  0   0   0 481  10   5]\n",
            " [  0   0   0  29 347  44]\n",
            " [  0   0   0  38   6 427]]\n",
            "Confusion matrix, without normalization\n",
            "[[537   0   0   0   0   0]\n",
            " [  0 432  59   0   0   0]\n",
            " [  0  40 492   0   0   0]\n",
            " [  0   0   0 481  10   5]\n",
            " [  0   0   0  29 347  44]\n",
            " [  0   0   0  38   6 427]]\n"
          ]
        },
        {
          "name": "stderr",
          "output_type": "stream",
          "text": [
            "C:\\Users\\Asus\\Anaconda3\\lib\\site-packages\\sklearn\\utils\\deprecation.py:77: DeprecationWarning: Function plot_roc_curve is deprecated; This will be removed in v0.5.0. Please use scikitplot.metrics.plot_roc instead.\n",
            "  warnings.warn(msg, category=DeprecationWarning)\n"
          ]
        },
        {
          "data": {
            "image/png": "[encoded data removed]",
            "text/plain": [
              "<Figure size 432x288 with 2 Axes>"
            ]
          },
          "metadata": {
            "needs_background": "light"
          },
          "output_type": "display_data"
        },
        {
          "data": {
            "image/png": "[encoded data removed]",
            "text/plain": [
              "<Figure size 432x288 with 1 Axes>"
            ]
          },
          "metadata": {
            "needs_background": "light"
          },
          "output_type": "display_data"
        }
      ],
      "source": [
        "# encoding test labels \n",
        "encoder.fit(testLabel)\n",
        "testLabelEncoder = encoder.transform(testLabel)\n",
        "\n",
        "# encoding train labels \n",
        "encoder.fit(trainLabel)\n",
        "trainLabelEncoder = encoder.transform(trainLabel)\n",
        "\n",
        "rf = RandomForestClassifier(n_estimators=200,  n_jobs=4, min_samples_leaf=10)    \n",
        "#train\n",
        "rf.fit(trainData, trainLabelEncoder)\n",
        "\n",
        "y_te_pred = rf.predict(testData)\n",
        "\n",
        "y_probas=rf.predict_proba(testData)\n",
        "acc = accuracy_score(testLabelEncoder, y_te_pred)\n",
        "print(\"Random Forest Accuracy: %.5f\" % (acc))\n",
        "\n",
        "cf=confusion_matrix(testLabelEncoder,y_te_pred)\n",
        "print(cf)\n",
        "\n",
        "\n",
        "\n",
        "plt.figure()\n",
        "class_names = train.Activity.unique()\n",
        "plot_confusion_matrix(cf, classes=class_names,\n",
        "                     title='Random Forest Confusion Matrix, without normalization')\n",
        "\n",
        "import scikitplot as skplt\n",
        "skplt.metrics.plot_roc_curve(testLabelEncoder, y_probas, cmap='nipy_spectral')\n",
        "plt.show()\n"
      ]
    },
    {
      "cell_type": "markdown",
      "metadata": {
        "id": "n4RuaHXCqT70"
      },
      "source": [
        "# MODEL3-K-NEAREST NEIGHBOUR"
      ]
    },
    {
      "cell_type": "code",
      "execution_count": 9,
      "metadata": {
        "colab": {
          "base_uri": "https://localhost:8080/",
          "height": 235
        },
        "id": "g3_J3zTLqT70",
        "outputId": "9e967ff3-df81-4c2d-dd14-b07807c0986b"
      },
      "outputs": [
        {
          "output_type": "error",
          "ename": "NameError",
          "evalue": "ignored",
          "traceback": [
            "\u001b[0;31m---------------------------------------------------------------------------\u001b[0m",
            "\u001b[0;31mNameError\u001b[0m                                 Traceback (most recent call last)",
            "\u001b[0;32m<ipython-input-9-9cdd1e89c120>\u001b[0m in \u001b[0;36m<module>\u001b[0;34m()\u001b[0m\n\u001b[1;32m      1\u001b[0m \u001b[0;31m##### K-Nearest Neighbors ######\u001b[0m\u001b[0;34m\u001b[0m\u001b[0;34m\u001b[0m\u001b[0;34m\u001b[0m\u001b[0m\n\u001b[0;32m----> 2\u001b[0;31m \u001b[0mclf\u001b[0m \u001b[0;34m=\u001b[0m \u001b[0mKNeighborsClassifier\u001b[0m\u001b[0;34m(\u001b[0m\u001b[0mn_neighbors\u001b[0m\u001b[0;34m=\u001b[0m\u001b[0;36m24\u001b[0m\u001b[0;34m)\u001b[0m\u001b[0;34m\u001b[0m\u001b[0;34m\u001b[0m\u001b[0m\n\u001b[0m\u001b[1;32m      3\u001b[0m \u001b[0;34m\u001b[0m\u001b[0m\n\u001b[1;32m      4\u001b[0m \u001b[0mknnModel\u001b[0m \u001b[0;34m=\u001b[0m \u001b[0mclf\u001b[0m\u001b[0;34m.\u001b[0m\u001b[0mfit\u001b[0m\u001b[0;34m(\u001b[0m\u001b[0mtrainData\u001b[0m \u001b[0;34m,\u001b[0m \u001b[0mtrainLabelEncoder\u001b[0m\u001b[0;34m)\u001b[0m\u001b[0;34m\u001b[0m\u001b[0;34m\u001b[0m\u001b[0m\n\u001b[1;32m      5\u001b[0m \u001b[0my_te_pred\u001b[0m \u001b[0;34m=\u001b[0m \u001b[0mclf\u001b[0m\u001b[0;34m.\u001b[0m\u001b[0mpredict\u001b[0m\u001b[0;34m(\u001b[0m\u001b[0mtestData\u001b[0m\u001b[0;34m)\u001b[0m\u001b[0;34m\u001b[0m\u001b[0;34m\u001b[0m\u001b[0m\n",
            "\u001b[0;31mNameError\u001b[0m: name 'KNeighborsClassifier' is not defined"
          ]
        }
      ],
      "source": [
        "##### K-Nearest Neighbors ######\n",
        "clf = KNeighborsClassifier(n_neighbors=24)\n",
        "\n",
        "knnModel = clf.fit(trainData , trainLabelEncoder)\n",
        "y_te_pred = clf.predict(testData)\n",
        "y_probas=clf.predict_proba(testData)\n",
        "\n",
        "acc = accuracy_score(testLabelEncoder, y_te_pred)\n",
        "\n",
        "print(\"K-Nearest Neighbors Accuracy: %.5f\" % (acc))\n",
        "\n",
        "cf=confusion_matrix(testLabelEncoder,y_te_pred)\n",
        "print(cf)\n",
        "\n",
        "\n",
        "plt.figure()\n",
        "class_names = train.Activity.unique()\n",
        "plot_confusion_matrix(cf, classes=class_names,\n",
        "                     title='KNN Confusion Matrix, without normalization')\n",
        "\n",
        "import scikitplot as skplt\n",
        "skplt.metrics.plot_roc_curve(testLabelEncoder, y_probas, cmap='nipy_spectral')\n",
        "plt.show()\n"
      ]
    },
    {
      "cell_type": "code",
      "execution_count": null,
      "metadata": {
        "id": "uLpdWfMNqT70"
      },
      "outputs": [],
      "source": [
        "import numpy as np\n",
        "import pandas as pd\n",
        "import time"
      ]
    },
    {
      "cell_type": "code",
      "execution_count": null,
      "metadata": {
        "id": "0WFjHJsOqT71"
      },
      "outputs": [],
      "source": [
        "from sklearn import preprocessing\n",
        "from sklearn import utils\n",
        "\n",
        "ltrain = preprocessing.LabelEncoder()\n",
        "ltest = preprocessing.LabelEncoder()\n",
        "\n",
        "trainLabel = ltrain.fit_transform(trainLabel)\n",
        "testLabel  = ltest.fit_transform(testLabel)\n",
        "\n",
        "print(np.unique(trainLabel))\n",
        "print(np.unique(testLabel))\n",
        "print(\"Train Label shape : \",trainLabel.shape)\n",
        "print(\"Test Label shape  : \",testLabel.shape)\n",
        "print(utils.multiclass.type_of_target(testLabel))"
      ]
    },
    {
      "cell_type": "markdown",
      "metadata": {
        "id": "5p37bLMTqT71"
      },
      "source": [
        "# MODEL4-SVC CLASSIFIER"
      ]
    },
    {
      "cell_type": "code",
      "execution_count": null,
      "metadata": {
        "id": "tLB4VE3NqT71"
      },
      "outputs": [],
      "source": [
        "import matplotlib.pyplot as plt\n",
        "%matplotlib inline\n",
        "from sklearn.svm import SVC\n",
        "from sklearn.model_selection import StratifiedKFold\n",
        "from sklearn.feature_selection import RFECV\n",
        "from sklearn.utils import shuffle"
      ]
    },
    {
      "cell_type": "code",
      "execution_count": null,
      "metadata": {
        "scrolled": true,
        "id": "DDKJsHZtqT71",
        "outputId": "42ea4771-bc51-440c-c2cc-a635cda53dc1"
      },
      "outputs": [
        {
          "name": "stdout",
          "output_type": "stream",
          "text": [
            "Labels before Shuffle [2 2 2 2 2]\n",
            "Labels after Shuffle [2 0 2 5 4]\n"
          ]
        },
        {
          "name": "stderr",
          "output_type": "stream",
          "text": [
            "C:\\Users\\Asus\\Anaconda3\\lib\\site-packages\\ipykernel_launcher.py:1: DeprecationWarning: time.clock has been deprecated in Python 3.3 and will be removed from Python 3.8: use time.perf_counter or time.process_time instead\n",
            "  \"\"\"Entry point for launching an IPython kernel.\n"
          ]
        }
      ],
      "source": [
        "t0 = time.clock()\n",
        "\n",
        "svc = SVC(kernel=\"linear\")\n",
        "\n",
        "\n",
        "rfecv = RFECV(estimator=svc, step=1, cv=StratifiedKFold(6),\n",
        "              scoring='accuracy')\n",
        "\n",
        "np.random.seed(1)\n",
        "print(\"Labels before Shuffle\",testLabel[0:5])\n",
        "testData,testLabel = shuffle(testData,testLabel)\n",
        "trainData,trainLabel = shuffle(trainData,trainLabel)\n",
        "print(\"Labels after Shuffle\",testLabel[0:5])"
      ]
    },
    {
      "cell_type": "code",
      "execution_count": null,
      "metadata": {
        "id": "pc59AAKFqT71"
      },
      "outputs": [],
      "source": [
        "# train and fit data in the model\n",
        "rfecv.fit(trainData, trainLabel)\n",
        "\n",
        "print(\"Optimal number of features : %d\" % rfecv.n_features_)\n",
        "print(\"Processing time sec \",time.clock() - t0)\n"
      ]
    },
    {
      "cell_type": "code",
      "execution_count": null,
      "metadata": {
        "id": "R9Rshy4HqT71"
      },
      "outputs": [],
      "source": [
        "# Plot number of features VS. cross-validation scores\n",
        "plt.figure(figsize=(32,12))\n",
        "plt.xlabel(\"Number of features selected\")\n",
        "plt.ylabel(\"Cross validation score (nb of correct classifications)\")\n",
        "plt.plot(range(1, len(rfecv.grid_scores_) + 1), rfecv.grid_scores_)\n",
        "plt.show()"
      ]
    },
    {
      "cell_type": "code",
      "execution_count": null,
      "metadata": {
        "id": "h9MgIw6kqT71"
      },
      "outputs": [],
      "source": [
        "print('Accuracy of the SVM model on test data is ', rfecv.score(testData,testLabel) )\n",
        "print('Ranking of features starting from the best estimated \\n',rfecv.ranking_)\n",
        "\n",
        "best_features = []\n",
        "for ix,val in enumerate(rfecv.support_):\n",
        "    if val==True:\n",
        "         best_features.append(testData[:,ix])"
      ]
    },
    {
      "cell_type": "code",
      "execution_count": null,
      "metadata": {
        "id": "fLt1yEI-qT72"
      },
      "outputs": [],
      "source": [
        "from pandas.tools.plotting import scatter_matrix\n",
        "visualize = pd.DataFrame(np.asarray(best_features).T)\n",
        "print(visualize.shape)\n",
        "scatter_matrix(visualize.iloc[:,0:5], alpha=0.2, figsize=(16, 16), diagonal='kde')"
      ]
    },
    {
      "cell_type": "code",
      "execution_count": null,
      "metadata": {
        "id": "T9JfFEnOqT72",
        "outputId": "9ff6efa4-a6e8-4400-b970-ee4d0af5e6f2"
      },
      "outputs": [
        {
          "name": "stdout",
          "output_type": "stream",
          "text": [
            "Class labels striped off the dataset\n"
          ]
        }
      ],
      "source": [
        "#seperating class label from the dataset\n",
        "\n",
        "trainLabels= train.Activity.values\n",
        "trainData=train.drop(\"Activity\",axis=1).values\n",
        "\n",
        "testLabels= test.Activity.values\n",
        "testData=test.drop(\"Activity\",axis=1).values\n",
        "\n",
        "print(\"Class labels striped off the dataset\")"
      ]
    },
    {
      "cell_type": "code",
      "execution_count": null,
      "metadata": {
        "id": "SpVI6myTqT72",
        "outputId": "58bcc541-6dc4-4783-8690-fa481f00b3b9"
      },
      "outputs": [
        {
          "name": "stdout",
          "output_type": "stream",
          "text": [
            "Labels Transformed and Encoded\n"
          ]
        }
      ],
      "source": [
        "#transforming non-numerical labels to numerical labels using sklearn.preprocessing.LabelEncoder\n",
        "\n",
        "from sklearn import preprocessing\n",
        "labelEncoder= preprocessing.LabelEncoder()\n",
        "\n",
        "labelEncoder.fit(trainLabels)\n",
        "trainLabelsE=labelEncoder.transform(trainLabels)\n",
        "\n",
        "labelEncoder.fit(testLabels)\n",
        "testLabelsE=labelEncoder.transform(testLabels)\n",
        "\n",
        "print(\"Labels Transformed and Encoded\")"
      ]
    },
    {
      "cell_type": "code",
      "execution_count": null,
      "metadata": {
        "id": "KoDjR1d_qT72",
        "outputId": "8ecdfc19-d1cc-4153-e7da-4159be3fad72"
      },
      "outputs": [
        {
          "name": "stdout",
          "output_type": "stream",
          "text": [
            "Testing  set score for KNN_Distance(k=5): 0.808958\n",
            "Testing  set score for KNN_Distance(k=6): 0.809976\n",
            "Testing  set score for KNN_Distance(k=7): 0.808280\n",
            "Testing  set score for KNN_Distance(k=8): 0.809976\n",
            "Testing  set score for KNN_Distance(k=9): 0.808619\n",
            "Testing  set score for KNN_Distance(k=10): 0.811334\n",
            "Testing  set score for KNN_Distance(k=11): 0.812691\n",
            "Testing  set score for KNN_Distance(k=12): 0.811334\n",
            "Testing  set score for KNN_Distance(k=13): 0.813370\n",
            "Testing  set score for KNN_Distance(k=14): 0.813370\n",
            "Testing  set score for KNN_Distance(k=15): 0.815405\n",
            "Testing  set score for KNN_Distance(k=16): 0.817781\n",
            "Testing  set score for KNN_Distance(k=17): 0.813709\n",
            "Testing  set score for KNN_Distance(k=18): 0.819138\n",
            "Testing  set score for KNN_Distance(k=19): 0.816763\n",
            "Testing  set score for KNN_Distance(k=20): 0.819138\n",
            "Testing  set score for KNN_Distance(k=21): 0.815405\n",
            "Testing  set score for KNN_Distance(k=22): 0.817102\n",
            "Testing  set score for KNN_Distance(k=23): 0.818120\n",
            "Testing  set score for KNN_Distance(k=24): 0.818459\n",
            "Testing  set score for KNN_Distance(k=25): 0.813709\n",
            "Testing  set score for KNN_Distance(k=26): 0.816763\n",
            "Testing  set score for KNN_Distance(k=27): 0.815066\n",
            "Testing  set score for KNN_Distance(k=28): 0.815745\n",
            "Testing  set score for KNN_Distance(k=29): 0.814727\n",
            "Testing  set score for KNN_Distance(k=30): 0.817781\n",
            "Testing  set score for KNN_Distance(k=31): 0.815066\n",
            "Testing  set score for KNN_Distance(k=32): 0.813370\n",
            "Testing  set score for KNN_Distance(k=33): 0.814388\n",
            "Testing  set score for KNN_Distance(k=34): 0.813030\n",
            "Testing  set score for KNN_Distance(k=35): 0.813370\n",
            "Testing  set score for KNN_Distance(k=36): 0.814727\n",
            "Testing  set score for KNN_Distance(k=37): 0.813030\n",
            "Testing  set score for KNN_Distance(k=38): 0.813370\n",
            "Testing  set score for KNN_Distance(k=39): 0.811673\n",
            "Testing  set score for KNN_Distance(k=40): 0.813709\n",
            "Testing  set score for KNN_Distance(k=41): 0.814388\n",
            "Testing  set score for KNN_Distance(k=42): 0.815745\n",
            "Testing  set score for KNN_Distance(k=43): 0.816763\n",
            "Testing  set score for KNN_Distance(k=44): 0.813030\n",
            "Testing  set score for KNN_Distance(k=45): 0.813030\n",
            "Testing  set score for KNN_Distance(k=46): 0.813709\n",
            "Testing  set score for KNN_Distance(k=47): 0.813030\n",
            "Testing  set score for KNN_Distance(k=48): 0.813709\n",
            "Testing  set score for KNN_Distance(k=49): 0.812012\n",
            "Testing  set score for KNN_Distance(k=50): 0.810316\n",
            "Testing  set score for KNN_Uniform(k=5): 0.809637\n",
            "Testing  set score for KNN_Uniform(k=6): 0.819477\n",
            "Testing  set score for KNN_Uniform(k=7): 0.807262\n",
            "Testing  set score for KNN_Uniform(k=8): 0.815405\n",
            "Testing  set score for KNN_Uniform(k=9): 0.807262\n",
            "Testing  set score for KNN_Uniform(k=10): 0.816763\n",
            "Testing  set score for KNN_Uniform(k=11): 0.810994\n",
            "Testing  set score for KNN_Uniform(k=12): 0.813370\n",
            "Testing  set score for KNN_Uniform(k=13): 0.811673\n",
            "Testing  set score for KNN_Uniform(k=14): 0.813370\n",
            "Testing  set score for KNN_Uniform(k=15): 0.815066\n",
            "Testing  set score for KNN_Uniform(k=16): 0.813370\n",
            "Testing  set score for KNN_Uniform(k=17): 0.813030\n",
            "Testing  set score for KNN_Uniform(k=18): 0.814727\n",
            "Testing  set score for KNN_Uniform(k=19): 0.815066\n",
            "Testing  set score for KNN_Uniform(k=20): 0.814727\n",
            "Testing  set score for KNN_Uniform(k=21): 0.814388\n",
            "Testing  set score for KNN_Uniform(k=22): 0.814388\n",
            "Testing  set score for KNN_Uniform(k=23): 0.816423\n",
            "Testing  set score for KNN_Uniform(k=24): 0.815405\n",
            "Testing  set score for KNN_Uniform(k=25): 0.813370\n",
            "Testing  set score for KNN_Uniform(k=26): 0.814727\n",
            "Testing  set score for KNN_Uniform(k=27): 0.814388\n",
            "Testing  set score for KNN_Uniform(k=28): 0.815405\n",
            "Testing  set score for KNN_Uniform(k=29): 0.812012\n",
            "Testing  set score for KNN_Uniform(k=30): 0.815405\n",
            "Testing  set score for KNN_Uniform(k=31): 0.814388\n",
            "Testing  set score for KNN_Uniform(k=32): 0.813030\n",
            "Testing  set score for KNN_Uniform(k=33): 0.812691\n",
            "Testing  set score for KNN_Uniform(k=34): 0.812691\n",
            "Testing  set score for KNN_Uniform(k=35): 0.812012\n",
            "Testing  set score for KNN_Uniform(k=36): 0.814388\n",
            "Testing  set score for KNN_Uniform(k=37): 0.813370\n",
            "Testing  set score for KNN_Uniform(k=38): 0.812691\n",
            "Testing  set score for KNN_Uniform(k=39): 0.812012\n",
            "Testing  set score for KNN_Uniform(k=40): 0.813370\n",
            "Testing  set score for KNN_Uniform(k=41): 0.813370\n",
            "Testing  set score for KNN_Uniform(k=42): 0.814388\n",
            "Testing  set score for KNN_Uniform(k=43): 0.814727\n",
            "Testing  set score for KNN_Uniform(k=44): 0.813709\n",
            "Testing  set score for KNN_Uniform(k=45): 0.811334\n",
            "Testing  set score for KNN_Uniform(k=46): 0.813709\n",
            "Testing  set score for KNN_Uniform(k=47): 0.812012\n",
            "Testing  set score for KNN_Uniform(k=48): 0.813370\n",
            "Testing  set score for KNN_Uniform(k=49): 0.809637\n",
            "Testing  set score for KNN_Uniform(k=50): 0.809976\n"
          ]
        }
      ],
      "source": [
        "#applying k-nearest neighbours\n",
        "from sklearn.neighbors import KNeighborsClassifier as knn\n",
        "import numpy as np\n",
        "\n",
        "knnScoreDistance=np.zeros(51)\n",
        "knnScoreUniform=np.zeros(51)\n",
        "\n",
        "for num in range(5,51):\n",
        "    knnclf = knn(n_neighbors=num, weights='distance')\n",
        "    knnModel = knnclf.fit(trainData , trainLabelsE)\n",
        "    knnScoreDistance[num]=knnModel.score(testData  , testLabelsE )\n",
        "    print(\"Testing  set score for KNN_Distance(k=%d): %f\" %(num,knnScoreDistance[num]))\n",
        "    \n",
        "for num in range(5,51):\n",
        "    knnclf = knn(n_neighbors=num, weights='uniform')\n",
        "    knnModel = knnclf.fit(trainData , trainLabelsE)\n",
        "    knnScoreUniform[num]=knnModel.score(testData  , testLabelsE )\n",
        "    print(\"Testing  set score for KNN_Uniform(k=%d): %f\" %(num,knnScoreUniform[num]))"
      ]
    },
    {
      "cell_type": "code",
      "execution_count": null,
      "metadata": {
        "id": "qli3xD-5qT72",
        "outputId": "ed399bf7-b1a7-41d4-a02f-c253aa7a0a91"
      },
      "outputs": [
        {
          "data": {
            "text/plain": [
              "<function matplotlib.pyplot.show(*args, **kw)>"
            ]
          },
          "execution_count": 57,
          "metadata": {},
          "output_type": "execute_result"
        },
        {
          "data": {
            "image/png": "[encoded data removed]",
            "text/plain": [
              "<Figure size 432x288 with 1 Axes>"
            ]
          },
          "metadata": {
            "needs_background": "light"
          },
          "output_type": "display_data"
        }
      ],
      "source": [
        "import matplotlib.pyplot as plt\n",
        "\n",
        "x=np.array(range(5,51))\n",
        "\n",
        "plt.plot(x,knnScoreDistance[5:])\n",
        "plt.plot(x,knnScoreUniform[5:])\n",
        "plt.xlabel(\"No of neighbors (K)\")\n",
        "plt.ylabel(\"Test Data Mean Accuracy\")\n",
        "plt.legend(['KNN_Distance','KNN_Uniform'])\n",
        "plt.show"
      ]
    },
    {
      "cell_type": "code",
      "execution_count": null,
      "metadata": {
        "id": "9NepfEkcqT72"
      },
      "outputs": [],
      "source": [
        "import itertools\n",
        "import numpy as np\n",
        "import matplotlib.pyplot as plt\n",
        "def plot_confusion_matrix(cm, classes,\n",
        "                          normalize=False,\n",
        "                          title='Confusion matrix',\n",
        "                          cmap=plt.cm.Blues):\n",
        "    \"\"\"\n",
        "    This function prints and plots the confusion matrix.\n",
        "    Normalization can be applied by setting `normalize=True`.\n",
        "    \"\"\"\n",
        "    plt.imshow(cm, interpolation='nearest', cmap=cmap)\n",
        "    plt.title(title)\n",
        "    plt.colorbar()\n",
        "    tick_marks = np.arange(len(classes))\n",
        "    plt.xticks(tick_marks, classes, rotation=45)\n",
        "    plt.yticks(tick_marks, classes)\n",
        "\n",
        "    if normalize:\n",
        "        cm = cm.astype('float') / cm.sum(axis=1)[:, np.newaxis]\n",
        "        print(\"Normalized confusion matrix\")\n",
        "    else:\n",
        "        print('Confusion matrix, without normalization')\n",
        "\n",
        "    print(cm)\n",
        "\n",
        "    thresh = cm.max() / 2.\n",
        "    for i, j in itertools.product(range(cm.shape[0]), range(cm.shape[1])):\n",
        "        plt.text(j, i, cm[i, j],\n",
        "                 horizontalalignment=\"center\",\n",
        "                 color=\"white\" if cm[i, j] > thresh else \"black\")\n",
        "\n",
        "    plt.tight_layout()\n",
        "    plt.ylabel('True label')\n",
        "    plt.xlabel('Predicted label')"
      ]
    },
    {
      "cell_type": "markdown",
      "metadata": {
        "id": "g78QTWpRqT73"
      },
      "source": [
        "# MODEL5-DECISION TREE CLASSIFIER"
      ]
    },
    {
      "cell_type": "code",
      "execution_count": null,
      "metadata": {
        "id": "tfwnlpz8qT73"
      },
      "outputs": [],
      "source": [
        "from sklearn.tree import DecisionTreeClassifier\n",
        "from sklearn.metrics import accuracy_score,confusion_matrix\n",
        "\n",
        "decsnTreeClf= DecisionTreeClassifier(criterion='entropy')\n",
        "tree=decsnTreeClf.fit(trainData,trainLabelsE)\n",
        "testPred=tree.predict(testData)\n",
        "\n",
        "acc= accuracy_score(testLabelsE,testPred)\n",
        "cfs = confusion_matrix(testLabelsE, testPred)\n",
        "\n",
        "print(\"Accuracy: %f\" %acc)\n",
        "\n",
        "plt.figure()\n",
        "class_names = labelEncoder.classes_\n",
        "plot_confusion_matrix(cfs, classes=class_names,\n",
        "                      title='DecisionTree Confusion Matrix, without normalization')"
      ]
    },
    {
      "cell_type": "code",
      "execution_count": null,
      "metadata": {
        "id": "QoqYAfsXqT73"
      },
      "outputs": [],
      "source": [
        "decsnTreeClf= DecisionTreeClassifier()\n",
        "tree=decsnTreeClf.fit(trainData,trainLabelsE)\n",
        "testPred=tree.predict(testData)\n",
        "\n",
        "acc= accuracy_score(testLabelsE,testPred)\n",
        "cfs = confusion_matrix(testLabelsE, testPred)\n",
        "\n",
        "print(\"Accuracy: %f\" %acc)\n",
        "\n",
        "plt.figure()\n",
        "class_names = labelEncoder.classes_\n",
        "plot_confusion_matrix(cfs, classes=class_names,\n",
        "                      title='DecisionTree Confusion Matrix, without normalization')"
      ]
    },
    {
      "cell_type": "code",
      "execution_count": null,
      "metadata": {
        "id": "8FeAqMepqT73"
      },
      "outputs": [],
      "source": [
        "train_df.shape"
      ]
    },
    {
      "cell_type": "code",
      "execution_count": 168,
      "metadata": {
        "id": "5dyfHjSqqT73"
      },
      "outputs": [],
      "source": [
        "X, y = train_df.iloc[:, 0:len(train_df.columns) - 1], train_df.iloc[:, -1]"
      ]
    },
    {
      "cell_type": "code",
      "execution_count": 169,
      "metadata": {
        "id": "ZeUPt6u7qT73"
      },
      "outputs": [],
      "source": [
        "X_test, y_test = test_df.iloc[:, 0:len(test_df.columns) -1], test_df.iloc[:, -1]"
      ]
    },
    {
      "cell_type": "code",
      "execution_count": 166,
      "metadata": {
        "id": "qjZZUOGCqT73"
      },
      "outputs": [],
      "source": [
        "from sklearn.tree import DecisionTreeClassifier\n",
        "from sklearn.neighbors import KNeighborsClassifier\n",
        "from sklearn.svm import SVC\n",
        "from sklearn.naive_bayes import GaussianNB\n",
        "from sklearn.discriminant_analysis import QuadraticDiscriminantAnalysis\n",
        "from sklearn.metrics import accuracy_score "
      ]
    },
    {
      "cell_type": "code",
      "execution_count": 167,
      "metadata": {
        "id": "7EunffWFqT73"
      },
      "outputs": [],
      "source": [
        "classifiers = [\n",
        "    LogisticRegression(C=10),\n",
        "    DecisionTreeClassifier(),\n",
        "    RandomForestClassifier(500),\n",
        "    KNeighborsClassifier(7), \n",
        "    SVC(kernel='rbf',C=100),\n",
        "    GaussianNB(),\n",
        "    QuadraticDiscriminantAnalysis()\n",
        "]"
      ]
    },
    {
      "cell_type": "code",
      "source": [
        "names = []\n",
        "scores = []\n",
        "\n",
        "for clf in classifiers:\n",
        "    clf = clf.fit(X, y)\n",
        "    y_pred = clf.predict(X_test)\n",
        "    y_probas=clf.predict(X_test)\n",
        "    \n",
        "    names.append(clf.__class__.__name__)\n",
        "    scores.append(accuracy_score(y_pred, y_test))\n",
        "    cf=confusion_matrix(y_test,y_pred)"
      ],
      "metadata": {
        "colab": {
          "base_uri": "https://localhost:8080/"
        },
        "id": "waY1Wx3l3WDU",
        "outputId": "e93a8c7e-72f1-4307-ea63-fe2ace473d12"
      },
      "execution_count": 173,
      "outputs": [
        {
          "output_type": "stream",
          "name": "stderr",
          "text": [
            "/usr/local/lib/python3.7/dist-packages/sklearn/linear_model/_logistic.py:818: ConvergenceWarning: lbfgs failed to converge (status=1):\n",
            "STOP: TOTAL NO. of ITERATIONS REACHED LIMIT.\n",
            "\n",
            "Increase the number of iterations (max_iter) or scale the data as shown in:\n",
            "    https://scikit-learn.org/stable/modules/preprocessing.html\n",
            "Please also refer to the documentation for alternative solver options:\n",
            "    https://scikit-learn.org/stable/modules/linear_model.html#logistic-regression\n",
            "  extra_warning_msg=_LOGISTIC_SOLVER_CONVERGENCE_MSG,\n",
            "/usr/local/lib/python3.7/dist-packages/sklearn/discriminant_analysis.py:878: UserWarning: Variables are collinear\n",
            "  warnings.warn(\"Variables are collinear\")\n"
          ]
        }
      ]
    },
    {
      "cell_type": "code",
      "source": [
        "names = []\n",
        "scores = []\n",
        "\n",
        "for clf in classifiers:\n",
        "    clf = clf.fit(X, y)\n",
        "    y_pred = clf.predict(X_test)\n",
        "    y_probas=clf.predict(X_test)\n",
        "    \n",
        "    names.append(clf.__class__.__name__)\n",
        "\n",
        "print(names)"
      ],
      "metadata": {
        "colab": {
          "base_uri": "https://localhost:8080/"
        },
        "id": "W-TCfEVL3WGq",
        "outputId": "6d24b9d8-0831-48f7-ad68-33d02eaabf6c"
      },
      "execution_count": 174,
      "outputs": [
        {
          "output_type": "stream",
          "name": "stderr",
          "text": [
            "/usr/local/lib/python3.7/dist-packages/sklearn/linear_model/_logistic.py:818: ConvergenceWarning: lbfgs failed to converge (status=1):\n",
            "STOP: TOTAL NO. of ITERATIONS REACHED LIMIT.\n",
            "\n",
            "Increase the number of iterations (max_iter) or scale the data as shown in:\n",
            "    https://scikit-learn.org/stable/modules/preprocessing.html\n",
            "Please also refer to the documentation for alternative solver options:\n",
            "    https://scikit-learn.org/stable/modules/linear_model.html#logistic-regression\n",
            "  extra_warning_msg=_LOGISTIC_SOLVER_CONVERGENCE_MSG,\n",
            "/usr/local/lib/python3.7/dist-packages/sklearn/discriminant_analysis.py:878: UserWarning: Variables are collinear\n",
            "  warnings.warn(\"Variables are collinear\")\n"
          ]
        },
        {
          "output_type": "stream",
          "name": "stdout",
          "text": [
            "['LogisticRegression', 'DecisionTreeClassifier', 'RandomForestClassifier', 'KNeighborsClassifier', 'SVC', 'GaussianNB', 'QuadraticDiscriminantAnalysis']\n"
          ]
        }
      ]
    },
    {
      "cell_type": "code",
      "execution_count": 172,
      "metadata": {
        "colab": {
          "base_uri": "https://localhost:8080/",
          "height": 595
        },
        "id": "DISCaMrSqT74",
        "outputId": "c40edd90-f152-4354-c5b5-afd0d31528ad"
      },
      "outputs": [
        {
          "output_type": "stream",
          "name": "stderr",
          "text": [
            "/usr/local/lib/python3.7/dist-packages/sklearn/linear_model/_logistic.py:818: ConvergenceWarning: lbfgs failed to converge (status=1):\n",
            "STOP: TOTAL NO. of ITERATIONS REACHED LIMIT.\n",
            "\n",
            "Increase the number of iterations (max_iter) or scale the data as shown in:\n",
            "    https://scikit-learn.org/stable/modules/preprocessing.html\n",
            "Please also refer to the documentation for alternative solver options:\n",
            "    https://scikit-learn.org/stable/modules/linear_model.html#logistic-regression\n",
            "  extra_warning_msg=_LOGISTIC_SOLVER_CONVERGENCE_MSG,\n",
            "/usr/local/lib/python3.7/dist-packages/sklearn/discriminant_analysis.py:878: UserWarning: Variables are collinear\n",
            "  warnings.warn(\"Variables are collinear\")\n"
          ]
        },
        {
          "output_type": "execute_result",
          "data": {
            "text/plain": [
              "                                  Score\n",
              "Model                                  \n",
              "LogisticRegression             0.957245\n",
              "DecisionTreeClassifier         0.862572\n",
              "RandomForestClassifier         0.924330\n",
              "KNeighborsClassifier           0.902273\n",
              "SVC                            0.965389\n",
              "GaussianNB                     0.770275\n",
              "QuadraticDiscriminantAnalysis  0.800814"
            ],
            "text/html": [
              "\n",
              "  <div id=\"df-233d9fe4-3002-46cf-ba71-c79e9bb4e72f\">\n",
              "    <div class=\"colab-df-container\">\n",
              "      <div>\n",
              "<style scoped>\n",
              "    .dataframe tbody tr th:only-of-type {\n",
              "        vertical-align: middle;\n",
              "    }\n",
              "\n",
              "    .dataframe tbody tr th {\n",
              "        vertical-align: top;\n",
              "    }\n",
              "\n",
              "    .dataframe thead th {\n",
              "        text-align: right;\n",
              "    }\n",
              "</style>\n",
              "<table border=\"1\" class=\"dataframe\">\n",
              "  <thead>\n",
              "    <tr style=\"text-align: right;\">\n",
              "      <th></th>\n",
              "      <th>Score</th>\n",
              "    </tr>\n",
              "    <tr>\n",
              "      <th>Model</th>\n",
              "      <th></th>\n",
              "    </tr>\n",
              "  </thead>\n",
              "  <tbody>\n",
              "    <tr>\n",
              "      <th>LogisticRegression</th>\n",
              "      <td>0.957245</td>\n",
              "    </tr>\n",
              "    <tr>\n",
              "      <th>DecisionTreeClassifier</th>\n",
              "      <td>0.862572</td>\n",
              "    </tr>\n",
              "    <tr>\n",
              "      <th>RandomForestClassifier</th>\n",
              "      <td>0.924330</td>\n",
              "    </tr>\n",
              "    <tr>\n",
              "      <th>KNeighborsClassifier</th>\n",
              "      <td>0.902273</td>\n",
              "    </tr>\n",
              "    <tr>\n",
              "      <th>SVC</th>\n",
              "      <td>0.965389</td>\n",
              "    </tr>\n",
              "    <tr>\n",
              "      <th>GaussianNB</th>\n",
              "      <td>0.770275</td>\n",
              "    </tr>\n",
              "    <tr>\n",
              "      <th>QuadraticDiscriminantAnalysis</th>\n",
              "      <td>0.800814</td>\n",
              "    </tr>\n",
              "  </tbody>\n",
              "</table>\n",
              "</div>\n",
              "      <button class=\"colab-df-convert\" onclick=\"convertToInteractive('df-233d9fe4-3002-46cf-ba71-c79e9bb4e72f')\"\n",
              "              title=\"Convert this dataframe to an interactive table.\"\n",
              "              style=\"display:none;\">\n",
              "        \n",
              "  <svg xmlns=\"http://www.w3.org/2000/svg\" height=\"24px\"viewBox=\"0 0 24 24\"\n",
              "       width=\"24px\">\n",
              "    <path d=\"M0 0h24v24H0V0z\" fill=\"none\"/>\n",
              "    <path d=\"M18.56 5.44l.94 2.06.94-2.06 2.06-.94-2.06-.94-.94-2.06-.94 2.06-2.06.94zm-11 1L8.5 8.5l.94-2.06 2.06-.94-2.06-.94L8.5 2.5l-.94 2.06-2.06.94zm10 10l.94 2.06.94-2.06 2.06-.94-2.06-.94-.94-2.06-.94 2.06-2.06.94z\"/><path d=\"M17.41 7.96l-1.37-1.37c-.4-.4-.92-.59-1.43-.59-.52 0-1.04.2-1.43.59L10.3 9.45l-7.72 7.72c-.78.78-.78 2.05 0 2.83L4 21.41c.39.39.9.59 1.41.59.51 0 1.02-.2 1.41-.59l7.78-7.78 2.81-2.81c.8-.78.8-2.07 0-2.86zM5.41 20L4 18.59l7.72-7.72 1.47 1.35L5.41 20z\"/>\n",
              "  </svg>\n",
              "      </button>\n",
              "      \n",
              "  <style>\n",
              "    .colab-df-container {\n",
              "      display:flex;\n",
              "      flex-wrap:wrap;\n",
              "      gap: 12px;\n",
              "    }\n",
              "\n",
              "    .colab-df-convert {\n",
              "      background-color: #E8F0FE;\n",
              "      border: none;\n",
              "      border-radius: 50%;\n",
              "      cursor: pointer;\n",
              "      display: none;\n",
              "      fill: #1967D2;\n",
              "      height: 32px;\n",
              "      padding: 0 0 0 0;\n",
              "      width: 32px;\n",
              "    }\n",
              "\n",
              "    .colab-df-convert:hover {\n",
              "      background-color: #E2EBFA;\n",
              "      box-shadow: 0px 1px 2px rgba(60, 64, 67, 0.3), 0px 1px 3px 1px rgba(60, 64, 67, 0.15);\n",
              "      fill: #174EA6;\n",
              "    }\n",
              "\n",
              "    [theme=dark] .colab-df-convert {\n",
              "      background-color: #3B4455;\n",
              "      fill: #D2E3FC;\n",
              "    }\n",
              "\n",
              "    [theme=dark] .colab-df-convert:hover {\n",
              "      background-color: #434B5C;\n",
              "      box-shadow: 0px 1px 3px 1px rgba(0, 0, 0, 0.15);\n",
              "      filter: drop-shadow(0px 1px 2px rgba(0, 0, 0, 0.3));\n",
              "      fill: #FFFFFF;\n",
              "    }\n",
              "  </style>\n",
              "\n",
              "      <script>\n",
              "        const buttonEl =\n",
              "          document.querySelector('#df-233d9fe4-3002-46cf-ba71-c79e9bb4e72f button.colab-df-convert');\n",
              "        buttonEl.style.display =\n",
              "          google.colab.kernel.accessAllowed ? 'block' : 'none';\n",
              "\n",
              "        async function convertToInteractive(key) {\n",
              "          const element = document.querySelector('#df-233d9fe4-3002-46cf-ba71-c79e9bb4e72f');\n",
              "          const dataTable =\n",
              "            await google.colab.kernel.invokeFunction('convertToInteractive',\n",
              "                                                     [key], {});\n",
              "          if (!dataTable) return;\n",
              "\n",
              "          const docLinkHtml = 'Like what you see? Visit the ' +\n",
              "            '<a target=\"_blank\" href=https://colab.research.google.com/notebooks/data_table.ipynb>data table notebook</a>'\n",
              "            + ' to learn more about interactive tables.';\n",
              "          element.innerHTML = '';\n",
              "          dataTable['output_type'] = 'display_data';\n",
              "          await google.colab.output.renderOutput(dataTable, element);\n",
              "          const docLink = document.createElement('div');\n",
              "          docLink.innerHTML = docLinkHtml;\n",
              "          element.appendChild(docLink);\n",
              "        }\n",
              "      </script>\n",
              "    </div>\n",
              "  </div>\n",
              "  "
            ]
          },
          "metadata": {},
          "execution_count": 172
        },
        {
          "output_type": "display_data",
          "data": {
            "text/plain": [
              "<Figure size 432x288 with 0 Axes>"
            ]
          },
          "metadata": {}
        },
        {
          "output_type": "display_data",
          "data": {
            "text/plain": [
              "<Figure size 432x288 with 0 Axes>"
            ]
          },
          "metadata": {}
        },
        {
          "output_type": "display_data",
          "data": {
            "text/plain": [
              "<Figure size 432x288 with 0 Axes>"
            ]
          },
          "metadata": {}
        },
        {
          "output_type": "display_data",
          "data": {
            "text/plain": [
              "<Figure size 432x288 with 0 Axes>"
            ]
          },
          "metadata": {}
        },
        {
          "output_type": "display_data",
          "data": {
            "text/plain": [
              "<Figure size 432x288 with 0 Axes>"
            ]
          },
          "metadata": {}
        },
        {
          "output_type": "display_data",
          "data": {
            "text/plain": [
              "<Figure size 432x288 with 0 Axes>"
            ]
          },
          "metadata": {}
        },
        {
          "output_type": "display_data",
          "data": {
            "text/plain": [
              "<Figure size 432x288 with 0 Axes>"
            ]
          },
          "metadata": {}
        }
      ],
      "source": [
        "names = []\n",
        "scores = []\n",
        "\n",
        "for clf in classifiers:\n",
        "    clf = clf.fit(X, y)\n",
        "    y_pred = clf.predict(X_test)\n",
        "    y_probas=clf.predict(X_test)\n",
        "    \n",
        "    names.append(clf.__class__.__name__)\n",
        "    scores.append(accuracy_score(y_pred, y_test))\n",
        "    cf=confusion_matrix(y_test,y_pred)\n",
        "    plt.figure()\n",
        "    class_names = train.Activity.unique()\n",
        "    #plot_confusion_matrix(cf, classes=class_names,title=('Confusion Matrix, without normalization'))\n",
        "    #skplt.metrics.plot_roc_curve(y_test, y_probas, cmap='nipy_spectral')\n",
        "    #plt.show()\n",
        "\n",
        "\n",
        "score_df = pd.DataFrame({'Model': names, 'Score': scores}).set_index('Model')\n",
        "score_df"
      ]
    },
    {
      "cell_type": "code",
      "execution_count": null,
      "metadata": {
        "id": "_MTkeht2qT74"
      },
      "outputs": [],
      "source": [
        "import matplotlib.pyplot as plt\n",
        "%matplotlib inline\n",
        "\n",
        "ax = score_df.plot.bar()\n",
        "ax.set_xticklabels(score_df.index, rotation=45, fontsize=10)"
      ]
    },
    {
      "cell_type": "code",
      "execution_count": 165,
      "metadata": {
        "colab": {
          "base_uri": "https://localhost:8080/",
          "height": 235
        },
        "id": "myPiwvt0qT74",
        "outputId": "c7c9aac5-54d1-4a60-cc66-2a4e4d3206e0"
      },
      "outputs": [
        {
          "output_type": "error",
          "ename": "NameError",
          "evalue": "ignored",
          "traceback": [
            "\u001b[0;31m---------------------------------------------------------------------------\u001b[0m",
            "\u001b[0;31mNameError\u001b[0m                                 Traceback (most recent call last)",
            "\u001b[0;32m<ipython-input-165-b4b0c46a8910>\u001b[0m in \u001b[0;36m<module>\u001b[0;34m()\u001b[0m\n\u001b[1;32m      7\u001b[0m }\n\u001b[1;32m      8\u001b[0m \u001b[0;34m\u001b[0m\u001b[0m\n\u001b[0;32m----> 9\u001b[0;31m \u001b[0mselector\u001b[0m \u001b[0;34m=\u001b[0m \u001b[0mGridSearchCV\u001b[0m\u001b[0;34m(\u001b[0m\u001b[0mSVC\u001b[0m\u001b[0;34m(\u001b[0m\u001b[0;34m)\u001b[0m\u001b[0;34m,\u001b[0m \u001b[0mparameters\u001b[0m\u001b[0;34m,\u001b[0m \u001b[0mscoring\u001b[0m\u001b[0;34m=\u001b[0m\u001b[0;34m'accuracy'\u001b[0m\u001b[0;34m)\u001b[0m \u001b[0;31m# we only care about accuracy here\u001b[0m\u001b[0;34m\u001b[0m\u001b[0;34m\u001b[0m\u001b[0m\n\u001b[0m\u001b[1;32m     10\u001b[0m \u001b[0mselector\u001b[0m\u001b[0;34m.\u001b[0m\u001b[0mfit\u001b[0m\u001b[0;34m(\u001b[0m\u001b[0mX\u001b[0m\u001b[0;34m,\u001b[0m \u001b[0my\u001b[0m\u001b[0;34m)\u001b[0m\u001b[0;34m\u001b[0m\u001b[0;34m\u001b[0m\u001b[0m\n\u001b[1;32m     11\u001b[0m \u001b[0;34m\u001b[0m\u001b[0m\n",
            "\u001b[0;31mNameError\u001b[0m: name 'SVC' is not defined"
          ]
        }
      ],
      "source": [
        "from sklearn.model_selection import GridSearchCV\n",
        "\n",
        "parameters = {\n",
        "    'kernel': ['linear', 'rbf', 'poly','sigmoid'],\n",
        "    'C': [100, 50, 20, 1, 0.1],\n",
        "    'gamma' :10. ** np.arange(-5, 4)\n",
        "}\n",
        "\n",
        "selector = GridSearchCV(SVC(), parameters, scoring='accuracy') # we only care about accuracy here\n",
        "selector.fit(X, y)\n",
        "\n",
        "print('Best parameter set found:')\n",
        "print(selector.best_params_)\n",
        "print('Detailed grid scores:')\n",
        "means = selector.cv_results_['mean_test_score']\n",
        "stds = selector.cv_results_['std_test_score']\n",
        "for mean, std, params in zip(means, stds, selector.cv_results_['params']):\n",
        "    print('%0.3f (+/-%0.03f) for %r' % (mean, std * 2, params))\n",
        "    print()"
      ]
    },
    {
      "cell_type": "code",
      "execution_count": null,
      "metadata": {
        "id": "ezr0qltCqT74"
      },
      "outputs": [],
      "source": [
        "clf = SVC(kernel='rbf', C=100).fit(X, y)\n",
        "y_pred = clf.predict(X_test)\n",
        "print('Accuracy score:', accuracy_score(y_test, y_pred))\n",
        "\n",
        "plt.figure()\n",
        "class_names = labelEncoder.classes_\n",
        "plot_confusion_matrix(cfs, classes=class_names,\n",
        "                      title='SVC with RBF kernel Confusion Matrix, without normalization')"
      ]
    },
    {
      "cell_type": "code",
      "execution_count": null,
      "metadata": {
        "id": "SRAA5gUzqT74"
      },
      "outputs": [],
      "source": [
        ""
      ]
    },
    {
      "cell_type": "code",
      "execution_count": null,
      "metadata": {
        "id": "rRM5HJTgqT74"
      },
      "outputs": [],
      "source": [
        ""
      ]
    }
  ],
  "metadata": {
    "kernelspec": {
      "display_name": "Python 3 (ipykernel)",
      "language": "python",
      "name": "python3"
    },
    "language_info": {
      "codemirror_mode": {
        "name": "ipython",
        "version": 3
      },
      "file_extension": ".py",
      "mimetype": "text/x-python",
      "name": "python",
      "nbconvert_exporter": "python",
      "pygments_lexer": "ipython3",
      "version": "3.9.7"
    },
    "colab": {
      "name": "Human Activity Recognition-Classification-Project_2.ipynb",
      "provenance": [],
      "collapsed_sections": [
        "n4RuaHXCqT70",
        "5p37bLMTqT71",
        "g78QTWpRqT73"
      ]
    }
  },
  "nbformat": 4,
  "nbformat_minor": 0
}